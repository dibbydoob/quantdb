{
 "cells": [
  {
   "cell_type": "code",
   "execution_count": 5,
   "id": "initial_id",
   "metadata": {
    "collapsed": true,
    "ExecuteTime": {
     "end_time": "2024-02-01T14:38:34.271889200Z",
     "start_time": "2024-02-01T14:38:31.319147500Z"
    }
   },
   "outputs": [
    {
     "name": "stderr",
     "output_type": "stream",
     "text": [
      "\u001B[32m[INFO]-setting up API-client for environment practice\u001B[0m\n"
     ]
    }
   ],
   "source": [
    "from data_service.data_master import DataMaster\n",
    "import data_service.wrappers.eod_wrapper as wrap\n",
    "import pandas as pd\n",
    "import numpy as np\n",
    "import asyncio\n",
    "from alpha_tickers import alpha_tickers\n",
    "from scipy import stats\n",
    "pd.options.mode.chained_assignment = None\n",
    "dm = DataMaster(config_file_path=r'C:\\Users\\thoma\\quantdb\\data_service\\config.json')\n"
   ]
  },
  {
   "cell_type": "code",
   "outputs": [
    {
     "name": "stderr",
     "output_type": "stream",
     "text": [
      "\u001B[36m[DEBUG]-try https://eodhistoricaldata.com/api/eod/AMD.US?api_token=6318e406a42036.19146604&fmt=json&from=2014-02-03&to=2024-02-01 0\u001B[0m\n",
      "\u001B[36m[DEBUG]-try https://eodhistoricaldata.com/api/eod/CVX.US?api_token=6318e406a42036.19146604&fmt=json&from=2014-02-03&to=2024-02-01 0\u001B[0m\n",
      "\u001B[36m[DEBUG]-try https://eodhistoricaldata.com/api/eod/ALK.US?api_token=6318e406a42036.19146604&fmt=json&from=2014-02-03&to=2024-02-01 0\u001B[0m\n",
      "\u001B[36m[DEBUG]-try https://eodhistoricaldata.com/api/eod/CHWY.US?api_token=6318e406a42036.19146604&fmt=json&from=2014-02-03&to=2024-02-01 0\u001B[0m\n",
      "\u001B[36m[DEBUG]-try https://eodhistoricaldata.com/api/eod/AGNC.US?api_token=6318e406a42036.19146604&fmt=json&from=2014-02-03&to=2024-02-01 0\u001B[0m\n",
      "\u001B[36m[DEBUG]-try https://eodhistoricaldata.com/api/eod/ADI.US?api_token=6318e406a42036.19146604&fmt=json&from=2014-02-03&to=2024-02-01 0\u001B[0m\n",
      "\u001B[36m[DEBUG]-try https://eodhistoricaldata.com/api/eod/EXC.US?api_token=6318e406a42036.19146604&fmt=json&from=2014-02-03&to=2024-02-01 0\u001B[0m\n",
      "\u001B[36m[DEBUG]-try https://eodhistoricaldata.com/api/eod/DKNG.US?api_token=6318e406a42036.19146604&fmt=json&from=2014-02-03&to=2024-02-01 0\u001B[0m\n",
      "\u001B[36m[DEBUG]-try https://eodhistoricaldata.com/api/eod/APA.US?api_token=6318e406a42036.19146604&fmt=json&from=2014-02-03&to=2024-02-01 0\u001B[0m\n",
      "\u001B[36m[DEBUG]-try https://eodhistoricaldata.com/api/eod/AMZN.US?api_token=6318e406a42036.19146604&fmt=json&from=2014-02-03&to=2024-02-01 0\u001B[0m\n",
      "\u001B[36m[DEBUG]-try https://eodhistoricaldata.com/api/eod/BBY.US?api_token=6318e406a42036.19146604&fmt=json&from=2014-02-03&to=2024-02-01 0\u001B[0m\n",
      "\u001B[36m[DEBUG]-try https://eodhistoricaldata.com/api/eod/AXP.US?api_token=6318e406a42036.19146604&fmt=json&from=2014-02-03&to=2024-02-01 0\u001B[0m\n",
      "\u001B[36m[DEBUG]-try https://eodhistoricaldata.com/api/eod/EVRG.US?api_token=6318e406a42036.19146604&fmt=json&from=2014-02-03&to=2024-02-01 0\u001B[0m\n",
      "\u001B[36m[DEBUG]-try https://eodhistoricaldata.com/api/eod/CCI.US?api_token=6318e406a42036.19146604&fmt=json&from=2014-02-03&to=2024-02-01 0\u001B[0m\n",
      "\u001B[36m[DEBUG]-try https://eodhistoricaldata.com/api/eod/AAL.US?api_token=6318e406a42036.19146604&fmt=json&from=2014-02-03&to=2024-02-01 0\u001B[0m\n",
      "\u001B[36m[DEBUG]-try https://eodhistoricaldata.com/api/eod/CRM.US?api_token=6318e406a42036.19146604&fmt=json&from=2014-02-03&to=2024-02-01 0\u001B[0m\n",
      "\u001B[36m[DEBUG]-try https://eodhistoricaldata.com/api/eod/BYND.US?api_token=6318e406a42036.19146604&fmt=json&from=2014-02-03&to=2024-02-01 0\u001B[0m\n",
      "\u001B[36m[DEBUG]-try https://eodhistoricaldata.com/api/eod/EIX.US?api_token=6318e406a42036.19146604&fmt=json&from=2014-02-03&to=2024-02-01 0\u001B[0m\n",
      "\u001B[36m[DEBUG]-try https://eodhistoricaldata.com/api/eod/CSX.US?api_token=6318e406a42036.19146604&fmt=json&from=2014-02-03&to=2024-02-01 0\u001B[0m\n",
      "\u001B[36m[DEBUG]-try https://eodhistoricaldata.com/api/eod/CAH.US?api_token=6318e406a42036.19146604&fmt=json&from=2014-02-03&to=2024-02-01 0\u001B[0m\n",
      "\u001B[36m[DEBUG]-try https://eodhistoricaldata.com/api/eod/CVS.US?api_token=6318e406a42036.19146604&fmt=json&from=2014-02-03&to=2024-02-01 0\u001B[0m\n",
      "\u001B[36m[DEBUG]-try https://eodhistoricaldata.com/api/eod/A.US?api_token=6318e406a42036.19146604&fmt=json&from=2014-02-03&to=2024-02-01 0\u001B[0m\n",
      "\u001B[36m[DEBUG]-try https://eodhistoricaldata.com/api/eod/DOCU.US?api_token=6318e406a42036.19146604&fmt=json&from=2014-02-03&to=2024-02-01 0\u001B[0m\n",
      "\u001B[36m[DEBUG]-try https://eodhistoricaldata.com/api/eod/CRON.US?api_token=6318e406a42036.19146604&fmt=json&from=2014-02-03&to=2024-02-01 0\u001B[0m\n",
      "\u001B[36m[DEBUG]-try https://eodhistoricaldata.com/api/eod/APH.US?api_token=6318e406a42036.19146604&fmt=json&from=2014-02-03&to=2024-02-01 0\u001B[0m\n",
      "\u001B[36m[DEBUG]-try https://eodhistoricaldata.com/api/eod/AMGN.US?api_token=6318e406a42036.19146604&fmt=json&from=2014-02-03&to=2024-02-01 0\u001B[0m\n",
      "\u001B[36m[DEBUG]-try https://eodhistoricaldata.com/api/eod/BK.US?api_token=6318e406a42036.19146604&fmt=json&from=2014-02-03&to=2024-02-01 0\u001B[0m\n",
      "\u001B[36m[DEBUG]-try https://eodhistoricaldata.com/api/eod/DXC.US?api_token=6318e406a42036.19146604&fmt=json&from=2014-02-03&to=2024-02-01 0\u001B[0m\n",
      "\u001B[36m[DEBUG]-try https://eodhistoricaldata.com/api/eod/BP.US?api_token=6318e406a42036.19146604&fmt=json&from=2014-02-03&to=2024-02-01 0\u001B[0m\n",
      "\u001B[36m[DEBUG]-try https://eodhistoricaldata.com/api/eod/DHI.US?api_token=6318e406a42036.19146604&fmt=json&from=2014-02-03&to=2024-02-01 0\u001B[0m\n",
      "\u001B[36m[DEBUG]-try https://eodhistoricaldata.com/api/eod/BAC.US?api_token=6318e406a42036.19146604&fmt=json&from=2014-02-03&to=2024-02-01 0\u001B[0m\n",
      "\u001B[36m[DEBUG]-try https://eodhistoricaldata.com/api/eod/DRI.US?api_token=6318e406a42036.19146604&fmt=json&from=2014-02-03&to=2024-02-01 0\u001B[0m\n",
      "\u001B[36m[DEBUG]-try https://eodhistoricaldata.com/api/eod/BAX.US?api_token=6318e406a42036.19146604&fmt=json&from=2014-02-03&to=2024-02-01 0\u001B[0m\n",
      "\u001B[36m[DEBUG]-try https://eodhistoricaldata.com/api/eod/BKR.US?api_token=6318e406a42036.19146604&fmt=json&from=2014-02-03&to=2024-02-01 0\u001B[0m\n",
      "\u001B[36m[DEBUG]-try https://eodhistoricaldata.com/api/eod/DE.US?api_token=6318e406a42036.19146604&fmt=json&from=2014-02-03&to=2024-02-01 0\u001B[0m\n",
      "\u001B[36m[DEBUG]-try https://eodhistoricaldata.com/api/eod/ALL.US?api_token=6318e406a42036.19146604&fmt=json&from=2014-02-03&to=2024-02-01 0\u001B[0m\n",
      "\u001B[36m[DEBUG]-try https://eodhistoricaldata.com/api/eod/ABBV.US?api_token=6318e406a42036.19146604&fmt=json&from=2014-02-03&to=2024-02-01 0\u001B[0m\n",
      "\u001B[36m[DEBUG]-try https://eodhistoricaldata.com/api/eod/AKAM.US?api_token=6318e406a42036.19146604&fmt=json&from=2014-02-03&to=2024-02-01 0\u001B[0m\n",
      "\u001B[36m[DEBUG]-try https://eodhistoricaldata.com/api/eod/CI.US?api_token=6318e406a42036.19146604&fmt=json&from=2014-02-03&to=2024-02-01 0\u001B[0m\n",
      "\u001B[36m[DEBUG]-try https://eodhistoricaldata.com/api/eod/APTV.US?api_token=6318e406a42036.19146604&fmt=json&from=2014-02-03&to=2024-02-01 0\u001B[0m\n",
      "\u001B[36m[DEBUG]-try https://eodhistoricaldata.com/api/eod/BA.US?api_token=6318e406a42036.19146604&fmt=json&from=2014-02-03&to=2024-02-01 0\u001B[0m\n",
      "\u001B[36m[DEBUG]-try https://eodhistoricaldata.com/api/eod/CRWD.US?api_token=6318e406a42036.19146604&fmt=json&from=2014-02-03&to=2024-02-01 0\u001B[0m\n",
      "\u001B[36m[DEBUG]-try https://eodhistoricaldata.com/api/eod/AVGO.US?api_token=6318e406a42036.19146604&fmt=json&from=2014-02-03&to=2024-02-01 0\u001B[0m\n",
      "\u001B[36m[DEBUG]-try https://eodhistoricaldata.com/api/eod/BIIB.US?api_token=6318e406a42036.19146604&fmt=json&from=2014-02-03&to=2024-02-01 0\u001B[0m\n",
      "\u001B[36m[DEBUG]-try https://eodhistoricaldata.com/api/eod/ADSK.US?api_token=6318e406a42036.19146604&fmt=json&from=2014-02-03&to=2024-02-01 0\u001B[0m\n",
      "\u001B[36m[DEBUG]-try https://eodhistoricaldata.com/api/eod/CNP.US?api_token=6318e406a42036.19146604&fmt=json&from=2014-02-03&to=2024-02-01 0\u001B[0m\n",
      "\u001B[36m[DEBUG]-try https://eodhistoricaldata.com/api/eod/CMCSA.US?api_token=6318e406a42036.19146604&fmt=json&from=2014-02-03&to=2024-02-01 0\u001B[0m\n",
      "\u001B[36m[DEBUG]-try https://eodhistoricaldata.com/api/eod/D.US?api_token=6318e406a42036.19146604&fmt=json&from=2014-02-03&to=2024-02-01 0\u001B[0m\n",
      "\u001B[36m[DEBUG]-try https://eodhistoricaldata.com/api/eod/CZR.US?api_token=6318e406a42036.19146604&fmt=json&from=2014-02-03&to=2024-02-01 0\u001B[0m\n",
      "\u001B[36m[DEBUG]-try https://eodhistoricaldata.com/api/eod/EBAY.US?api_token=6318e406a42036.19146604&fmt=json&from=2014-02-03&to=2024-02-01 0\u001B[0m\n",
      "\u001B[36m[DEBUG]-try https://eodhistoricaldata.com/api/eod/DOW.US?api_token=6318e406a42036.19146604&fmt=json&from=2014-02-03&to=2024-02-01 0\u001B[0m\n",
      "\u001B[36m[DEBUG]-try https://eodhistoricaldata.com/api/eod/EOG.US?api_token=6318e406a42036.19146604&fmt=json&from=2014-02-03&to=2024-02-01 0\u001B[0m\n",
      "\u001B[36m[DEBUG]-try https://eodhistoricaldata.com/api/eod/CCL.US?api_token=6318e406a42036.19146604&fmt=json&from=2014-02-03&to=2024-02-01 0\u001B[0m\n",
      "\u001B[36m[DEBUG]-try https://eodhistoricaldata.com/api/eod/COF.US?api_token=6318e406a42036.19146604&fmt=json&from=2014-02-03&to=2024-02-01 0\u001B[0m\n",
      "\u001B[36m[DEBUG]-try https://eodhistoricaldata.com/api/eod/CTVA.US?api_token=6318e406a42036.19146604&fmt=json&from=2014-02-03&to=2024-02-01 0\u001B[0m\n",
      "\u001B[36m[DEBUG]-try https://eodhistoricaldata.com/api/eod/AAP.US?api_token=6318e406a42036.19146604&fmt=json&from=2014-02-03&to=2024-02-01 0\u001B[0m\n",
      "\u001B[36m[DEBUG]-try https://eodhistoricaldata.com/api/eod/CL.US?api_token=6318e406a42036.19146604&fmt=json&from=2014-02-03&to=2024-02-01 0\u001B[0m\n",
      "\u001B[36m[DEBUG]-try https://eodhistoricaldata.com/api/eod/EW.US?api_token=6318e406a42036.19146604&fmt=json&from=2014-02-03&to=2024-02-01 0\u001B[0m\n",
      "\u001B[36m[DEBUG]-try https://eodhistoricaldata.com/api/eod/CLF.US?api_token=6318e406a42036.19146604&fmt=json&from=2014-02-03&to=2024-02-01 0\u001B[0m\n",
      "\u001B[36m[DEBUG]-try https://eodhistoricaldata.com/api/eod/BIDU.US?api_token=6318e406a42036.19146604&fmt=json&from=2014-02-03&to=2024-02-01 0\u001B[0m\n",
      "\u001B[36m[DEBUG]-try https://eodhistoricaldata.com/api/eod/CPB.US?api_token=6318e406a42036.19146604&fmt=json&from=2014-02-03&to=2024-02-01 0\u001B[0m\n",
      "\u001B[36m[DEBUG]-try https://eodhistoricaldata.com/api/eod/AFL.US?api_token=6318e406a42036.19146604&fmt=json&from=2014-02-03&to=2024-02-01 0\u001B[0m\n",
      "\u001B[36m[DEBUG]-try https://eodhistoricaldata.com/api/eod/CLX.US?api_token=6318e406a42036.19146604&fmt=json&from=2014-02-03&to=2024-02-01 0\u001B[0m\n",
      "\u001B[36m[DEBUG]-try https://eodhistoricaldata.com/api/eod/BMY.US?api_token=6318e406a42036.19146604&fmt=json&from=2014-02-03&to=2024-02-01 0\u001B[0m\n",
      "\u001B[36m[DEBUG]-try https://eodhistoricaldata.com/api/eod/CAT.US?api_token=6318e406a42036.19146604&fmt=json&from=2014-02-03&to=2024-02-01 0\u001B[0m\n",
      "\u001B[36m[DEBUG]-try https://eodhistoricaldata.com/api/eod/CME.US?api_token=6318e406a42036.19146604&fmt=json&from=2014-02-03&to=2024-02-01 0\u001B[0m\n",
      "\u001B[36m[DEBUG]-try https://eodhistoricaldata.com/api/eod/COP.US?api_token=6318e406a42036.19146604&fmt=json&from=2014-02-03&to=2024-02-01 0\u001B[0m\n",
      "\u001B[36m[DEBUG]-try https://eodhistoricaldata.com/api/eod/BSX.US?api_token=6318e406a42036.19146604&fmt=json&from=2014-02-03&to=2024-02-01 0\u001B[0m\n",
      "\u001B[36m[DEBUG]-try https://eodhistoricaldata.com/api/eod/EA.US?api_token=6318e406a42036.19146604&fmt=json&from=2014-02-03&to=2024-02-01 0\u001B[0m\n",
      "\u001B[36m[DEBUG]-try https://eodhistoricaldata.com/api/eod/COST.US?api_token=6318e406a42036.19146604&fmt=json&from=2014-02-03&to=2024-02-01 0\u001B[0m\n",
      "\u001B[36m[DEBUG]-try https://eodhistoricaldata.com/api/eod/BEN.US?api_token=6318e406a42036.19146604&fmt=json&from=2014-02-03&to=2024-02-01 0\u001B[0m\n",
      "\u001B[36m[DEBUG]-try https://eodhistoricaldata.com/api/eod/DAL.US?api_token=6318e406a42036.19146604&fmt=json&from=2014-02-03&to=2024-02-01 0\u001B[0m\n",
      "\u001B[36m[DEBUG]-try https://eodhistoricaldata.com/api/eod/CNC.US?api_token=6318e406a42036.19146604&fmt=json&from=2014-02-03&to=2024-02-01 0\u001B[0m\n",
      "\u001B[36m[DEBUG]-try https://eodhistoricaldata.com/api/eod/DLR.US?api_token=6318e406a42036.19146604&fmt=json&from=2014-02-03&to=2024-02-01 0\u001B[0m\n",
      "\u001B[36m[DEBUG]-try https://eodhistoricaldata.com/api/eod/AMAT.US?api_token=6318e406a42036.19146604&fmt=json&from=2014-02-03&to=2024-02-01 0\u001B[0m\n",
      "\u001B[36m[DEBUG]-try https://eodhistoricaldata.com/api/eod/ABT.US?api_token=6318e406a42036.19146604&fmt=json&from=2014-02-03&to=2024-02-01 0\u001B[0m\n",
      "\u001B[36m[DEBUG]-try https://eodhistoricaldata.com/api/eod/AMRN.US?api_token=6318e406a42036.19146604&fmt=json&from=2014-02-03&to=2024-02-01 0\u001B[0m\n",
      "\u001B[36m[DEBUG]-try https://eodhistoricaldata.com/api/eod/CB.US?api_token=6318e406a42036.19146604&fmt=json&from=2014-02-03&to=2024-02-01 0\u001B[0m\n",
      "\u001B[36m[DEBUG]-try https://eodhistoricaldata.com/api/eod/CPRI.US?api_token=6318e406a42036.19146604&fmt=json&from=2014-02-03&to=2024-02-01 0\u001B[0m\n",
      "\u001B[36m[DEBUG]-try https://eodhistoricaldata.com/api/eod/DD.US?api_token=6318e406a42036.19146604&fmt=json&from=2014-02-03&to=2024-02-01 0\u001B[0m\n",
      "\u001B[36m[DEBUG]-try https://eodhistoricaldata.com/api/eod/ADBE.US?api_token=6318e406a42036.19146604&fmt=json&from=2014-02-03&to=2024-02-01 0\u001B[0m\n",
      "\u001B[36m[DEBUG]-try https://eodhistoricaldata.com/api/eod/ADP.US?api_token=6318e406a42036.19146604&fmt=json&from=2014-02-03&to=2024-02-01 0\u001B[0m\n",
      "\u001B[36m[DEBUG]-try https://eodhistoricaldata.com/api/eod/DHR.US?api_token=6318e406a42036.19146604&fmt=json&from=2014-02-03&to=2024-02-01 0\u001B[0m\n",
      "\u001B[36m[DEBUG]-try https://eodhistoricaldata.com/api/eod/BABA.US?api_token=6318e406a42036.19146604&fmt=json&from=2014-02-03&to=2024-02-01 0\u001B[0m\n",
      "\u001B[36m[DEBUG]-try https://eodhistoricaldata.com/api/eod/AAPL.US?api_token=6318e406a42036.19146604&fmt=json&from=2014-02-03&to=2024-02-01 0\u001B[0m\n",
      "\u001B[36m[DEBUG]-try https://eodhistoricaldata.com/api/eod/ED.US?api_token=6318e406a42036.19146604&fmt=json&from=2014-02-03&to=2024-02-01 0\u001B[0m\n",
      "\u001B[36m[DEBUG]-try https://eodhistoricaldata.com/api/eod/C.US?api_token=6318e406a42036.19146604&fmt=json&from=2014-02-03&to=2024-02-01 0\u001B[0m\n",
      "\u001B[36m[DEBUG]-try https://eodhistoricaldata.com/api/eod/AES.US?api_token=6318e406a42036.19146604&fmt=json&from=2014-02-03&to=2024-02-01 0\u001B[0m\n",
      "\u001B[36m[DEBUG]-try https://eodhistoricaldata.com/api/eod/CF.US?api_token=6318e406a42036.19146604&fmt=json&from=2014-02-03&to=2024-02-01 0\u001B[0m\n",
      "\u001B[36m[DEBUG]-try https://eodhistoricaldata.com/api/eod/ACN.US?api_token=6318e406a42036.19146604&fmt=json&from=2014-02-03&to=2024-02-01 0\u001B[0m\n",
      "\u001B[36m[DEBUG]-try https://eodhistoricaldata.com/api/eod/EQR.US?api_token=6318e406a42036.19146604&fmt=json&from=2014-02-03&to=2024-02-01 0\u001B[0m\n",
      "\u001B[36m[DEBUG]-try https://eodhistoricaldata.com/api/eod/CSCO.US?api_token=6318e406a42036.19146604&fmt=json&from=2014-02-03&to=2024-02-01 0\u001B[0m\n",
      "\u001B[36m[DEBUG]-try https://eodhistoricaldata.com/api/eod/AIG.US?api_token=6318e406a42036.19146604&fmt=json&from=2014-02-03&to=2024-02-01 0\u001B[0m\n",
      "\u001B[36m[DEBUG]-try https://eodhistoricaldata.com/api/eod/DIS.US?api_token=6318e406a42036.19146604&fmt=json&from=2014-02-03&to=2024-02-01 0\u001B[0m\n",
      "\u001B[36m[DEBUG]-try https://eodhistoricaldata.com/api/eod/BX.US?api_token=6318e406a42036.19146604&fmt=json&from=2014-02-03&to=2024-02-01 0\u001B[0m\n",
      "\u001B[36m[DEBUG]-try https://eodhistoricaldata.com/api/eod/DVN.US?api_token=6318e406a42036.19146604&fmt=json&from=2014-02-03&to=2024-02-01 0\u001B[0m\n",
      "\u001B[36m[DEBUG]-try https://eodhistoricaldata.com/api/eod/EMR.US?api_token=6318e406a42036.19146604&fmt=json&from=2014-02-03&to=2024-02-01 0\u001B[0m\n",
      "\u001B[36m[DEBUG]-try https://eodhistoricaldata.com/api/eod/CFG.US?api_token=6318e406a42036.19146604&fmt=json&from=2014-02-03&to=2024-02-01 0\u001B[0m\n",
      "\u001B[36m[DEBUG]-try https://eodhistoricaldata.com/api/eod/EXPE.US?api_token=6318e406a42036.19146604&fmt=json&from=2014-02-03&to=2024-02-01 0\u001B[0m\n",
      "\u001B[36m[DEBUG]-try https://eodhistoricaldata.com/api/eod/F.US?api_token=6318e406a42036.19146604&fmt=json&from=2014-02-03&to=2024-02-01 0\u001B[0m\n",
      "\u001B[36m[DEBUG]-try https://eodhistoricaldata.com/api/eod/FDX.US?api_token=6318e406a42036.19146604&fmt=json&from=2014-02-03&to=2024-02-01 0\u001B[0m\n",
      "\u001B[36m[DEBUG]-try https://eodhistoricaldata.com/api/eod/AEP.US?api_token=6318e406a42036.19146604&fmt=json&from=2014-02-03&to=2024-02-01 0\u001B[0m\n",
      "\u001B[36m[DEBUG]-try https://eodhistoricaldata.com/api/eod/FANG.US?api_token=6318e406a42036.19146604&fmt=json&from=2014-02-03&to=2024-02-01 0\u001B[0m\n",
      "\u001B[36m[DEBUG]-try https://eodhistoricaldata.com/api/eod/FOXA.US?api_token=6318e406a42036.19146604&fmt=json&from=2014-02-03&to=2024-02-01 0\u001B[0m\n",
      "\u001B[36m[DEBUG]-try https://eodhistoricaldata.com/api/eod/FAST.US?api_token=6318e406a42036.19146604&fmt=json&from=2014-02-03&to=2024-02-01 0\u001B[0m\n",
      "\u001B[36m[DEBUG]-try https://eodhistoricaldata.com/api/eod/FTI.US?api_token=6318e406a42036.19146604&fmt=json&from=2014-02-03&to=2024-02-01 0\u001B[0m\n",
      "\u001B[36m[DEBUG]-try https://eodhistoricaldata.com/api/eod/GE.US?api_token=6318e406a42036.19146604&fmt=json&from=2014-02-03&to=2024-02-01 0\u001B[0m\n",
      "\u001B[36m[DEBUG]-try https://eodhistoricaldata.com/api/eod/GLW.US?api_token=6318e406a42036.19146604&fmt=json&from=2014-02-03&to=2024-02-01 0\u001B[0m\n",
      "\u001B[36m[DEBUG]-try https://eodhistoricaldata.com/api/eod/FCX.US?api_token=6318e406a42036.19146604&fmt=json&from=2014-02-03&to=2024-02-01 0\u001B[0m\n",
      "\u001B[36m[DEBUG]-try https://eodhistoricaldata.com/api/eod/FTV.US?api_token=6318e406a42036.19146604&fmt=json&from=2014-02-03&to=2024-02-01 0\u001B[0m\n",
      "\u001B[36m[DEBUG]-try https://eodhistoricaldata.com/api/eod/GPRO.US?api_token=6318e406a42036.19146604&fmt=json&from=2014-02-03&to=2024-02-01 0\u001B[0m\n",
      "\u001B[36m[DEBUG]-try https://eodhistoricaldata.com/api/eod/FE.US?api_token=6318e406a42036.19146604&fmt=json&from=2014-02-03&to=2024-02-01 0\u001B[0m\n",
      "\u001B[36m[DEBUG]-try https://eodhistoricaldata.com/api/eod/GILD.US?api_token=6318e406a42036.19146604&fmt=json&from=2014-02-03&to=2024-02-01 0\u001B[0m\n",
      "\u001B[36m[DEBUG]-try https://eodhistoricaldata.com/api/eod/GOLD.US?api_token=6318e406a42036.19146604&fmt=json&from=2014-02-03&to=2024-02-01 0\u001B[0m\n",
      "\u001B[36m[DEBUG]-try https://eodhistoricaldata.com/api/eod/GM.US?api_token=6318e406a42036.19146604&fmt=json&from=2014-02-03&to=2024-02-01 0\u001B[0m\n",
      "\u001B[36m[DEBUG]-try https://eodhistoricaldata.com/api/eod/FI.US?api_token=6318e406a42036.19146604&fmt=json&from=2014-02-03&to=2024-02-01 0\u001B[0m\n",
      "\u001B[36m[DEBUG]-try https://eodhistoricaldata.com/api/eod/GPS.US?api_token=6318e406a42036.19146604&fmt=json&from=2014-02-03&to=2024-02-01 0\u001B[0m\n",
      "\u001B[36m[DEBUG]-try https://eodhistoricaldata.com/api/eod/GS.US?api_token=6318e406a42036.19146604&fmt=json&from=2014-02-03&to=2024-02-01 0\u001B[0m\n",
      "\u001B[36m[DEBUG]-try https://eodhistoricaldata.com/api/eod/GOOG.US?api_token=6318e406a42036.19146604&fmt=json&from=2014-02-03&to=2024-02-01 0\u001B[0m\n",
      "\u001B[36m[DEBUG]-try https://eodhistoricaldata.com/api/eod/HPE.US?api_token=6318e406a42036.19146604&fmt=json&from=2014-02-03&to=2024-02-01 0\u001B[0m\n",
      "\u001B[36m[DEBUG]-try https://eodhistoricaldata.com/api/eod/HBI.US?api_token=6318e406a42036.19146604&fmt=json&from=2014-02-03&to=2024-02-01 0\u001B[0m\n",
      "\u001B[36m[DEBUG]-try https://eodhistoricaldata.com/api/eod/HAL.US?api_token=6318e406a42036.19146604&fmt=json&from=2014-02-03&to=2024-02-01 0\u001B[0m\n",
      "\u001B[36m[DEBUG]-try https://eodhistoricaldata.com/api/eod/JCI.US?api_token=6318e406a42036.19146604&fmt=json&from=2014-02-03&to=2024-02-01 0\u001B[0m\n",
      "\u001B[36m[DEBUG]-try https://eodhistoricaldata.com/api/eod/FITB.US?api_token=6318e406a42036.19146604&fmt=json&from=2014-02-03&to=2024-02-01 0\u001B[0m\n",
      "\u001B[36m[DEBUG]-try https://eodhistoricaldata.com/api/eod/HIG.US?api_token=6318e406a42036.19146604&fmt=json&from=2014-02-03&to=2024-02-01 0\u001B[0m\n",
      "\u001B[36m[DEBUG]-try https://eodhistoricaldata.com/api/eod/HON.US?api_token=6318e406a42036.19146604&fmt=json&from=2014-02-03&to=2024-02-01 0\u001B[0m\n",
      "\u001B[36m[DEBUG]-try https://eodhistoricaldata.com/api/eod/IBM.US?api_token=6318e406a42036.19146604&fmt=json&from=2014-02-03&to=2024-02-01 0\u001B[0m\n",
      "\u001B[36m[DEBUG]-try https://eodhistoricaldata.com/api/eod/FSLR.US?api_token=6318e406a42036.19146604&fmt=json&from=2014-02-03&to=2024-02-01 0\u001B[0m\n",
      "\u001B[36m[DEBUG]-try https://eodhistoricaldata.com/api/eod/HOG.US?api_token=6318e406a42036.19146604&fmt=json&from=2014-02-03&to=2024-02-01 0\u001B[0m\n",
      "\u001B[36m[DEBUG]-try https://eodhistoricaldata.com/api/eod/HPQ.US?api_token=6318e406a42036.19146604&fmt=json&from=2014-02-03&to=2024-02-01 0\u001B[0m\n",
      "\u001B[36m[DEBUG]-try https://eodhistoricaldata.com/api/eod/INTC.US?api_token=6318e406a42036.19146604&fmt=json&from=2014-02-03&to=2024-02-01 0\u001B[0m\n",
      "\u001B[36m[DEBUG]-try https://eodhistoricaldata.com/api/eod/HLT.US?api_token=6318e406a42036.19146604&fmt=json&from=2014-02-03&to=2024-02-01 0\u001B[0m\n",
      "\u001B[36m[DEBUG]-try https://eodhistoricaldata.com/api/eod/HBAN.US?api_token=6318e406a42036.19146604&fmt=json&from=2014-02-03&to=2024-02-01 0\u001B[0m\n",
      "\u001B[36m[DEBUG]-try https://eodhistoricaldata.com/api/eod/ADM.US?api_token=6318e406a42036.19146604&fmt=json&from=2014-02-03&to=2024-02-01 0\u001B[0m\n",
      "\u001B[36m[DEBUG]-try https://eodhistoricaldata.com/api/eod/IPG.US?api_token=6318e406a42036.19146604&fmt=json&from=2014-02-03&to=2024-02-01 0\u001B[0m\n",
      "\u001B[36m[DEBUG]-try https://eodhistoricaldata.com/api/eod/HD.US?api_token=6318e406a42036.19146604&fmt=json&from=2014-02-03&to=2024-02-01 0\u001B[0m\n",
      "\u001B[36m[DEBUG]-try https://eodhistoricaldata.com/api/eod/HCA.US?api_token=6318e406a42036.19146604&fmt=json&from=2014-02-03&to=2024-02-01 0\u001B[0m\n",
      "\u001B[36m[DEBUG]-try https://eodhistoricaldata.com/api/eod/GD.US?api_token=6318e406a42036.19146604&fmt=json&from=2014-02-03&to=2024-02-01 0\u001B[0m\n",
      "\u001B[36m[DEBUG]-try https://eodhistoricaldata.com/api/eod/GOOGL.US?api_token=6318e406a42036.19146604&fmt=json&from=2014-02-03&to=2024-02-01 0\u001B[0m\n",
      "\u001B[36m[DEBUG]-try https://eodhistoricaldata.com/api/eod/HOLX.US?api_token=6318e406a42036.19146604&fmt=json&from=2014-02-03&to=2024-02-01 0\u001B[0m\n",
      "\u001B[36m[DEBUG]-try https://eodhistoricaldata.com/api/eod/KHC.US?api_token=6318e406a42036.19146604&fmt=json&from=2014-02-03&to=2024-02-01 0\u001B[0m\n",
      "\u001B[36m[DEBUG]-try https://eodhistoricaldata.com/api/eod/K.US?api_token=6318e406a42036.19146604&fmt=json&from=2014-02-03&to=2024-02-01 0\u001B[0m\n",
      "\u001B[36m[DEBUG]-try https://eodhistoricaldata.com/api/eod/ICE.US?api_token=6318e406a42036.19146604&fmt=json&from=2014-02-03&to=2024-02-01 0\u001B[0m\n",
      "\u001B[36m[DEBUG]-try https://eodhistoricaldata.com/api/eod/JPM.US?api_token=6318e406a42036.19146604&fmt=json&from=2014-02-03&to=2024-02-01 0\u001B[0m\n",
      "\u001B[36m[DEBUG]-try https://eodhistoricaldata.com/api/eod/LVS.US?api_token=6318e406a42036.19146604&fmt=json&from=2014-02-03&to=2024-02-01 0\u001B[0m\n",
      "\u001B[36m[DEBUG]-try https://eodhistoricaldata.com/api/eod/JNPR.US?api_token=6318e406a42036.19146604&fmt=json&from=2014-02-03&to=2024-02-01 0\u001B[0m\n",
      "\u001B[36m[DEBUG]-try https://eodhistoricaldata.com/api/eod/JNJ.US?api_token=6318e406a42036.19146604&fmt=json&from=2014-02-03&to=2024-02-01 0\u001B[0m\n",
      "\u001B[36m[DEBUG]-try https://eodhistoricaldata.com/api/eod/JD.US?api_token=6318e406a42036.19146604&fmt=json&from=2014-02-03&to=2024-02-01 0\u001B[0m\n",
      "\u001B[36m[DEBUG]-try https://eodhistoricaldata.com/api/eod/LUV.US?api_token=6318e406a42036.19146604&fmt=json&from=2014-02-03&to=2024-02-01 0\u001B[0m\n",
      "\u001B[36m[DEBUG]-try https://eodhistoricaldata.com/api/eod/LUMN.US?api_token=6318e406a42036.19146604&fmt=json&from=2014-02-03&to=2024-02-01 0\u001B[0m\n",
      "\u001B[36m[DEBUG]-try https://eodhistoricaldata.com/api/eod/IVZ.US?api_token=6318e406a42036.19146604&fmt=json&from=2014-02-03&to=2024-02-01 0\u001B[0m\n",
      "\u001B[36m[DEBUG]-try https://eodhistoricaldata.com/api/eod/LOW.US?api_token=6318e406a42036.19146604&fmt=json&from=2014-02-03&to=2024-02-01 0\u001B[0m\n",
      "\u001B[36m[DEBUG]-try https://eodhistoricaldata.com/api/eod/LNC.US?api_token=6318e406a42036.19146604&fmt=json&from=2014-02-03&to=2024-02-01 0\u001B[0m\n",
      "\u001B[36m[DEBUG]-try https://eodhistoricaldata.com/api/eod/LLY.US?api_token=6318e406a42036.19146604&fmt=json&from=2014-02-03&to=2024-02-01 0\u001B[0m\n",
      "\u001B[36m[DEBUG]-try https://eodhistoricaldata.com/api/eod/LKQ.US?api_token=6318e406a42036.19146604&fmt=json&from=2014-02-03&to=2024-02-01 0\u001B[0m\n",
      "\u001B[36m[DEBUG]-try https://eodhistoricaldata.com/api/eod/LEN.US?api_token=6318e406a42036.19146604&fmt=json&from=2014-02-03&to=2024-02-01 0\u001B[0m\n",
      "\u001B[36m[DEBUG]-try https://eodhistoricaldata.com/api/eod/KSS.US?api_token=6318e406a42036.19146604&fmt=json&from=2014-02-03&to=2024-02-01 0\u001B[0m\n",
      "\u001B[36m[DEBUG]-try https://eodhistoricaldata.com/api/eod/KO.US?api_token=6318e406a42036.19146604&fmt=json&from=2014-02-03&to=2024-02-01 0\u001B[0m\n",
      "\u001B[36m[DEBUG]-try https://eodhistoricaldata.com/api/eod/KMI.US?api_token=6318e406a42036.19146604&fmt=json&from=2014-02-03&to=2024-02-01 0\u001B[0m\n",
      "\u001B[36m[DEBUG]-try https://eodhistoricaldata.com/api/eod/KR.US?api_token=6318e406a42036.19146604&fmt=json&from=2014-02-03&to=2024-02-01 0\u001B[0m\n",
      "\u001B[36m[DEBUG]-try https://eodhistoricaldata.com/api/eod/LYB.US?api_token=6318e406a42036.19146604&fmt=json&from=2014-02-03&to=2024-02-01 0\u001B[0m\n",
      "\u001B[36m[DEBUG]-try https://eodhistoricaldata.com/api/eod/IRM.US?api_token=6318e406a42036.19146604&fmt=json&from=2014-02-03&to=2024-02-01 0\u001B[0m\n",
      "\u001B[36m[DEBUG]-try https://eodhistoricaldata.com/api/eod/MDT.US?api_token=6318e406a42036.19146604&fmt=json&from=2014-02-03&to=2024-02-01 0\u001B[0m\n",
      "\u001B[36m[DEBUG]-try https://eodhistoricaldata.com/api/eod/MCHP.US?api_token=6318e406a42036.19146604&fmt=json&from=2014-02-03&to=2024-02-01 0\u001B[0m\n",
      "\u001B[36m[DEBUG]-try https://eodhistoricaldata.com/api/eod/MCD.US?api_token=6318e406a42036.19146604&fmt=json&from=2014-02-03&to=2024-02-01 0\u001B[0m\n",
      "\u001B[36m[DEBUG]-try https://eodhistoricaldata.com/api/eod/MAS.US?api_token=6318e406a42036.19146604&fmt=json&from=2014-02-03&to=2024-02-01 0\u001B[0m\n",
      "\u001B[36m[DEBUG]-try https://eodhistoricaldata.com/api/eod/MARA.US?api_token=6318e406a42036.19146604&fmt=json&from=2014-02-03&to=2024-02-01 0\u001B[0m\n",
      "\u001B[36m[DEBUG]-try https://eodhistoricaldata.com/api/eod/MA.US?api_token=6318e406a42036.19146604&fmt=json&from=2014-02-03&to=2024-02-01 0\u001B[0m\n",
      "\u001B[36m[DEBUG]-try https://eodhistoricaldata.com/api/eod/MRNA.US?api_token=6318e406a42036.19146604&fmt=json&from=2014-02-03&to=2024-02-01 0\u001B[0m\n",
      "\u001B[36m[DEBUG]-try https://eodhistoricaldata.com/api/eod/MET.US?api_token=6318e406a42036.19146604&fmt=json&from=2014-02-03&to=2024-02-01 0\u001B[0m\n",
      "\u001B[36m[DEBUG]-try https://eodhistoricaldata.com/api/eod/IP.US?api_token=6318e406a42036.19146604&fmt=json&from=2014-02-03&to=2024-02-01 0\u001B[0m\n",
      "\u001B[36m[DEBUG]-try https://eodhistoricaldata.com/api/eod/MO.US?api_token=6318e406a42036.19146604&fmt=json&from=2014-02-03&to=2024-02-01 0\u001B[0m\n",
      "\u001B[36m[DEBUG]-try https://eodhistoricaldata.com/api/eod/MRVL.US?api_token=6318e406a42036.19146604&fmt=json&from=2014-02-03&to=2024-02-01 0\u001B[0m\n",
      "\u001B[36m[DEBUG]-try https://eodhistoricaldata.com/api/eod/LYFT.US?api_token=6318e406a42036.19146604&fmt=json&from=2014-02-03&to=2024-02-01 0\u001B[0m\n",
      "\u001B[36m[DEBUG]-try https://eodhistoricaldata.com/api/eod/NEE.US?api_token=6318e406a42036.19146604&fmt=json&from=2014-02-03&to=2024-02-01 0\u001B[0m\n",
      "\u001B[36m[DEBUG]-try https://eodhistoricaldata.com/api/eod/MGM.US?api_token=6318e406a42036.19146604&fmt=json&from=2014-02-03&to=2024-02-01 0\u001B[0m\n",
      "\u001B[36m[DEBUG]-try https://eodhistoricaldata.com/api/eod/MDLZ.US?api_token=6318e406a42036.19146604&fmt=json&from=2014-02-03&to=2024-02-01 0\u001B[0m\n",
      "\u001B[36m[DEBUG]-try https://eodhistoricaldata.com/api/eod/MAR.US?api_token=6318e406a42036.19146604&fmt=json&from=2014-02-03&to=2024-02-01 0\u001B[0m\n",
      "\u001B[36m[DEBUG]-try https://eodhistoricaldata.com/api/eod/MOS.US?api_token=6318e406a42036.19146604&fmt=json&from=2014-02-03&to=2024-02-01 0\u001B[0m\n",
      "\u001B[36m[DEBUG]-try https://eodhistoricaldata.com/api/eod/OMC.US?api_token=6318e406a42036.19146604&fmt=json&from=2014-02-03&to=2024-02-01 0\u001B[0m\n",
      "\u001B[36m[DEBUG]-try https://eodhistoricaldata.com/api/eod/OKE.US?api_token=6318e406a42036.19146604&fmt=json&from=2014-02-03&to=2024-02-01 0\u001B[0m\n",
      "\u001B[36m[DEBUG]-try https://eodhistoricaldata.com/api/eod/META.US?api_token=6318e406a42036.19146604&fmt=json&from=2014-02-03&to=2024-02-01 0\u001B[0m\n",
      "\u001B[36m[DEBUG]-try https://eodhistoricaldata.com/api/eod/ORCL.US?api_token=6318e406a42036.19146604&fmt=json&from=2014-02-03&to=2024-02-01 0\u001B[0m\n",
      "\u001B[36m[DEBUG]-try https://eodhistoricaldata.com/api/eod/MRO.US?api_token=6318e406a42036.19146604&fmt=json&from=2014-02-03&to=2024-02-01 0\u001B[0m\n",
      "\u001B[36m[DEBUG]-try https://eodhistoricaldata.com/api/eod/MMM.US?api_token=6318e406a42036.19146604&fmt=json&from=2014-02-03&to=2024-02-01 0\u001B[0m\n",
      "\u001B[36m[DEBUG]-try https://eodhistoricaldata.com/api/eod/MRK.US?api_token=6318e406a42036.19146604&fmt=json&from=2014-02-03&to=2024-02-01 0\u001B[0m\n",
      "\u001B[36m[DEBUG]-try https://eodhistoricaldata.com/api/eod/MPC.US?api_token=6318e406a42036.19146604&fmt=json&from=2014-02-03&to=2024-02-01 0\u001B[0m\n",
      "\u001B[36m[DEBUG]-try https://eodhistoricaldata.com/api/eod/PBR.US?api_token=6318e406a42036.19146604&fmt=json&from=2014-02-03&to=2024-02-01 0\u001B[0m\n",
      "\u001B[36m[DEBUG]-try https://eodhistoricaldata.com/api/eod/PEAK.US?api_token=6318e406a42036.19146604&fmt=json&from=2014-02-03&to=2024-02-01 0\u001B[0m\n",
      "\u001B[36m[DEBUG]-try https://eodhistoricaldata.com/api/eod/MSFT.US?api_token=6318e406a42036.19146604&fmt=json&from=2014-02-03&to=2024-02-01 0\u001B[0m\n",
      "\u001B[36m[DEBUG]-try https://eodhistoricaldata.com/api/eod/NCLH.US?api_token=6318e406a42036.19146604&fmt=json&from=2014-02-03&to=2024-02-01 0\u001B[0m\n",
      "\u001B[36m[DEBUG]-try https://eodhistoricaldata.com/api/eod/MS.US?api_token=6318e406a42036.19146604&fmt=json&from=2014-02-03&to=2024-02-01 0\u001B[0m\n",
      "\u001B[36m[DEBUG]-try https://eodhistoricaldata.com/api/eod/NET.US?api_token=6318e406a42036.19146604&fmt=json&from=2014-02-03&to=2024-02-01 0\u001B[0m\n",
      "\u001B[36m[DEBUG]-try https://eodhistoricaldata.com/api/eod/MU.US?api_token=6318e406a42036.19146604&fmt=json&from=2014-02-03&to=2024-02-01 0\u001B[0m\n",
      "\u001B[36m[DEBUG]-try https://eodhistoricaldata.com/api/eod/PEP.US?api_token=6318e406a42036.19146604&fmt=json&from=2014-02-03&to=2024-02-01 0\u001B[0m\n",
      "\u001B[36m[DEBUG]-try https://eodhistoricaldata.com/api/eod/MTB.US?api_token=6318e406a42036.19146604&fmt=json&from=2014-02-03&to=2024-02-01 0\u001B[0m\n",
      "\u001B[36m[DEBUG]-try https://eodhistoricaldata.com/api/eod/PFE.US?api_token=6318e406a42036.19146604&fmt=json&from=2014-02-03&to=2024-02-01 0\u001B[0m\n",
      "\u001B[36m[DEBUG]-try https://eodhistoricaldata.com/api/eod/NKE.US?api_token=6318e406a42036.19146604&fmt=json&from=2014-02-03&to=2024-02-01 0\u001B[0m\n",
      "\u001B[36m[DEBUG]-try https://eodhistoricaldata.com/api/eod/NEM.US?api_token=6318e406a42036.19146604&fmt=json&from=2014-02-03&to=2024-02-01 0\u001B[0m\n",
      "\u001B[36m[DEBUG]-try https://eodhistoricaldata.com/api/eod/PFG.US?api_token=6318e406a42036.19146604&fmt=json&from=2014-02-03&to=2024-02-01 0\u001B[0m\n",
      "\u001B[36m[DEBUG]-try https://eodhistoricaldata.com/api/eod/PGR.US?api_token=6318e406a42036.19146604&fmt=json&from=2014-02-03&to=2024-02-01 0\u001B[0m\n",
      "\u001B[36m[DEBUG]-try https://eodhistoricaldata.com/api/eod/NOW.US?api_token=6318e406a42036.19146604&fmt=json&from=2014-02-03&to=2024-02-01 0\u001B[0m\n",
      "\u001B[36m[DEBUG]-try https://eodhistoricaldata.com/api/eod/NTES.US?api_token=6318e406a42036.19146604&fmt=json&from=2014-02-03&to=2024-02-01 0\u001B[0m\n",
      "\u001B[36m[DEBUG]-try https://eodhistoricaldata.com/api/eod/NWL.US?api_token=6318e406a42036.19146604&fmt=json&from=2014-02-03&to=2024-02-01 0\u001B[0m\n",
      "\u001B[36m[DEBUG]-try https://eodhistoricaldata.com/api/eod/NRG.US?api_token=6318e406a42036.19146604&fmt=json&from=2014-02-03&to=2024-02-01 0\u001B[0m\n",
      "\u001B[36m[DEBUG]-try https://eodhistoricaldata.com/api/eod/PG.US?api_token=6318e406a42036.19146604&fmt=json&from=2014-02-03&to=2024-02-01 0\u001B[0m\n",
      "\u001B[36m[DEBUG]-try https://eodhistoricaldata.com/api/eod/NFLX.US?api_token=6318e406a42036.19146604&fmt=json&from=2014-02-03&to=2024-02-01 0\u001B[0m\n",
      "\u001B[36m[DEBUG]-try https://eodhistoricaldata.com/api/eod/NTAP.US?api_token=6318e406a42036.19146604&fmt=json&from=2014-02-03&to=2024-02-01 0\u001B[0m\n",
      "\u001B[36m[DEBUG]-try https://eodhistoricaldata.com/api/eod/NVAX.US?api_token=6318e406a42036.19146604&fmt=json&from=2014-02-03&to=2024-02-01 0\u001B[0m\n",
      "\u001B[36m[DEBUG]-try https://eodhistoricaldata.com/api/eod/NVDA.US?api_token=6318e406a42036.19146604&fmt=json&from=2014-02-03&to=2024-02-01 0\u001B[0m\n",
      "\u001B[36m[DEBUG]-try https://eodhistoricaldata.com/api/eod/O.US?api_token=6318e406a42036.19146604&fmt=json&from=2014-02-03&to=2024-02-01 0\u001B[0m\n",
      "\u001B[36m[DEBUG]-try https://eodhistoricaldata.com/api/eod/PPL.US?api_token=6318e406a42036.19146604&fmt=json&from=2014-02-03&to=2024-02-01 0\u001B[0m\n",
      "\u001B[36m[DEBUG]-try https://eodhistoricaldata.com/api/eod/PNC.US?api_token=6318e406a42036.19146604&fmt=json&from=2014-02-03&to=2024-02-01 0\u001B[0m\n",
      "\u001B[36m[DEBUG]-try https://eodhistoricaldata.com/api/eod/PRU.US?api_token=6318e406a42036.19146604&fmt=json&from=2014-02-03&to=2024-02-01 0\u001B[0m\n",
      "\u001B[36m[DEBUG]-try https://eodhistoricaldata.com/api/eod/PYPL.US?api_token=6318e406a42036.19146604&fmt=json&from=2014-02-03&to=2024-02-01 0\u001B[0m\n",
      "\u001B[36m[DEBUG]-try https://eodhistoricaldata.com/api/eod/RF.US?api_token=6318e406a42036.19146604&fmt=json&from=2014-02-03&to=2024-02-01 0\u001B[0m\n",
      "\u001B[36m[DEBUG]-try https://eodhistoricaldata.com/api/eod/QCOM.US?api_token=6318e406a42036.19146604&fmt=json&from=2014-02-03&to=2024-02-01 0\u001B[0m\n",
      "\u001B[36m[DEBUG]-try https://eodhistoricaldata.com/api/eod/RCL.US?api_token=6318e406a42036.19146604&fmt=json&from=2014-02-03&to=2024-02-01 0\u001B[0m\n",
      "\u001B[36m[DEBUG]-try https://eodhistoricaldata.com/api/eod/PSX.US?api_token=6318e406a42036.19146604&fmt=json&from=2014-02-03&to=2024-02-01 0\u001B[0m\n",
      "\u001B[36m[DEBUG]-try https://eodhistoricaldata.com/api/eod/RIG.US?api_token=6318e406a42036.19146604&fmt=json&from=2014-02-03&to=2024-02-01 0\u001B[0m\n",
      "\u001B[36m[DEBUG]-try https://eodhistoricaldata.com/api/eod/ROKU.US?api_token=6318e406a42036.19146604&fmt=json&from=2014-02-03&to=2024-02-01 0\u001B[0m\n",
      "\u001B[36m[DEBUG]-try https://eodhistoricaldata.com/api/eod/ROST.US?api_token=6318e406a42036.19146604&fmt=json&from=2014-02-03&to=2024-02-01 0\u001B[0m\n",
      "\u001B[36m[DEBUG]-try https://eodhistoricaldata.com/api/eod/SBUX.US?api_token=6318e406a42036.19146604&fmt=json&from=2014-02-03&to=2024-02-01 0\u001B[0m\n",
      "\u001B[36m[DEBUG]-try https://eodhistoricaldata.com/api/eod/SIRI.US?api_token=6318e406a42036.19146604&fmt=json&from=2014-02-03&to=2024-02-01 0\u001B[0m\n",
      "\u001B[36m[DEBUG]-try https://eodhistoricaldata.com/api/eod/RTX.US?api_token=6318e406a42036.19146604&fmt=json&from=2014-02-03&to=2024-02-01 0\u001B[0m\n",
      "\u001B[36m[DEBUG]-try https://eodhistoricaldata.com/api/eod/SHOP.US?api_token=6318e406a42036.19146604&fmt=json&from=2014-02-03&to=2024-02-01 0\u001B[0m\n",
      "\u001B[36m[DEBUG]-try https://eodhistoricaldata.com/api/eod/SLB.US?api_token=6318e406a42036.19146604&fmt=json&from=2014-02-03&to=2024-02-01 0\u001B[0m\n",
      "\u001B[36m[DEBUG]-try https://eodhistoricaldata.com/api/eod/SCHW.US?api_token=6318e406a42036.19146604&fmt=json&from=2014-02-03&to=2024-02-01 0\u001B[0m\n",
      "\u001B[36m[DEBUG]-try https://eodhistoricaldata.com/api/eod/SPG.US?api_token=6318e406a42036.19146604&fmt=json&from=2014-02-03&to=2024-02-01 0\u001B[0m\n",
      "\u001B[36m[DEBUG]-try https://eodhistoricaldata.com/api/eod/SO.US?api_token=6318e406a42036.19146604&fmt=json&from=2014-02-03&to=2024-02-01 0\u001B[0m\n",
      "\u001B[36m[DEBUG]-try https://eodhistoricaldata.com/api/eod/SWKS.US?api_token=6318e406a42036.19146604&fmt=json&from=2014-02-03&to=2024-02-01 0\u001B[0m\n",
      "\u001B[36m[DEBUG]-try https://eodhistoricaldata.com/api/eod/SQ.US?api_token=6318e406a42036.19146604&fmt=json&from=2014-02-03&to=2024-02-01 0\u001B[0m\n",
      "\u001B[36m[DEBUG]-try https://eodhistoricaldata.com/api/eod/NWSA.US?api_token=6318e406a42036.19146604&fmt=json&from=2014-02-03&to=2024-02-01 0\u001B[0m\n",
      "\u001B[36m[DEBUG]-try https://eodhistoricaldata.com/api/eod/PXD.US?api_token=6318e406a42036.19146604&fmt=json&from=2014-02-03&to=2024-02-01 0\u001B[0m\n",
      "\u001B[36m[DEBUG]-try https://eodhistoricaldata.com/api/eod/SYF.US?api_token=6318e406a42036.19146604&fmt=json&from=2014-02-03&to=2024-02-01 0\u001B[0m\n",
      "\u001B[36m[DEBUG]-try https://eodhistoricaldata.com/api/eod/T.US?api_token=6318e406a42036.19146604&fmt=json&from=2014-02-03&to=2024-02-01 0\u001B[0m\n",
      "\u001B[36m[DEBUG]-try https://eodhistoricaldata.com/api/eod/TAP.US?api_token=6318e406a42036.19146604&fmt=json&from=2014-02-03&to=2024-02-01 0\u001B[0m\n",
      "\u001B[36m[DEBUG]-try https://eodhistoricaldata.com/api/eod/TMO.US?api_token=6318e406a42036.19146604&fmt=json&from=2014-02-03&to=2024-02-01 0\u001B[0m\n",
      "\u001B[36m[DEBUG]-try https://eodhistoricaldata.com/api/eod/SYY.US?api_token=6318e406a42036.19146604&fmt=json&from=2014-02-03&to=2024-02-01 0\u001B[0m\n",
      "\u001B[36m[DEBUG]-try https://eodhistoricaldata.com/api/eod/TGT.US?api_token=6318e406a42036.19146604&fmt=json&from=2014-02-03&to=2024-02-01 0\u001B[0m\n",
      "\u001B[36m[DEBUG]-try https://eodhistoricaldata.com/api/eod/TJX.US?api_token=6318e406a42036.19146604&fmt=json&from=2014-02-03&to=2024-02-01 0\u001B[0m\n",
      "\u001B[36m[DEBUG]-try https://eodhistoricaldata.com/api/eod/TMUS.US?api_token=6318e406a42036.19146604&fmt=json&from=2014-02-03&to=2024-02-01 0\u001B[0m\n",
      "\u001B[36m[DEBUG]-try https://eodhistoricaldata.com/api/eod/TPR.US?api_token=6318e406a42036.19146604&fmt=json&from=2014-02-03&to=2024-02-01 0\u001B[0m\n",
      "\u001B[36m[DEBUG]-try https://eodhistoricaldata.com/api/eod/TSM.US?api_token=6318e406a42036.19146604&fmt=json&from=2014-02-03&to=2024-02-01 0\u001B[0m\n",
      "\u001B[36m[DEBUG]-try https://eodhistoricaldata.com/api/eod/TRIP.US?api_token=6318e406a42036.19146604&fmt=json&from=2014-02-03&to=2024-02-01 0\u001B[0m\n",
      "\u001B[36m[DEBUG]-try https://eodhistoricaldata.com/api/eod/TTWO.US?api_token=6318e406a42036.19146604&fmt=json&from=2014-02-03&to=2024-02-01 0\u001B[0m\n",
      "\u001B[36m[DEBUG]-try https://eodhistoricaldata.com/api/eod/UA.US?api_token=6318e406a42036.19146604&fmt=json&from=2014-02-03&to=2024-02-01 0\u001B[0m\n",
      "\u001B[36m[DEBUG]-try https://eodhistoricaldata.com/api/eod/STX.US?api_token=6318e406a42036.19146604&fmt=json&from=2014-02-03&to=2024-02-01 0\u001B[0m\n",
      "\u001B[36m[DEBUG]-try https://eodhistoricaldata.com/api/eod/TSN.US?api_token=6318e406a42036.19146604&fmt=json&from=2014-02-03&to=2024-02-01 0\u001B[0m\n",
      "\u001B[36m[DEBUG]-try https://eodhistoricaldata.com/api/eod/UNM.US?api_token=6318e406a42036.19146604&fmt=json&from=2014-02-03&to=2024-02-01 0\u001B[0m\n",
      "\u001B[36m[DEBUG]-try https://eodhistoricaldata.com/api/eod/UAA.US?api_token=6318e406a42036.19146604&fmt=json&from=2014-02-03&to=2024-02-01 0\u001B[0m\n",
      "\u001B[36m[DEBUG]-try https://eodhistoricaldata.com/api/eod/UAL.US?api_token=6318e406a42036.19146604&fmt=json&from=2014-02-03&to=2024-02-01 0\u001B[0m\n",
      "\u001B[36m[DEBUG]-try https://eodhistoricaldata.com/api/eod/UPS.US?api_token=6318e406a42036.19146604&fmt=json&from=2014-02-03&to=2024-02-01 0\u001B[0m\n",
      "\u001B[36m[DEBUG]-try https://eodhistoricaldata.com/api/eod/TXN.US?api_token=6318e406a42036.19146604&fmt=json&from=2014-02-03&to=2024-02-01 0\u001B[0m\n",
      "\u001B[36m[DEBUG]-try https://eodhistoricaldata.com/api/eod/UNP.US?api_token=6318e406a42036.19146604&fmt=json&from=2014-02-03&to=2024-02-01 0\u001B[0m\n",
      "\u001B[36m[DEBUG]-try https://eodhistoricaldata.com/api/eod/UNH.US?api_token=6318e406a42036.19146604&fmt=json&from=2014-02-03&to=2024-02-01 0\u001B[0m\n",
      "\u001B[36m[DEBUG]-try https://eodhistoricaldata.com/api/eod/URBN.US?api_token=6318e406a42036.19146604&fmt=json&from=2014-02-03&to=2024-02-01 0\u001B[0m\n",
      "\u001B[36m[DEBUG]-try https://eodhistoricaldata.com/api/eod/ULTA.US?api_token=6318e406a42036.19146604&fmt=json&from=2014-02-03&to=2024-02-01 0\u001B[0m\n",
      "\u001B[36m[DEBUG]-try https://eodhistoricaldata.com/api/eod/V.US?api_token=6318e406a42036.19146604&fmt=json&from=2014-02-03&to=2024-02-01 0\u001B[0m\n",
      "\u001B[36m[DEBUG]-try https://eodhistoricaldata.com/api/eod/OXY.US?api_token=6318e406a42036.19146604&fmt=json&from=2014-02-03&to=2024-02-01 0\u001B[0m\n",
      "\u001B[36m[DEBUG]-try https://eodhistoricaldata.com/api/eod/USB.US?api_token=6318e406a42036.19146604&fmt=json&from=2014-02-03&to=2024-02-01 0\u001B[0m\n",
      "\u001B[36m[DEBUG]-try https://eodhistoricaldata.com/api/eod/TCOM.US?api_token=6318e406a42036.19146604&fmt=json&from=2014-02-03&to=2024-02-01 0\u001B[0m\n",
      "\u001B[36m[DEBUG]-try https://eodhistoricaldata.com/api/eod/VZ.US?api_token=6318e406a42036.19146604&fmt=json&from=2014-02-03&to=2024-02-01 0\u001B[0m\n",
      "\u001B[36m[DEBUG]-try https://eodhistoricaldata.com/api/eod/WAB.US?api_token=6318e406a42036.19146604&fmt=json&from=2014-02-03&to=2024-02-01 0\u001B[0m\n",
      "\u001B[36m[DEBUG]-try https://eodhistoricaldata.com/api/eod/VTR.US?api_token=6318e406a42036.19146604&fmt=json&from=2014-02-03&to=2024-02-01 0\u001B[0m\n",
      "\u001B[36m[DEBUG]-try https://eodhistoricaldata.com/api/eod/WDC.US?api_token=6318e406a42036.19146604&fmt=json&from=2014-02-03&to=2024-02-01 0\u001B[0m\n",
      "\u001B[36m[DEBUG]-try https://eodhistoricaldata.com/api/eod/WFC.US?api_token=6318e406a42036.19146604&fmt=json&from=2014-02-03&to=2024-02-01 0\u001B[0m\n",
      "\u001B[36m[DEBUG]-try https://eodhistoricaldata.com/api/eod/WRK.US?api_token=6318e406a42036.19146604&fmt=json&from=2014-02-03&to=2024-02-01 0\u001B[0m\n",
      "\u001B[36m[DEBUG]-try https://eodhistoricaldata.com/api/eod/WMT.US?api_token=6318e406a42036.19146604&fmt=json&from=2014-02-03&to=2024-02-01 0\u001B[0m\n",
      "\u001B[36m[DEBUG]-try https://eodhistoricaldata.com/api/eod/TTD.US?api_token=6318e406a42036.19146604&fmt=json&from=2014-02-03&to=2024-02-01 0\u001B[0m\n",
      "\u001B[36m[DEBUG]-try https://eodhistoricaldata.com/api/eod/WYNN.US?api_token=6318e406a42036.19146604&fmt=json&from=2014-02-03&to=2024-02-01 0\u001B[0m\n",
      "\u001B[36m[DEBUG]-try https://eodhistoricaldata.com/api/eod/UBER.US?api_token=6318e406a42036.19146604&fmt=json&from=2014-02-03&to=2024-02-01 0\u001B[0m\n",
      "\u001B[36m[DEBUG]-try https://eodhistoricaldata.com/api/eod/X.US?api_token=6318e406a42036.19146604&fmt=json&from=2014-02-03&to=2024-02-01 0\u001B[0m\n",
      "\u001B[36m[DEBUG]-try https://eodhistoricaldata.com/api/eod/WY.US?api_token=6318e406a42036.19146604&fmt=json&from=2014-02-03&to=2024-02-01 0\u001B[0m\n",
      "\u001B[36m[DEBUG]-try https://eodhistoricaldata.com/api/eod/ZION.US?api_token=6318e406a42036.19146604&fmt=json&from=2014-02-03&to=2024-02-01 0\u001B[0m\n",
      "\u001B[36m[DEBUG]-try https://eodhistoricaldata.com/api/eod/XOM.US?api_token=6318e406a42036.19146604&fmt=json&from=2014-02-03&to=2024-02-01 0\u001B[0m\n",
      "\u001B[36m[DEBUG]-try https://eodhistoricaldata.com/api/eod/XRX.US?api_token=6318e406a42036.19146604&fmt=json&from=2014-02-03&to=2024-02-01 0\u001B[0m\n",
      "\u001B[36m[DEBUG]-try https://eodhistoricaldata.com/api/eod/ARKK.US?api_token=6318e406a42036.19146604&fmt=json&from=2014-02-03&to=2024-02-01 0\u001B[0m\n",
      "\u001B[36m[DEBUG]-try https://eodhistoricaldata.com/api/eod/ZM.US?api_token=6318e406a42036.19146604&fmt=json&from=2014-02-03&to=2024-02-01 0\u001B[0m\n",
      "\u001B[36m[DEBUG]-try https://eodhistoricaldata.com/api/eod/YELP.US?api_token=6318e406a42036.19146604&fmt=json&from=2014-02-03&to=2024-02-01 0\u001B[0m\n",
      "\u001B[36m[DEBUG]-try https://eodhistoricaldata.com/api/eod/TSLA.US?api_token=6318e406a42036.19146604&fmt=json&from=2014-02-03&to=2024-02-01 0\u001B[0m\n",
      "\u001B[36m[DEBUG]-try https://eodhistoricaldata.com/api/eod/TRV.US?api_token=6318e406a42036.19146604&fmt=json&from=2014-02-03&to=2024-02-01 0\u001B[0m\n",
      "\u001B[36m[DEBUG]-try https://eodhistoricaldata.com/api/eod/EEM.US?api_token=6318e406a42036.19146604&fmt=json&from=2014-02-03&to=2024-02-01 0\u001B[0m\n",
      "\u001B[36m[DEBUG]-try https://eodhistoricaldata.com/api/eod/TT.US?api_token=6318e406a42036.19146604&fmt=json&from=2014-02-03&to=2024-02-01 0\u001B[0m\n",
      "\u001B[36m[DEBUG]-try https://eodhistoricaldata.com/api/eod/XEL.US?api_token=6318e406a42036.19146604&fmt=json&from=2014-02-03&to=2024-02-01 0\u001B[0m\n",
      "\u001B[36m[DEBUG]-try https://eodhistoricaldata.com/api/eod/EFA.US?api_token=6318e406a42036.19146604&fmt=json&from=2014-02-03&to=2024-02-01 0\u001B[0m\n",
      "\u001B[36m[DEBUG]-try https://eodhistoricaldata.com/api/eod/EWJ.US?api_token=6318e406a42036.19146604&fmt=json&from=2014-02-03&to=2024-02-01 0\u001B[0m\n",
      "\u001B[36m[DEBUG]-try https://eodhistoricaldata.com/api/eod/EWW.US?api_token=6318e406a42036.19146604&fmt=json&from=2014-02-03&to=2024-02-01 0\u001B[0m\n",
      "\u001B[36m[DEBUG]-try https://eodhistoricaldata.com/api/eod/WBA.US?api_token=6318e406a42036.19146604&fmt=json&from=2014-02-03&to=2024-02-01 0\u001B[0m\n",
      "\u001B[36m[DEBUG]-try https://eodhistoricaldata.com/api/eod/WM.US?api_token=6318e406a42036.19146604&fmt=json&from=2014-02-03&to=2024-02-01 0\u001B[0m\n",
      "\u001B[36m[DEBUG]-try https://eodhistoricaldata.com/api/eod/GDX.US?api_token=6318e406a42036.19146604&fmt=json&from=2014-02-03&to=2024-02-01 0\u001B[0m\n",
      "\u001B[36m[DEBUG]-try https://eodhistoricaldata.com/api/eod/WMB.US?api_token=6318e406a42036.19146604&fmt=json&from=2014-02-03&to=2024-02-01 0\u001B[0m\n",
      "\u001B[36m[DEBUG]-try https://eodhistoricaldata.com/api/eod/GLD.US?api_token=6318e406a42036.19146604&fmt=json&from=2014-02-03&to=2024-02-01 0\u001B[0m\n",
      "\u001B[36m[DEBUG]-try https://eodhistoricaldata.com/api/eod/HYG.US?api_token=6318e406a42036.19146604&fmt=json&from=2014-02-03&to=2024-02-01 0\u001B[0m\n",
      "\u001B[36m[DEBUG]-try https://eodhistoricaldata.com/api/eod/WU.US?api_token=6318e406a42036.19146604&fmt=json&from=2014-02-03&to=2024-02-01 0\u001B[0m\n",
      "\u001B[36m[DEBUG]-try https://eodhistoricaldata.com/api/eod/IWM.US?api_token=6318e406a42036.19146604&fmt=json&from=2014-02-03&to=2024-02-01 0\u001B[0m\n",
      "\u001B[36m[DEBUG]-try https://eodhistoricaldata.com/api/eod/SPXS.US?api_token=6318e406a42036.19146604&fmt=json&from=2014-02-03&to=2024-02-01 0\u001B[0m\n",
      "\u001B[36m[DEBUG]-try https://eodhistoricaldata.com/api/eod/IBB.US?api_token=6318e406a42036.19146604&fmt=json&from=2014-02-03&to=2024-02-01 0\u001B[0m\n",
      "\u001B[36m[DEBUG]-try https://eodhistoricaldata.com/api/eod/SQQQ.US?api_token=6318e406a42036.19146604&fmt=json&from=2014-02-03&to=2024-02-01 0\u001B[0m\n",
      "\u001B[36m[DEBUG]-try https://eodhistoricaldata.com/api/eod/TLT.US?api_token=6318e406a42036.19146604&fmt=json&from=2014-02-03&to=2024-02-01 0\u001B[0m\n",
      "\u001B[36m[DEBUG]-try https://eodhistoricaldata.com/api/eod/TBT.US?api_token=6318e406a42036.19146604&fmt=json&from=2014-02-03&to=2024-02-01 0\u001B[0m\n",
      "\u001B[36m[DEBUG]-try https://eodhistoricaldata.com/api/eod/KRE.US?api_token=6318e406a42036.19146604&fmt=json&from=2014-02-03&to=2024-02-01 0\u001B[0m\n",
      "\u001B[36m[DEBUG]-try https://eodhistoricaldata.com/api/eod/OIH.US?api_token=6318e406a42036.19146604&fmt=json&from=2014-02-03&to=2024-02-01 0\u001B[0m\n",
      "\u001B[36m[DEBUG]-try https://eodhistoricaldata.com/api/eod/USO.US?api_token=6318e406a42036.19146604&fmt=json&from=2014-02-03&to=2024-02-01 0\u001B[0m\n",
      "\u001B[36m[DEBUG]-try https://eodhistoricaldata.com/api/eod/UNG.US?api_token=6318e406a42036.19146604&fmt=json&from=2014-02-03&to=2024-02-01 0\u001B[0m\n",
      "\u001B[36m[DEBUG]-try https://eodhistoricaldata.com/api/eod/QQQ.US?api_token=6318e406a42036.19146604&fmt=json&from=2014-02-03&to=2024-02-01 0\u001B[0m\n",
      "\u001B[36m[DEBUG]-try https://eodhistoricaldata.com/api/eod/VGK.US?api_token=6318e406a42036.19146604&fmt=json&from=2014-02-03&to=2024-02-01 0\u001B[0m\n",
      "\u001B[36m[DEBUG]-try https://eodhistoricaldata.com/api/eod/XBI.US?api_token=6318e406a42036.19146604&fmt=json&from=2014-02-03&to=2024-02-01 0\u001B[0m\n",
      "\u001B[36m[DEBUG]-try https://eodhistoricaldata.com/api/eod/SMH.US?api_token=6318e406a42036.19146604&fmt=json&from=2014-02-03&to=2024-02-01 0\u001B[0m\n",
      "\u001B[36m[DEBUG]-try https://eodhistoricaldata.com/api/eod/XLB.US?api_token=6318e406a42036.19146604&fmt=json&from=2014-02-03&to=2024-02-01 0\u001B[0m\n",
      "\u001B[36m[DEBUG]-try https://eodhistoricaldata.com/api/eod/XLF.US?api_token=6318e406a42036.19146604&fmt=json&from=2014-02-03&to=2024-02-01 0\u001B[0m\n",
      "\u001B[36m[DEBUG]-try https://eodhistoricaldata.com/api/eod/XLE.US?api_token=6318e406a42036.19146604&fmt=json&from=2014-02-03&to=2024-02-01 0\u001B[0m\n",
      "\u001B[36m[DEBUG]-try https://eodhistoricaldata.com/api/eod/EWZ.US?api_token=6318e406a42036.19146604&fmt=json&from=2014-02-03&to=2024-02-01 0\u001B[0m\n",
      "\u001B[36m[DEBUG]-try https://eodhistoricaldata.com/api/eod/UVXY.US?api_token=6318e406a42036.19146604&fmt=json&from=2014-02-03&to=2024-02-01 0\u001B[0m\n",
      "\u001B[36m[DEBUG]-try https://eodhistoricaldata.com/api/eod/XHB.US?api_token=6318e406a42036.19146604&fmt=json&from=2014-02-03&to=2024-02-01 0\u001B[0m\n",
      "\u001B[36m[DEBUG]-try https://eodhistoricaldata.com/api/eod/FXE.US?api_token=6318e406a42036.19146604&fmt=json&from=2014-02-03&to=2024-02-01 0\u001B[0m\n",
      "\u001B[36m[DEBUG]-try https://eodhistoricaldata.com/api/eod/EWY.US?api_token=6318e406a42036.19146604&fmt=json&from=2014-02-03&to=2024-02-01 0\u001B[0m\n",
      "\u001B[36m[DEBUG]-try https://eodhistoricaldata.com/api/eod/XLC.US?api_token=6318e406a42036.19146604&fmt=json&from=2014-02-03&to=2024-02-01 0\u001B[0m\n",
      "\u001B[36m[DEBUG]-try https://eodhistoricaldata.com/api/eod/FXI.US?api_token=6318e406a42036.19146604&fmt=json&from=2014-02-03&to=2024-02-01 0\u001B[0m\n",
      "\u001B[36m[DEBUG]-try https://eodhistoricaldata.com/api/eod/XLRE.US?api_token=6318e406a42036.19146604&fmt=json&from=2014-02-03&to=2024-02-01 0\u001B[0m\n",
      "\u001B[36m[DEBUG]-try https://eodhistoricaldata.com/api/eod/IYR.US?api_token=6318e406a42036.19146604&fmt=json&from=2014-02-03&to=2024-02-01 0\u001B[0m\n",
      "\u001B[36m[DEBUG]-try https://eodhistoricaldata.com/api/eod/XLY.US?api_token=6318e406a42036.19146604&fmt=json&from=2014-02-03&to=2024-02-01 0\u001B[0m\n",
      "\u001B[36m[DEBUG]-try https://eodhistoricaldata.com/api/eod/XLK.US?api_token=6318e406a42036.19146604&fmt=json&from=2014-02-03&to=2024-02-01 0\u001B[0m\n",
      "\u001B[36m[DEBUG]-try https://eodhistoricaldata.com/api/eod/LQD.US?api_token=6318e406a42036.19146604&fmt=json&from=2014-02-03&to=2024-02-01 0\u001B[0m\n",
      "\u001B[36m[DEBUG]-try https://eodhistoricaldata.com/api/eod/XOP.US?api_token=6318e406a42036.19146604&fmt=json&from=2014-02-03&to=2024-02-01 0\u001B[0m\n",
      "\u001B[36m[DEBUG]-try https://eodhistoricaldata.com/api/eod/TLT.US?api_token=6318e406a42036.19146604&fmt=json&from=2014-02-03&to=2024-02-01 1\u001B[0m\n",
      "\u001B[36m[DEBUG]-try https://eodhistoricaldata.com/api/eod/SQQQ.US?api_token=6318e406a42036.19146604&fmt=json&from=2014-02-03&to=2024-02-01 1\u001B[0m\n",
      "\u001B[36m[DEBUG]-try https://eodhistoricaldata.com/api/eod/XRT.US?api_token=6318e406a42036.19146604&fmt=json&from=2014-02-03&to=2024-02-01 0\u001B[0m\n",
      "\u001B[36m[DEBUG]-try https://eodhistoricaldata.com/api/eod/SPXS.US?api_token=6318e406a42036.19146604&fmt=json&from=2014-02-03&to=2024-02-01 1\u001B[0m\n",
      "\u001B[36m[DEBUG]-try https://eodhistoricaldata.com/api/eod/XLP.US?api_token=6318e406a42036.19146604&fmt=json&from=2014-02-03&to=2024-02-01 0\u001B[0m\n",
      "\u001B[36m[DEBUG]-try https://eodhistoricaldata.com/api/eod/XLI.US?api_token=6318e406a42036.19146604&fmt=json&from=2014-02-03&to=2024-02-01 0\u001B[0m\n",
      "\u001B[36m[DEBUG]-try https://eodhistoricaldata.com/api/eod/SCHD.US?api_token=6318e406a42036.19146604&fmt=json&from=2014-02-03&to=2024-02-01 0\u001B[0m\n",
      "\u001B[36m[DEBUG]-try https://eodhistoricaldata.com/api/eod/USO.US?api_token=6318e406a42036.19146604&fmt=json&from=2014-02-03&to=2024-02-01 1\u001B[0m\n",
      "\u001B[36m[DEBUG]-try https://eodhistoricaldata.com/api/eod/UNG.US?api_token=6318e406a42036.19146604&fmt=json&from=2014-02-03&to=2024-02-01 1\u001B[0m\n",
      "\u001B[36m[DEBUG]-try https://eodhistoricaldata.com/api/eod/XBI.US?api_token=6318e406a42036.19146604&fmt=json&from=2014-02-03&to=2024-02-01 1\u001B[0m\n",
      "\u001B[36m[DEBUG]-try https://eodhistoricaldata.com/api/eod/XLV.US?api_token=6318e406a42036.19146604&fmt=json&from=2014-02-03&to=2024-02-01 0\u001B[0m\n",
      "\u001B[36m[DEBUG]-try https://eodhistoricaldata.com/api/eod/XLU.US?api_token=6318e406a42036.19146604&fmt=json&from=2014-02-03&to=2024-02-01 0\u001B[0m\n",
      "\u001B[36m[DEBUG]-try https://eodhistoricaldata.com/api/eod/DIA.US?api_token=6318e406a42036.19146604&fmt=json&from=2014-02-03&to=2024-02-01 0\u001B[0m\n",
      "\u001B[36m[DEBUG]-try https://eodhistoricaldata.com/api/eod/XLE.US?api_token=6318e406a42036.19146604&fmt=json&from=2014-02-03&to=2024-02-01 1\u001B[0m\n",
      "\u001B[36m[DEBUG]-try https://eodhistoricaldata.com/api/eod/TBT.US?api_token=6318e406a42036.19146604&fmt=json&from=2014-02-03&to=2024-02-01 1\u001B[0m\n",
      "\u001B[36m[DEBUG]-try https://eodhistoricaldata.com/api/eod/VFC.US?api_token=6318e406a42036.19146604&fmt=json&from=2014-02-03&to=2024-02-01 0\u001B[0m\n",
      "\u001B[36m[DEBUG]-try https://eodhistoricaldata.com/api/eod/XLF.US?api_token=6318e406a42036.19146604&fmt=json&from=2014-02-03&to=2024-02-01 1\u001B[0m\n",
      "\u001B[36m[DEBUG]-try https://eodhistoricaldata.com/api/eod/XLB.US?api_token=6318e406a42036.19146604&fmt=json&from=2014-02-03&to=2024-02-01 1\u001B[0m\n",
      "\u001B[36m[DEBUG]-try https://eodhistoricaldata.com/api/eod/SLV.US?api_token=6318e406a42036.19146604&fmt=json&from=2014-02-03&to=2024-02-01 0\u001B[0m\n",
      "\u001B[36m[DEBUG]-try https://eodhistoricaldata.com/api/eod/XLRE.US?api_token=6318e406a42036.19146604&fmt=json&from=2014-02-03&to=2024-02-01 1\u001B[0m\n",
      "\u001B[36m[DEBUG]-try https://eodhistoricaldata.com/api/eod/XRT.US?api_token=6318e406a42036.19146604&fmt=json&from=2014-02-03&to=2024-02-01 1\u001B[0m\n",
      "\u001B[36m[DEBUG]-try https://eodhistoricaldata.com/api/eod/SPXS.US?api_token=6318e406a42036.19146604&fmt=json&from=2014-02-03&to=2024-02-01 2\u001B[0m\n",
      "\u001B[36m[DEBUG]-try https://eodhistoricaldata.com/api/eod/USO.US?api_token=6318e406a42036.19146604&fmt=json&from=2014-02-03&to=2024-02-01 2\u001B[0m\n",
      "\u001B[36m[DEBUG]-try https://eodhistoricaldata.com/api/eod/XLY.US?api_token=6318e406a42036.19146604&fmt=json&from=2014-02-03&to=2024-02-01 1\u001B[0m\n",
      "\u001B[36m[DEBUG]-try https://eodhistoricaldata.com/api/eod/XBI.US?api_token=6318e406a42036.19146604&fmt=json&from=2014-02-03&to=2024-02-01 2\u001B[0m\n",
      "\u001B[36m[DEBUG]-try https://eodhistoricaldata.com/api/eod/VXX.US?api_token=6318e406a42036.19146604&fmt=json&from=2014-02-03&to=2024-02-01 0\u001B[0m\n",
      "\u001B[36m[DEBUG]-try https://eodhistoricaldata.com/api/eod/SPXL.US?api_token=6318e406a42036.19146604&fmt=json&from=2014-02-03&to=2024-02-01 0\u001B[0m\n",
      "\u001B[36m[DEBUG]-try https://eodhistoricaldata.com/api/eod/TQQQ.US?api_token=6318e406a42036.19146604&fmt=json&from=2014-02-03&to=2024-02-01 0\u001B[0m\n",
      "\u001B[36m[DEBUG]-try https://eodhistoricaldata.com/api/eod/VGK.US?api_token=6318e406a42036.19146604&fmt=json&from=2014-02-03&to=2024-02-01 1\u001B[0m\n",
      "\u001B[36m[DEBUG]-try https://eodhistoricaldata.com/api/eod/SQQQ.US?api_token=6318e406a42036.19146604&fmt=json&from=2014-02-03&to=2024-02-01 2\u001B[0m\n",
      "\u001B[36m[DEBUG]-try https://eodhistoricaldata.com/api/eod/XOP.US?api_token=6318e406a42036.19146604&fmt=json&from=2014-02-03&to=2024-02-01 1\u001B[0m\n",
      "\u001B[36m[DEBUG]-try https://eodhistoricaldata.com/api/eod/UNG.US?api_token=6318e406a42036.19146604&fmt=json&from=2014-02-03&to=2024-02-01 2\u001B[0m\n",
      "\u001B[36m[DEBUG]-try https://eodhistoricaldata.com/api/eod/XLE.US?api_token=6318e406a42036.19146604&fmt=json&from=2014-02-03&to=2024-02-01 2\u001B[0m\n",
      "\u001B[36m[DEBUG]-try https://eodhistoricaldata.com/api/eod/TLT.US?api_token=6318e406a42036.19146604&fmt=json&from=2014-02-03&to=2024-02-01 2\u001B[0m\n",
      "\u001B[36m[DEBUG]-try https://eodhistoricaldata.com/api/eod/XRT.US?api_token=6318e406a42036.19146604&fmt=json&from=2014-02-03&to=2024-02-01 2\u001B[0m\n",
      "\u001B[36m[DEBUG]-try https://eodhistoricaldata.com/api/eod/SPY.US?api_token=6318e406a42036.19146604&fmt=json&from=2014-02-03&to=2024-02-01 0\u001B[0m\n",
      "\u001B[36m[DEBUG]-try https://eodhistoricaldata.com/api/eod/VXX.US?api_token=6318e406a42036.19146604&fmt=json&from=2014-02-03&to=2024-02-01 1\u001B[0m\n",
      "\u001B[36m[DEBUG]-try https://eodhistoricaldata.com/api/eod/USO.US?api_token=6318e406a42036.19146604&fmt=json&from=2014-02-03&to=2024-02-01 3\u001B[0m\n",
      "\u001B[36m[DEBUG]-try https://eodhistoricaldata.com/api/eod/XBI.US?api_token=6318e406a42036.19146604&fmt=json&from=2014-02-03&to=2024-02-01 3\u001B[0m\n",
      "\u001B[36m[DEBUG]-try https://eodhistoricaldata.com/api/eod/SPXS.US?api_token=6318e406a42036.19146604&fmt=json&from=2014-02-03&to=2024-02-01 3\u001B[0m\n"
     ]
    }
   ],
   "source": [
    "exchanges = ['US' for _ in alpha_tickers]\n",
    "columns = ['ticker','spike>1', 'spike>2', 'spike>3', 'spike>4', \n",
    "           'spike>5', 'wait_1_sd', 'wait_2_sd', \n",
    "           'wait_3_sd', 'wait_4_sd', 'wait_5_sd','ks_stat','ks_pval', 'shapiro_wilk_stat','shapiro_wilk_pval', 'anderson_darling_15%_pass', 'anderson_darling_10%_pass', 'anderson_darling_5%_pass', 'anderson_darling_2.5%_pass','anderson_darling_1%_pass']\n",
    "stats_df = pd.DataFrame(columns=columns)\n",
    "dfs = await wrap.new_asyn_batch_get_ohlcv(alpha_tickers, exchanges)\n",
    "for df in dfs.values():\n",
    "    df.set_index('datetime', inplace=True)"
   ],
   "metadata": {
    "collapsed": false,
    "ExecuteTime": {
     "end_time": "2024-02-01T15:09:30.931804400Z",
     "start_time": "2024-02-01T15:09:24.019634700Z"
    }
   },
   "id": "7a93a2f6147dcd50",
   "execution_count": 24
  },
  {
   "cell_type": "code",
   "outputs": [],
   "source": [
    "TICKER = 'RTX'\n",
    "DATE_FROM = '2023-01-01'\n",
    "DATE_TO = '2024-01-29'\n",
    "DAY_MULTIPLE = 1\n",
    "ROLLING_WINDOW = 20\n",
    "LOOP_TICKERS = False\n",
    "\n",
    "if LOOP_TICKERS:\n",
    "    \n",
    "    for ticker in dfs:\n",
    "    \n",
    "        select_data = dfs[ticker]\n",
    "        slice_data = select_data.loc[DATE_FROM:DATE_TO]\n",
    "        slice_data.loc[:, 'lagged_close'] = slice_data['close'].shift(1)\n",
    "        slice_data.loc[:, 'prior_lagged_close'] = slice_data['lagged_close'].shift(DAY_MULTIPLE)\n",
    "        slice_data.loc[:, 'simple_ret_cc'] = slice_data['lagged_close'] / slice_data['prior_lagged_close']\n",
    "        slice_data.loc[:, 'abs_ret_cc'] = slice_data['close'] - slice_data['close'].shift(DAY_MULTIPLE)\n",
    "        slice_data.loc[:, 'log_ret_cc'] = np.log(slice_data['simple_ret_cc'])\n",
    "        slice_data.loc[:, 'n_period_vol_cc'] = slice_data['log_ret_cc'].rolling(ROLLING_WINDOW).std()  # n period volatility\n",
    "        slice_data.loc[:, 'annualised_vol_cc'] = slice_data['n_period_vol_cc'] * np.sqrt(DAY_MULTIPLE)\n",
    "        slice_data.loc[:, 'n_period_vol_price_terms'] = slice_data['n_period_vol_cc'] * slice_data['lagged_close']\n",
    "        slice_data.loc[:, 'n_period_spike'] = slice_data['abs_ret_cc'] / slice_data['n_period_vol_price_terms']\n",
    "        stats_data = slice_data.copy()\n",
    "        stats_data.dropna(inplace=True)\n",
    "        ticker_df  = pd.DataFrame(columns = stats_df.columns, index=[0])\n",
    "        \n",
    "        ticker_df['ticker'] = ticker\n",
    "        # Now calculate the statistics for each stock and save the min a dictionary.\n",
    "        \n",
    "        for i in range(1, 6):\n",
    "            count = (stats_data['n_period_spike'].abs() > i).sum()\n",
    "            ticker_df[f'spike>{i}']  = count\n",
    "        ks = stats.kstest(stats_data['log_ret_cc'],cdf='norm')\n",
    "        ticker_df['ks_stat'] = ks.statistic\n",
    "        ticker_df['ks_pval'] = ks.pvalue\n",
    "        \n",
    "        shap = stats.shapiro(stats_data['log_ret_cc'])\n",
    "        ticker_df['shapiro_wilk_stat'] = shap.statistic\n",
    "        ticker_df['shapiro_wilk_pval'] = shap.pvalue\n",
    "        \n",
    "        an = stats.anderson(stats_data['log_ret_cc'])\n",
    "        ticker_df['anderson_darling_15%_pass'] = an.critical_values[0] > an.statistic\n",
    "        ticker_df['anderson_darling_10%_pass'] = an.critical_values[1] > an.statistic\n",
    "        ticker_df['anderson_darling_5%_pass'] = an.critical_values[2] > an.statistic\n",
    "        ticker_df['anderson_darling_2.5%_pass'] = an.critical_values[3] > an.statistic\n",
    "        ticker_df['anderson_darling_1%_pass'] = an.critical_values[4] > an.statistic\n",
    "        ticker_df['anderson_darling_15%_pass'] = ticker_df['anderson_darling_15%_pass'].astype(bool)\n",
    "        ticker_df['anderson_darling_10%_pass'] = ticker_df['anderson_darling_10%_pass'].astype(bool)\n",
    "        ticker_df['anderson_darling_5%_pass'] = ticker_df['anderson_darling_5%_pass'].astype(bool)\n",
    "        ticker_df['anderson_darling_2.5%_pass'] = ticker_df['anderson_darling_2.5%_pass'].astype(bool)\n",
    "        ticker_df['anderson_darling_1%_pass'] = ticker_df['anderson_darling_1%_pass'].astype(bool)\n",
    "        stats_df = pd.concat([ticker_df, stats_df], ignore_index=True)\n",
    "else:\n",
    "    select_data = dfs[TICKER]\n",
    "    slice_data = select_data.loc[DATE_FROM:DATE_TO]\n",
    "    slice_data.loc[:, 'lagged_close'] = slice_data['close'].shift(1)\n",
    "    slice_data.loc[:, 'prior_lagged_close'] = slice_data['lagged_close'].shift(DAY_MULTIPLE)\n",
    "    slice_data.loc[:, 'simple_ret_cc'] = slice_data['lagged_close'] / slice_data['prior_lagged_close']\n",
    "    slice_data.loc[:, 'abs_ret_cc'] = slice_data['close'] - slice_data['close'].shift(DAY_MULTIPLE)\n",
    "    slice_data.loc[:, 'log_ret_cc'] = np.log(slice_data['simple_ret_cc'])\n",
    "    slice_data.loc[:, 'n_period_vol_cc'] = slice_data['log_ret_cc'].rolling(ROLLING_WINDOW).std()  # n period volatility\n",
    "    slice_data.loc[:, 'annualised_vol_cc'] = slice_data['n_period_vol_cc'] * np.sqrt(DAY_MULTIPLE)\n",
    "    slice_data.loc[:, 'n_period_vol_price_terms'] = slice_data['n_period_vol_cc'] * slice_data['lagged_close']\n",
    "    slice_data.loc[:, 'n_period_spike'] = slice_data['abs_ret_cc'] / slice_data['n_period_vol_price_terms']\n",
    "    stats_data = slice_data.copy()\n"
   ],
   "metadata": {
    "collapsed": false,
    "ExecuteTime": {
     "end_time": "2024-02-01T15:27:30.878757Z",
     "start_time": "2024-02-01T15:27:30.859729100Z"
    }
   },
   "id": "1fc3c75712bc09f9",
   "execution_count": 35
  },
  {
   "cell_type": "code",
   "outputs": [
    {
     "name": "stderr",
     "output_type": "stream",
     "text": [
      "\u001B[36m[DEBUG]-Starting new HTTPS connection (1): eodhistoricaldata.com:443\u001B[0m\n",
      "\u001B[36m[DEBUG]-https://eodhistoricaldata.com:443 \"GET /api/fundamentals/RTX.US?fmt=json&api_token=6318e406a42036.19146604&filter=Earnings HTTP/1.1\" 200 None\u001B[0m\n"
     ]
    }
   ],
   "source": [
    "# Now get earnings data  etc for an individual stock\n",
    "\n",
    "earnings_df = dm.get_equity_service().get_ticker_earnings_history(TICKER, 'US')\n",
    "earnings_df.set_index('reportDate', inplace=True)\n",
    "earnings_slice_df = earnings_df.loc[DATE_FROM:DATE_TO]\n",
    "earnings_slice_df.reset_index(inplace=True)\n",
    "earnings_slice_df['adjustedReportDate'] = np.where(\n",
    "    earnings_slice_df['beforeAfterMarket'] == 'AfterMarket',\n",
    "    pd.to_datetime(pd.to_datetime(earnings_slice_df['reportDate'], unit='ns') + pd.Timedelta(days=1)),\n",
    "    pd.to_datetime(earnings_slice_df['reportDate'], unit='ns')\n",
    ")\n",
    "\n"
   ],
   "metadata": {
    "collapsed": false,
    "ExecuteTime": {
     "end_time": "2024-02-01T15:27:33.322548100Z",
     "start_time": "2024-02-01T15:27:32.503669200Z"
    }
   },
   "id": "aaedc1212def0d73",
   "execution_count": 36
  },
  {
   "cell_type": "code",
   "outputs": [
    {
     "data": {
      "application/vnd.plotly.v1+json": {
       "data": [
        {
         "line": {
          "color": "#AFBEBF",
          "width": 1
         },
         "mode": "lines",
         "name": "n_period_spike",
         "x": [
          "2023-01-03T00:00:00",
          "2023-01-04T00:00:00",
          "2023-01-05T00:00:00",
          "2023-01-06T00:00:00",
          "2023-01-09T00:00:00",
          "2023-01-10T00:00:00",
          "2023-01-11T00:00:00",
          "2023-01-12T00:00:00",
          "2023-01-13T00:00:00",
          "2023-01-17T00:00:00",
          "2023-01-18T00:00:00",
          "2023-01-19T00:00:00",
          "2023-01-20T00:00:00",
          "2023-01-23T00:00:00",
          "2023-01-24T00:00:00",
          "2023-01-25T00:00:00",
          "2023-01-26T00:00:00",
          "2023-01-27T00:00:00",
          "2023-01-30T00:00:00",
          "2023-01-31T00:00:00",
          "2023-02-01T00:00:00",
          "2023-02-02T00:00:00",
          "2023-02-03T00:00:00",
          "2023-02-06T00:00:00",
          "2023-02-07T00:00:00",
          "2023-02-08T00:00:00",
          "2023-02-09T00:00:00",
          "2023-02-10T00:00:00",
          "2023-02-13T00:00:00",
          "2023-02-14T00:00:00",
          "2023-02-15T00:00:00",
          "2023-02-16T00:00:00",
          "2023-02-17T00:00:00",
          "2023-02-21T00:00:00",
          "2023-02-22T00:00:00",
          "2023-02-23T00:00:00",
          "2023-02-24T00:00:00",
          "2023-02-27T00:00:00",
          "2023-02-28T00:00:00",
          "2023-03-01T00:00:00",
          "2023-03-02T00:00:00",
          "2023-03-03T00:00:00",
          "2023-03-06T00:00:00",
          "2023-03-07T00:00:00",
          "2023-03-08T00:00:00",
          "2023-03-09T00:00:00",
          "2023-03-10T00:00:00",
          "2023-03-13T00:00:00",
          "2023-03-14T00:00:00",
          "2023-03-15T00:00:00",
          "2023-03-16T00:00:00",
          "2023-03-17T00:00:00",
          "2023-03-20T00:00:00",
          "2023-03-21T00:00:00",
          "2023-03-22T00:00:00",
          "2023-03-23T00:00:00",
          "2023-03-24T00:00:00",
          "2023-03-27T00:00:00",
          "2023-03-28T00:00:00",
          "2023-03-29T00:00:00",
          "2023-03-30T00:00:00",
          "2023-03-31T00:00:00",
          "2023-04-03T00:00:00",
          "2023-04-04T00:00:00",
          "2023-04-05T00:00:00",
          "2023-04-06T00:00:00",
          "2023-04-10T00:00:00",
          "2023-04-11T00:00:00",
          "2023-04-12T00:00:00",
          "2023-04-13T00:00:00",
          "2023-04-14T00:00:00",
          "2023-04-17T00:00:00",
          "2023-04-18T00:00:00",
          "2023-04-19T00:00:00",
          "2023-04-20T00:00:00",
          "2023-04-21T00:00:00",
          "2023-04-24T00:00:00",
          "2023-04-25T00:00:00",
          "2023-04-26T00:00:00",
          "2023-04-27T00:00:00",
          "2023-04-28T00:00:00",
          "2023-05-01T00:00:00",
          "2023-05-02T00:00:00",
          "2023-05-03T00:00:00",
          "2023-05-04T00:00:00",
          "2023-05-05T00:00:00",
          "2023-05-08T00:00:00",
          "2023-05-09T00:00:00",
          "2023-05-10T00:00:00",
          "2023-05-11T00:00:00",
          "2023-05-12T00:00:00",
          "2023-05-15T00:00:00",
          "2023-05-16T00:00:00",
          "2023-05-17T00:00:00",
          "2023-05-18T00:00:00",
          "2023-05-19T00:00:00",
          "2023-05-22T00:00:00",
          "2023-05-23T00:00:00",
          "2023-05-24T00:00:00",
          "2023-05-25T00:00:00",
          "2023-05-26T00:00:00",
          "2023-05-30T00:00:00",
          "2023-05-31T00:00:00",
          "2023-06-01T00:00:00",
          "2023-06-02T00:00:00",
          "2023-06-05T00:00:00",
          "2023-06-06T00:00:00",
          "2023-06-07T00:00:00",
          "2023-06-08T00:00:00",
          "2023-06-09T00:00:00",
          "2023-06-12T00:00:00",
          "2023-06-13T00:00:00",
          "2023-06-14T00:00:00",
          "2023-06-15T00:00:00",
          "2023-06-16T00:00:00",
          "2023-06-20T00:00:00",
          "2023-06-21T00:00:00",
          "2023-06-22T00:00:00",
          "2023-06-23T00:00:00",
          "2023-06-26T00:00:00",
          "2023-06-27T00:00:00",
          "2023-06-28T00:00:00",
          "2023-06-29T00:00:00",
          "2023-06-30T00:00:00",
          "2023-07-03T00:00:00",
          "2023-07-05T00:00:00",
          "2023-07-06T00:00:00",
          "2023-07-07T00:00:00",
          "2023-07-10T00:00:00",
          "2023-07-11T00:00:00",
          "2023-07-12T00:00:00",
          "2023-07-13T00:00:00",
          "2023-07-14T00:00:00",
          "2023-07-17T00:00:00",
          "2023-07-18T00:00:00",
          "2023-07-19T00:00:00",
          "2023-07-20T00:00:00",
          "2023-07-21T00:00:00",
          "2023-07-24T00:00:00",
          "2023-07-25T00:00:00",
          "2023-07-26T00:00:00",
          "2023-07-27T00:00:00",
          "2023-07-28T00:00:00",
          "2023-07-31T00:00:00",
          "2023-08-01T00:00:00",
          "2023-08-02T00:00:00",
          "2023-08-03T00:00:00",
          "2023-08-04T00:00:00",
          "2023-08-07T00:00:00",
          "2023-08-08T00:00:00",
          "2023-08-09T00:00:00",
          "2023-08-10T00:00:00",
          "2023-08-11T00:00:00",
          "2023-08-14T00:00:00",
          "2023-08-15T00:00:00",
          "2023-08-16T00:00:00",
          "2023-08-17T00:00:00",
          "2023-08-18T00:00:00",
          "2023-08-21T00:00:00",
          "2023-08-22T00:00:00",
          "2023-08-23T00:00:00",
          "2023-08-24T00:00:00",
          "2023-08-25T00:00:00",
          "2023-08-28T00:00:00",
          "2023-08-29T00:00:00",
          "2023-08-30T00:00:00",
          "2023-08-31T00:00:00",
          "2023-09-01T00:00:00",
          "2023-09-05T00:00:00",
          "2023-09-06T00:00:00",
          "2023-09-07T00:00:00",
          "2023-09-08T00:00:00",
          "2023-09-11T00:00:00",
          "2023-09-12T00:00:00",
          "2023-09-13T00:00:00",
          "2023-09-14T00:00:00",
          "2023-09-15T00:00:00",
          "2023-09-18T00:00:00",
          "2023-09-19T00:00:00",
          "2023-09-20T00:00:00",
          "2023-09-21T00:00:00",
          "2023-09-22T00:00:00",
          "2023-09-25T00:00:00",
          "2023-09-26T00:00:00",
          "2023-09-27T00:00:00",
          "2023-09-28T00:00:00",
          "2023-09-29T00:00:00",
          "2023-10-02T00:00:00",
          "2023-10-03T00:00:00",
          "2023-10-04T00:00:00",
          "2023-10-05T00:00:00",
          "2023-10-06T00:00:00",
          "2023-10-09T00:00:00",
          "2023-10-10T00:00:00",
          "2023-10-11T00:00:00",
          "2023-10-12T00:00:00",
          "2023-10-13T00:00:00",
          "2023-10-16T00:00:00",
          "2023-10-17T00:00:00",
          "2023-10-18T00:00:00",
          "2023-10-19T00:00:00",
          "2023-10-20T00:00:00",
          "2023-10-23T00:00:00",
          "2023-10-24T00:00:00",
          "2023-10-25T00:00:00",
          "2023-10-26T00:00:00",
          "2023-10-27T00:00:00",
          "2023-10-30T00:00:00",
          "2023-10-31T00:00:00",
          "2023-11-01T00:00:00",
          "2023-11-02T00:00:00",
          "2023-11-03T00:00:00",
          "2023-11-06T00:00:00",
          "2023-11-07T00:00:00",
          "2023-11-08T00:00:00",
          "2023-11-09T00:00:00",
          "2023-11-10T00:00:00",
          "2023-11-13T00:00:00",
          "2023-11-14T00:00:00",
          "2023-11-15T00:00:00",
          "2023-11-16T00:00:00",
          "2023-11-17T00:00:00",
          "2023-11-20T00:00:00",
          "2023-11-21T00:00:00",
          "2023-11-22T00:00:00",
          "2023-11-24T00:00:00",
          "2023-11-27T00:00:00",
          "2023-11-28T00:00:00",
          "2023-11-29T00:00:00",
          "2023-11-30T00:00:00",
          "2023-12-01T00:00:00",
          "2023-12-04T00:00:00",
          "2023-12-05T00:00:00",
          "2023-12-06T00:00:00",
          "2023-12-07T00:00:00",
          "2023-12-08T00:00:00",
          "2023-12-11T00:00:00",
          "2023-12-12T00:00:00",
          "2023-12-13T00:00:00",
          "2023-12-14T00:00:00",
          "2023-12-15T00:00:00",
          "2023-12-18T00:00:00",
          "2023-12-19T00:00:00",
          "2023-12-20T00:00:00",
          "2023-12-21T00:00:00",
          "2023-12-22T00:00:00",
          "2023-12-26T00:00:00",
          "2023-12-27T00:00:00",
          "2023-12-28T00:00:00",
          "2023-12-29T00:00:00",
          "2024-01-02T00:00:00",
          "2024-01-03T00:00:00",
          "2024-01-04T00:00:00",
          "2024-01-05T00:00:00",
          "2024-01-08T00:00:00",
          "2024-01-09T00:00:00",
          "2024-01-10T00:00:00",
          "2024-01-11T00:00:00",
          "2024-01-12T00:00:00",
          "2024-01-16T00:00:00",
          "2024-01-17T00:00:00",
          "2024-01-18T00:00:00",
          "2024-01-19T00:00:00",
          "2024-01-22T00:00:00",
          "2024-01-23T00:00:00",
          "2024-01-24T00:00:00",
          "2024-01-25T00:00:00",
          "2024-01-26T00:00:00",
          "2024-01-29T00:00:00"
         ],
         "y": [
          null,
          null,
          null,
          null,
          null,
          null,
          null,
          null,
          null,
          null,
          null,
          null,
          null,
          null,
          null,
          null,
          null,
          null,
          null,
          null,
          null,
          -0.9579689141910298,
          -0.31371982979837487,
          0.7617665812644748,
          0.1510976911182907,
          -0.1564447724834607,
          0.14283962889331397,
          1.966123018141426,
          -0.03200482102039622,
          0.5442941631051681,
          0.05976149098497107,
          -0.3663764174595831,
          0.42519416392465403,
          -0.6737839363421343,
          -0.11357387804227444,
          -0.8740387440217554,
          -0.019996555313841754,
          -0.4608570315397436,
          -1.0826248454819047,
          -0.050659182622710255,
          1.0124241381656758,
          0.021489261121292354,
          0.5693111475394887,
          -1.5517665147341702,
          -0.8959213691978257,
          -1.6696427921237567,
          0.07572967573064668,
          1.5810802607043455,
          1.1198674801994017,
          -3.083315720606869,
          2.4514236088770547,
          -2.122013335403416,
          1.5172356833606453,
          0.3778106181647291,
          -1.0266349115649338,
          -0.5443274223169461,
          0.34553807853952756,
          0.36537009456734265,
          -0.08474096402418174,
          0.7044102376373512,
          -0.2523632792473098,
          0.43594039259346457,
          2.038689154381157,
          -0.7298817019903726,
          -0.5216432434780324,
          -0.38578140224753066,
          1.0231129341088316,
          0.07003625315351295,
          1.2902677782325391,
          0.10949539990345981,
          0.0,
          1.173567695198448,
          1.4176643548918573,
          -0.5249601668519862,
          -1.137271293713575,
          -0.54897833039982,
          0.1979192308772446,
          -1.2888930995273473,
          -3.0682176013870075,
          1.2793134679790337,
          0.3646308403465558,
          0.30600450591396566,
          -1.036035346975039,
          -1.3193709229393051,
          -0.9483304446116361,
          0.5044571639192816,
          -0.7845586701688269,
          0.569521888502063,
          0.022952715690701953,
          -0.6173565190293541,
          0.36811306842768826,
          0.5734648834190539,
          -1.0239219292505661,
          0.9742434695810706,
          -0.365501344782296,
          0.0,
          -0.3967717755213075,
          -1.3463492586125554,
          -0.35929788710637767,
          -0.5697403524013437,
          0.16624231878824267,
          -0.529967519683046,
          -0.8404710454729315,
          2.5229394728326566,
          2.2572333999156924,
          -0.33539206601128047,
          1.740549810367947,
          1.1154538639967104,
          0.46211266174365395,
          0.24330794115656418,
          0.07626298728327258,
          0.25760656600355636,
          -2.7132186159015395,
          0.9732632614880034,
          -0.21926979342454456,
          -0.033926080740716874,
          1.162267645826396,
          -1.7604665033149485,
          -0.008066647867313032,
          -0.29202907373250475,
          -0.016355837076671393,
          -0.5395161354442539,
          1.5803180558265795,
          0.12411721881406988,
          0.3515878531177079,
          -0.13043249713156624,
          -0.16592257131771135,
          -0.5827068528986035,
          0.05712108870157652,
          0.5269173851468206,
          -1.1450584629156613,
          0.326084764202258,
          -0.9267286614839733,
          0.1673264079971358,
          -0.6534568271288064,
          -0.22146806260845067,
          1.8567634038402887,
          -0.8611644643902923,
          0.8065249544046713,
          -12.589294467305788,
          -0.36072188904717495,
          -0.5144910438865442,
          0.998929813305784,
          0.26173267172462056,
          0.017556978261012574,
          -1.1038918427870807,
          -0.35092105287422437,
          -0.05384808491156816,
          0.4129045439640407,
          0.32540060211315297,
          0.6780382550912042,
          -0.6495605415501251,
          0.2638269291728581,
          -0.16817353701286183,
          -0.3299893107656931,
          -0.22189733172643858,
          0.004295349507841796,
          0.2839521067886304,
          -0.12056977134817126,
          -0.08252228432111901,
          0.6690777212851017,
          -0.8311969078565464,
          -0.43898480153366315,
          1.1453617018403173,
          -0.40913494328459415,
          1.1365520711702197,
          -0.4749972272297771,
          0.3000253792720006,
          -1.5342329376716182,
          -1.8873612137213196,
          0.967029735466516,
          -1.0644869013616003,
          -8.822767095589963,
          -0.8759407366828442,
          0.0,
          -0.039505441319378956,
          0.1973172190429562,
          -0.4045710684252201,
          -0.06659764939744162,
          -0.4329901534816187,
          -1.2040451986647618,
          -0.7293895520654002,
          0.3274619840107911,
          0.14336429186293062,
          0.4303332057651314,
          -0.5951431457721897,
          -0.021128174306685545,
          -0.4422672105436568,
          -0.5435195939930948,
          -0.333034222924326,
          -0.5422240824983267,
          0.2963173495044685,
          2.3940324633382644,
          0.34742579322708267,
          -0.039418102679194836,
          -0.009861715038353763,
          -0.04930611387295543,
          0.7233591430158437,
          -0.08737950639342783,
          0.3402280527759638,
          -0.3405172993246866,
          -1.4296019411389815,
          0.6177742287370108,
          5.531459645413944,
          0.019038623590225758,
          0.4697404310671807,
          0.006389300869594492,
          -0.37705601373738773,
          1.8198934274701881,
          0.4559416490118442,
          0.3791108049473604,
          -0.036690033269771556,
          -0.19478864073916705,
          0.18157698870727068,
          0.35508259996801395,
          -0.5144536300247526,
          -0.13938778725597564,
          -0.12615887322392594,
          -0.8889714063290344,
          -0.03921516808840519,
          -0.26115390671951466,
          -0.36076000020392096,
          -0.34678546383668374,
          -0.6925859192112156,
          1.963346042864735,
          0.1687074937759213,
          -0.544216658247511,
          0.7665676180075355,
          0.8010876652786135,
          0.7309781495303447,
          1.1686410036392527,
          1.097501872722713,
          -0.5726978701063078,
          0.02606010693187321,
          -1.5811112524246667,
          -0.2280754140844187,
          0.7383700177294589,
          -1.0775877073923372,
          2.7189175039852045,
          -1.5007767170624473,
          -1.662791161033635,
          0.4115003990143432,
          1.936934793201925,
          -0.8957347899008604,
          0.3438088221983299,
          1.1971815478212284,
          0.7706810035770161,
          0.1120883462924695,
          0.0,
          -0.028387390873373167,
          1.02539319762435,
          0.3626083525201898,
          -0.18691499274138446,
          -0.028254953564762788,
          0.43324975328758575,
          -0.03934024237863193,
          0.2762299850268812,
          -0.750003183933771,
          1.0129603222058001,
          -0.9158458760498229,
          -0.5279396586598472,
          0.5625022357636348,
          0.07998211855501064,
          -0.8173774773008078,
          7.8195551723835175,
          -0.051214697606403965,
          1.256765439823681,
          -0.4440465714283829,
          -0.2744875598568792
         ],
         "type": "scatter"
        },
        {
         "marker": {
          "color": "yellow",
          "size": 6
         },
         "mode": "markers",
         "name": "Earnings Dates",
         "x": [
          "2023-01-24",
          "2023-04-25",
          "2023-07-25",
          "2023-10-24",
          "2024-01-23"
         ],
         "y": [
          null,
          -1.2888930995273473,
          -12.589294467305788,
          5.531459645413944,
          7.8195551723835175
         ],
         "type": "scatter"
        }
       ],
       "layout": {
        "template": {
         "data": {
          "histogram2dcontour": [
           {
            "type": "histogram2dcontour",
            "colorbar": {
             "outlinewidth": 0,
             "ticks": ""
            },
            "colorscale": [
             [
              0.0,
              "#0d0887"
             ],
             [
              0.1111111111111111,
              "#46039f"
             ],
             [
              0.2222222222222222,
              "#7201a8"
             ],
             [
              0.3333333333333333,
              "#9c179e"
             ],
             [
              0.4444444444444444,
              "#bd3786"
             ],
             [
              0.5555555555555556,
              "#d8576b"
             ],
             [
              0.6666666666666666,
              "#ed7953"
             ],
             [
              0.7777777777777778,
              "#fb9f3a"
             ],
             [
              0.8888888888888888,
              "#fdca26"
             ],
             [
              1.0,
              "#f0f921"
             ]
            ]
           }
          ],
          "choropleth": [
           {
            "type": "choropleth",
            "colorbar": {
             "outlinewidth": 0,
             "ticks": ""
            }
           }
          ],
          "histogram2d": [
           {
            "type": "histogram2d",
            "colorbar": {
             "outlinewidth": 0,
             "ticks": ""
            },
            "colorscale": [
             [
              0.0,
              "#0d0887"
             ],
             [
              0.1111111111111111,
              "#46039f"
             ],
             [
              0.2222222222222222,
              "#7201a8"
             ],
             [
              0.3333333333333333,
              "#9c179e"
             ],
             [
              0.4444444444444444,
              "#bd3786"
             ],
             [
              0.5555555555555556,
              "#d8576b"
             ],
             [
              0.6666666666666666,
              "#ed7953"
             ],
             [
              0.7777777777777778,
              "#fb9f3a"
             ],
             [
              0.8888888888888888,
              "#fdca26"
             ],
             [
              1.0,
              "#f0f921"
             ]
            ]
           }
          ],
          "heatmap": [
           {
            "type": "heatmap",
            "colorbar": {
             "outlinewidth": 0,
             "ticks": ""
            },
            "colorscale": [
             [
              0.0,
              "#0d0887"
             ],
             [
              0.1111111111111111,
              "#46039f"
             ],
             [
              0.2222222222222222,
              "#7201a8"
             ],
             [
              0.3333333333333333,
              "#9c179e"
             ],
             [
              0.4444444444444444,
              "#bd3786"
             ],
             [
              0.5555555555555556,
              "#d8576b"
             ],
             [
              0.6666666666666666,
              "#ed7953"
             ],
             [
              0.7777777777777778,
              "#fb9f3a"
             ],
             [
              0.8888888888888888,
              "#fdca26"
             ],
             [
              1.0,
              "#f0f921"
             ]
            ]
           }
          ],
          "heatmapgl": [
           {
            "type": "heatmapgl",
            "colorbar": {
             "outlinewidth": 0,
             "ticks": ""
            },
            "colorscale": [
             [
              0.0,
              "#0d0887"
             ],
             [
              0.1111111111111111,
              "#46039f"
             ],
             [
              0.2222222222222222,
              "#7201a8"
             ],
             [
              0.3333333333333333,
              "#9c179e"
             ],
             [
              0.4444444444444444,
              "#bd3786"
             ],
             [
              0.5555555555555556,
              "#d8576b"
             ],
             [
              0.6666666666666666,
              "#ed7953"
             ],
             [
              0.7777777777777778,
              "#fb9f3a"
             ],
             [
              0.8888888888888888,
              "#fdca26"
             ],
             [
              1.0,
              "#f0f921"
             ]
            ]
           }
          ],
          "contourcarpet": [
           {
            "type": "contourcarpet",
            "colorbar": {
             "outlinewidth": 0,
             "ticks": ""
            }
           }
          ],
          "contour": [
           {
            "type": "contour",
            "colorbar": {
             "outlinewidth": 0,
             "ticks": ""
            },
            "colorscale": [
             [
              0.0,
              "#0d0887"
             ],
             [
              0.1111111111111111,
              "#46039f"
             ],
             [
              0.2222222222222222,
              "#7201a8"
             ],
             [
              0.3333333333333333,
              "#9c179e"
             ],
             [
              0.4444444444444444,
              "#bd3786"
             ],
             [
              0.5555555555555556,
              "#d8576b"
             ],
             [
              0.6666666666666666,
              "#ed7953"
             ],
             [
              0.7777777777777778,
              "#fb9f3a"
             ],
             [
              0.8888888888888888,
              "#fdca26"
             ],
             [
              1.0,
              "#f0f921"
             ]
            ]
           }
          ],
          "surface": [
           {
            "type": "surface",
            "colorbar": {
             "outlinewidth": 0,
             "ticks": ""
            },
            "colorscale": [
             [
              0.0,
              "#0d0887"
             ],
             [
              0.1111111111111111,
              "#46039f"
             ],
             [
              0.2222222222222222,
              "#7201a8"
             ],
             [
              0.3333333333333333,
              "#9c179e"
             ],
             [
              0.4444444444444444,
              "#bd3786"
             ],
             [
              0.5555555555555556,
              "#d8576b"
             ],
             [
              0.6666666666666666,
              "#ed7953"
             ],
             [
              0.7777777777777778,
              "#fb9f3a"
             ],
             [
              0.8888888888888888,
              "#fdca26"
             ],
             [
              1.0,
              "#f0f921"
             ]
            ]
           }
          ],
          "mesh3d": [
           {
            "type": "mesh3d",
            "colorbar": {
             "outlinewidth": 0,
             "ticks": ""
            }
           }
          ],
          "scatter": [
           {
            "marker": {
             "line": {
              "color": "#283442"
             }
            },
            "type": "scatter"
           }
          ],
          "parcoords": [
           {
            "type": "parcoords",
            "line": {
             "colorbar": {
              "outlinewidth": 0,
              "ticks": ""
             }
            }
           }
          ],
          "scatterpolargl": [
           {
            "type": "scatterpolargl",
            "marker": {
             "colorbar": {
              "outlinewidth": 0,
              "ticks": ""
             }
            }
           }
          ],
          "bar": [
           {
            "error_x": {
             "color": "#f2f5fa"
            },
            "error_y": {
             "color": "#f2f5fa"
            },
            "marker": {
             "line": {
              "color": "rgb(17,17,17)",
              "width": 0.5
             },
             "pattern": {
              "fillmode": "overlay",
              "size": 10,
              "solidity": 0.2
             }
            },
            "type": "bar"
           }
          ],
          "scattergeo": [
           {
            "type": "scattergeo",
            "marker": {
             "colorbar": {
              "outlinewidth": 0,
              "ticks": ""
             }
            }
           }
          ],
          "scatterpolar": [
           {
            "type": "scatterpolar",
            "marker": {
             "colorbar": {
              "outlinewidth": 0,
              "ticks": ""
             }
            }
           }
          ],
          "histogram": [
           {
            "marker": {
             "pattern": {
              "fillmode": "overlay",
              "size": 10,
              "solidity": 0.2
             }
            },
            "type": "histogram"
           }
          ],
          "scattergl": [
           {
            "marker": {
             "line": {
              "color": "#283442"
             }
            },
            "type": "scattergl"
           }
          ],
          "scatter3d": [
           {
            "type": "scatter3d",
            "line": {
             "colorbar": {
              "outlinewidth": 0,
              "ticks": ""
             }
            },
            "marker": {
             "colorbar": {
              "outlinewidth": 0,
              "ticks": ""
             }
            }
           }
          ],
          "scattermapbox": [
           {
            "type": "scattermapbox",
            "marker": {
             "colorbar": {
              "outlinewidth": 0,
              "ticks": ""
             }
            }
           }
          ],
          "scatterternary": [
           {
            "type": "scatterternary",
            "marker": {
             "colorbar": {
              "outlinewidth": 0,
              "ticks": ""
             }
            }
           }
          ],
          "scattercarpet": [
           {
            "type": "scattercarpet",
            "marker": {
             "colorbar": {
              "outlinewidth": 0,
              "ticks": ""
             }
            }
           }
          ],
          "carpet": [
           {
            "aaxis": {
             "endlinecolor": "#A2B1C6",
             "gridcolor": "#506784",
             "linecolor": "#506784",
             "minorgridcolor": "#506784",
             "startlinecolor": "#A2B1C6"
            },
            "baxis": {
             "endlinecolor": "#A2B1C6",
             "gridcolor": "#506784",
             "linecolor": "#506784",
             "minorgridcolor": "#506784",
             "startlinecolor": "#A2B1C6"
            },
            "type": "carpet"
           }
          ],
          "table": [
           {
            "cells": {
             "fill": {
              "color": "#506784"
             },
             "line": {
              "color": "rgb(17,17,17)"
             }
            },
            "header": {
             "fill": {
              "color": "#2a3f5f"
             },
             "line": {
              "color": "rgb(17,17,17)"
             }
            },
            "type": "table"
           }
          ],
          "barpolar": [
           {
            "marker": {
             "line": {
              "color": "rgb(17,17,17)",
              "width": 0.5
             },
             "pattern": {
              "fillmode": "overlay",
              "size": 10,
              "solidity": 0.2
             }
            },
            "type": "barpolar"
           }
          ],
          "pie": [
           {
            "automargin": true,
            "type": "pie"
           }
          ]
         },
         "layout": {
          "autotypenumbers": "strict",
          "colorway": [
           "#636efa",
           "#EF553B",
           "#00cc96",
           "#ab63fa",
           "#FFA15A",
           "#19d3f3",
           "#FF6692",
           "#B6E880",
           "#FF97FF",
           "#FECB52"
          ],
          "font": {
           "color": "#f2f5fa"
          },
          "hovermode": "closest",
          "hoverlabel": {
           "align": "left"
          },
          "paper_bgcolor": "rgb(17,17,17)",
          "plot_bgcolor": "rgb(17,17,17)",
          "polar": {
           "bgcolor": "rgb(17,17,17)",
           "angularaxis": {
            "gridcolor": "#506784",
            "linecolor": "#506784",
            "ticks": ""
           },
           "radialaxis": {
            "gridcolor": "#506784",
            "linecolor": "#506784",
            "ticks": ""
           }
          },
          "ternary": {
           "bgcolor": "rgb(17,17,17)",
           "aaxis": {
            "gridcolor": "#506784",
            "linecolor": "#506784",
            "ticks": ""
           },
           "baxis": {
            "gridcolor": "#506784",
            "linecolor": "#506784",
            "ticks": ""
           },
           "caxis": {
            "gridcolor": "#506784",
            "linecolor": "#506784",
            "ticks": ""
           }
          },
          "coloraxis": {
           "colorbar": {
            "outlinewidth": 0,
            "ticks": ""
           }
          },
          "colorscale": {
           "sequential": [
            [
             0.0,
             "#0d0887"
            ],
            [
             0.1111111111111111,
             "#46039f"
            ],
            [
             0.2222222222222222,
             "#7201a8"
            ],
            [
             0.3333333333333333,
             "#9c179e"
            ],
            [
             0.4444444444444444,
             "#bd3786"
            ],
            [
             0.5555555555555556,
             "#d8576b"
            ],
            [
             0.6666666666666666,
             "#ed7953"
            ],
            [
             0.7777777777777778,
             "#fb9f3a"
            ],
            [
             0.8888888888888888,
             "#fdca26"
            ],
            [
             1.0,
             "#f0f921"
            ]
           ],
           "sequentialminus": [
            [
             0.0,
             "#0d0887"
            ],
            [
             0.1111111111111111,
             "#46039f"
            ],
            [
             0.2222222222222222,
             "#7201a8"
            ],
            [
             0.3333333333333333,
             "#9c179e"
            ],
            [
             0.4444444444444444,
             "#bd3786"
            ],
            [
             0.5555555555555556,
             "#d8576b"
            ],
            [
             0.6666666666666666,
             "#ed7953"
            ],
            [
             0.7777777777777778,
             "#fb9f3a"
            ],
            [
             0.8888888888888888,
             "#fdca26"
            ],
            [
             1.0,
             "#f0f921"
            ]
           ],
           "diverging": [
            [
             0,
             "#8e0152"
            ],
            [
             0.1,
             "#c51b7d"
            ],
            [
             0.2,
             "#de77ae"
            ],
            [
             0.3,
             "#f1b6da"
            ],
            [
             0.4,
             "#fde0ef"
            ],
            [
             0.5,
             "#f7f7f7"
            ],
            [
             0.6,
             "#e6f5d0"
            ],
            [
             0.7,
             "#b8e186"
            ],
            [
             0.8,
             "#7fbc41"
            ],
            [
             0.9,
             "#4d9221"
            ],
            [
             1,
             "#276419"
            ]
           ]
          },
          "xaxis": {
           "gridcolor": "#283442",
           "linecolor": "#506784",
           "ticks": "",
           "title": {
            "standoff": 15
           },
           "zerolinecolor": "#283442",
           "automargin": true,
           "zerolinewidth": 2
          },
          "yaxis": {
           "gridcolor": "#283442",
           "linecolor": "#506784",
           "ticks": "",
           "title": {
            "standoff": 15
           },
           "zerolinecolor": "#283442",
           "automargin": true,
           "zerolinewidth": 2
          },
          "scene": {
           "xaxis": {
            "backgroundcolor": "rgb(17,17,17)",
            "gridcolor": "#506784",
            "linecolor": "#506784",
            "showbackground": true,
            "ticks": "",
            "zerolinecolor": "#C8D4E3",
            "gridwidth": 2
           },
           "yaxis": {
            "backgroundcolor": "rgb(17,17,17)",
            "gridcolor": "#506784",
            "linecolor": "#506784",
            "showbackground": true,
            "ticks": "",
            "zerolinecolor": "#C8D4E3",
            "gridwidth": 2
           },
           "zaxis": {
            "backgroundcolor": "rgb(17,17,17)",
            "gridcolor": "#506784",
            "linecolor": "#506784",
            "showbackground": true,
            "ticks": "",
            "zerolinecolor": "#C8D4E3",
            "gridwidth": 2
           }
          },
          "shapedefaults": {
           "line": {
            "color": "#f2f5fa"
           }
          },
          "annotationdefaults": {
           "arrowcolor": "#f2f5fa",
           "arrowhead": 0,
           "arrowwidth": 1
          },
          "geo": {
           "bgcolor": "rgb(17,17,17)",
           "landcolor": "rgb(17,17,17)",
           "subunitcolor": "#506784",
           "showland": true,
           "showlakes": true,
           "lakecolor": "rgb(17,17,17)"
          },
          "title": {
           "x": 0.05
          },
          "updatemenudefaults": {
           "bgcolor": "#506784",
           "borderwidth": 0
          },
          "sliderdefaults": {
           "bgcolor": "#C8D4E3",
           "borderwidth": 1,
           "bordercolor": "rgb(17,17,17)",
           "tickwidth": 0
          },
          "mapbox": {
           "style": "dark"
          }
         }
        },
        "shapes": [
         {
          "line": {
           "color": "lime",
           "dash": "dot",
           "width": 1
          },
          "type": "line",
          "x0": "2023-01-03T00:00:00",
          "x1": "2024-01-29T00:00:00",
          "y0": 1,
          "y1": 1
         },
         {
          "line": {
           "color": "lime",
           "dash": "dot",
           "width": 1
          },
          "type": "line",
          "x0": "2023-01-03T00:00:00",
          "x1": "2024-01-29T00:00:00",
          "y0": -1,
          "y1": -1
         },
         {
          "line": {
           "color": "pink",
           "dash": "dot",
           "width": 1
          },
          "type": "line",
          "x0": "2023-01-03T00:00:00",
          "x1": "2024-01-29T00:00:00",
          "y0": 2,
          "y1": 2
         },
         {
          "line": {
           "color": "pink",
           "dash": "dot",
           "width": 1
          },
          "type": "line",
          "x0": "2023-01-03T00:00:00",
          "x1": "2024-01-29T00:00:00",
          "y0": -2,
          "y1": -2
         },
         {
          "line": {
           "color": "red",
           "dash": "dot",
           "width": 1
          },
          "type": "line",
          "x0": "2023-01-03T00:00:00",
          "x1": "2024-01-29T00:00:00",
          "y0": 3,
          "y1": 3
         },
         {
          "line": {
           "color": "red",
           "dash": "dot",
           "width": 1
          },
          "type": "line",
          "x0": "2023-01-03T00:00:00",
          "x1": "2024-01-29T00:00:00",
          "y0": -3,
          "y1": -3
         }
        ],
        "title": {
         "font": {
          "size": 13,
          "color": "white"
         },
         "text": "1 period spikes in S.D terms for ticker: RTX<br>From: 2023-01-01<br>To: 2024-01-29"
        },
        "legend": {
         "yanchor": "top",
         "y": 0.99,
         "xanchor": "left",
         "x": 0.01
        },
        "xaxis": {
         "showgrid": false,
         "gridcolor": "#2A2E31",
         "gridwidth": 0.1,
         "zeroline": false,
         "zerolinecolor": "turquoise",
         "zerolinewidth": 1
        },
        "yaxis": {
         "showgrid": true,
         "gridcolor": "#2A2E31",
         "gridwidth": 0.1,
         "zeroline": true,
         "zerolinecolor": "turquoise",
         "zerolinewidth": 1
        },
        "font": {
         "color": "white",
         "size": 12
        },
        "showlegend": true,
        "autosize": false,
        "width": 1200,
        "height": 800,
        "plot_bgcolor": "black",
        "paper_bgcolor": "rgba(0,0,0,0)"
       },
       "config": {
        "plotlyServerURL": "https://plot.ly"
       }
      },
      "text/html": "<div>                            <div id=\"b416c528-b141-4b0f-af9a-9176bac802a6\" class=\"plotly-graph-div\" style=\"height:800px; width:1200px;\"></div>            <script type=\"text/javascript\">                require([\"plotly\"], function(Plotly) {                    window.PLOTLYENV=window.PLOTLYENV || {};                                    if (document.getElementById(\"b416c528-b141-4b0f-af9a-9176bac802a6\")) {                    Plotly.newPlot(                        \"b416c528-b141-4b0f-af9a-9176bac802a6\",                        [{\"line\":{\"color\":\"#AFBEBF\",\"width\":1},\"mode\":\"lines\",\"name\":\"n_period_spike\",\"x\":[\"2023-01-03T00:00:00\",\"2023-01-04T00:00:00\",\"2023-01-05T00:00:00\",\"2023-01-06T00:00:00\",\"2023-01-09T00:00:00\",\"2023-01-10T00:00:00\",\"2023-01-11T00:00:00\",\"2023-01-12T00:00:00\",\"2023-01-13T00:00:00\",\"2023-01-17T00:00:00\",\"2023-01-18T00:00:00\",\"2023-01-19T00:00:00\",\"2023-01-20T00:00:00\",\"2023-01-23T00:00:00\",\"2023-01-24T00:00:00\",\"2023-01-25T00:00:00\",\"2023-01-26T00:00:00\",\"2023-01-27T00:00:00\",\"2023-01-30T00:00:00\",\"2023-01-31T00:00:00\",\"2023-02-01T00:00:00\",\"2023-02-02T00:00:00\",\"2023-02-03T00:00:00\",\"2023-02-06T00:00:00\",\"2023-02-07T00:00:00\",\"2023-02-08T00:00:00\",\"2023-02-09T00:00:00\",\"2023-02-10T00:00:00\",\"2023-02-13T00:00:00\",\"2023-02-14T00:00:00\",\"2023-02-15T00:00:00\",\"2023-02-16T00:00:00\",\"2023-02-17T00:00:00\",\"2023-02-21T00:00:00\",\"2023-02-22T00:00:00\",\"2023-02-23T00:00:00\",\"2023-02-24T00:00:00\",\"2023-02-27T00:00:00\",\"2023-02-28T00:00:00\",\"2023-03-01T00:00:00\",\"2023-03-02T00:00:00\",\"2023-03-03T00:00:00\",\"2023-03-06T00:00:00\",\"2023-03-07T00:00:00\",\"2023-03-08T00:00:00\",\"2023-03-09T00:00:00\",\"2023-03-10T00:00:00\",\"2023-03-13T00:00:00\",\"2023-03-14T00:00:00\",\"2023-03-15T00:00:00\",\"2023-03-16T00:00:00\",\"2023-03-17T00:00:00\",\"2023-03-20T00:00:00\",\"2023-03-21T00:00:00\",\"2023-03-22T00:00:00\",\"2023-03-23T00:00:00\",\"2023-03-24T00:00:00\",\"2023-03-27T00:00:00\",\"2023-03-28T00:00:00\",\"2023-03-29T00:00:00\",\"2023-03-30T00:00:00\",\"2023-03-31T00:00:00\",\"2023-04-03T00:00:00\",\"2023-04-04T00:00:00\",\"2023-04-05T00:00:00\",\"2023-04-06T00:00:00\",\"2023-04-10T00:00:00\",\"2023-04-11T00:00:00\",\"2023-04-12T00:00:00\",\"2023-04-13T00:00:00\",\"2023-04-14T00:00:00\",\"2023-04-17T00:00:00\",\"2023-04-18T00:00:00\",\"2023-04-19T00:00:00\",\"2023-04-20T00:00:00\",\"2023-04-21T00:00:00\",\"2023-04-24T00:00:00\",\"2023-04-25T00:00:00\",\"2023-04-26T00:00:00\",\"2023-04-27T00:00:00\",\"2023-04-28T00:00:00\",\"2023-05-01T00:00:00\",\"2023-05-02T00:00:00\",\"2023-05-03T00:00:00\",\"2023-05-04T00:00:00\",\"2023-05-05T00:00:00\",\"2023-05-08T00:00:00\",\"2023-05-09T00:00:00\",\"2023-05-10T00:00:00\",\"2023-05-11T00:00:00\",\"2023-05-12T00:00:00\",\"2023-05-15T00:00:00\",\"2023-05-16T00:00:00\",\"2023-05-17T00:00:00\",\"2023-05-18T00:00:00\",\"2023-05-19T00:00:00\",\"2023-05-22T00:00:00\",\"2023-05-23T00:00:00\",\"2023-05-24T00:00:00\",\"2023-05-25T00:00:00\",\"2023-05-26T00:00:00\",\"2023-05-30T00:00:00\",\"2023-05-31T00:00:00\",\"2023-06-01T00:00:00\",\"2023-06-02T00:00:00\",\"2023-06-05T00:00:00\",\"2023-06-06T00:00:00\",\"2023-06-07T00:00:00\",\"2023-06-08T00:00:00\",\"2023-06-09T00:00:00\",\"2023-06-12T00:00:00\",\"2023-06-13T00:00:00\",\"2023-06-14T00:00:00\",\"2023-06-15T00:00:00\",\"2023-06-16T00:00:00\",\"2023-06-20T00:00:00\",\"2023-06-21T00:00:00\",\"2023-06-22T00:00:00\",\"2023-06-23T00:00:00\",\"2023-06-26T00:00:00\",\"2023-06-27T00:00:00\",\"2023-06-28T00:00:00\",\"2023-06-29T00:00:00\",\"2023-06-30T00:00:00\",\"2023-07-03T00:00:00\",\"2023-07-05T00:00:00\",\"2023-07-06T00:00:00\",\"2023-07-07T00:00:00\",\"2023-07-10T00:00:00\",\"2023-07-11T00:00:00\",\"2023-07-12T00:00:00\",\"2023-07-13T00:00:00\",\"2023-07-14T00:00:00\",\"2023-07-17T00:00:00\",\"2023-07-18T00:00:00\",\"2023-07-19T00:00:00\",\"2023-07-20T00:00:00\",\"2023-07-21T00:00:00\",\"2023-07-24T00:00:00\",\"2023-07-25T00:00:00\",\"2023-07-26T00:00:00\",\"2023-07-27T00:00:00\",\"2023-07-28T00:00:00\",\"2023-07-31T00:00:00\",\"2023-08-01T00:00:00\",\"2023-08-02T00:00:00\",\"2023-08-03T00:00:00\",\"2023-08-04T00:00:00\",\"2023-08-07T00:00:00\",\"2023-08-08T00:00:00\",\"2023-08-09T00:00:00\",\"2023-08-10T00:00:00\",\"2023-08-11T00:00:00\",\"2023-08-14T00:00:00\",\"2023-08-15T00:00:00\",\"2023-08-16T00:00:00\",\"2023-08-17T00:00:00\",\"2023-08-18T00:00:00\",\"2023-08-21T00:00:00\",\"2023-08-22T00:00:00\",\"2023-08-23T00:00:00\",\"2023-08-24T00:00:00\",\"2023-08-25T00:00:00\",\"2023-08-28T00:00:00\",\"2023-08-29T00:00:00\",\"2023-08-30T00:00:00\",\"2023-08-31T00:00:00\",\"2023-09-01T00:00:00\",\"2023-09-05T00:00:00\",\"2023-09-06T00:00:00\",\"2023-09-07T00:00:00\",\"2023-09-08T00:00:00\",\"2023-09-11T00:00:00\",\"2023-09-12T00:00:00\",\"2023-09-13T00:00:00\",\"2023-09-14T00:00:00\",\"2023-09-15T00:00:00\",\"2023-09-18T00:00:00\",\"2023-09-19T00:00:00\",\"2023-09-20T00:00:00\",\"2023-09-21T00:00:00\",\"2023-09-22T00:00:00\",\"2023-09-25T00:00:00\",\"2023-09-26T00:00:00\",\"2023-09-27T00:00:00\",\"2023-09-28T00:00:00\",\"2023-09-29T00:00:00\",\"2023-10-02T00:00:00\",\"2023-10-03T00:00:00\",\"2023-10-04T00:00:00\",\"2023-10-05T00:00:00\",\"2023-10-06T00:00:00\",\"2023-10-09T00:00:00\",\"2023-10-10T00:00:00\",\"2023-10-11T00:00:00\",\"2023-10-12T00:00:00\",\"2023-10-13T00:00:00\",\"2023-10-16T00:00:00\",\"2023-10-17T00:00:00\",\"2023-10-18T00:00:00\",\"2023-10-19T00:00:00\",\"2023-10-20T00:00:00\",\"2023-10-23T00:00:00\",\"2023-10-24T00:00:00\",\"2023-10-25T00:00:00\",\"2023-10-26T00:00:00\",\"2023-10-27T00:00:00\",\"2023-10-30T00:00:00\",\"2023-10-31T00:00:00\",\"2023-11-01T00:00:00\",\"2023-11-02T00:00:00\",\"2023-11-03T00:00:00\",\"2023-11-06T00:00:00\",\"2023-11-07T00:00:00\",\"2023-11-08T00:00:00\",\"2023-11-09T00:00:00\",\"2023-11-10T00:00:00\",\"2023-11-13T00:00:00\",\"2023-11-14T00:00:00\",\"2023-11-15T00:00:00\",\"2023-11-16T00:00:00\",\"2023-11-17T00:00:00\",\"2023-11-20T00:00:00\",\"2023-11-21T00:00:00\",\"2023-11-22T00:00:00\",\"2023-11-24T00:00:00\",\"2023-11-27T00:00:00\",\"2023-11-28T00:00:00\",\"2023-11-29T00:00:00\",\"2023-11-30T00:00:00\",\"2023-12-01T00:00:00\",\"2023-12-04T00:00:00\",\"2023-12-05T00:00:00\",\"2023-12-06T00:00:00\",\"2023-12-07T00:00:00\",\"2023-12-08T00:00:00\",\"2023-12-11T00:00:00\",\"2023-12-12T00:00:00\",\"2023-12-13T00:00:00\",\"2023-12-14T00:00:00\",\"2023-12-15T00:00:00\",\"2023-12-18T00:00:00\",\"2023-12-19T00:00:00\",\"2023-12-20T00:00:00\",\"2023-12-21T00:00:00\",\"2023-12-22T00:00:00\",\"2023-12-26T00:00:00\",\"2023-12-27T00:00:00\",\"2023-12-28T00:00:00\",\"2023-12-29T00:00:00\",\"2024-01-02T00:00:00\",\"2024-01-03T00:00:00\",\"2024-01-04T00:00:00\",\"2024-01-05T00:00:00\",\"2024-01-08T00:00:00\",\"2024-01-09T00:00:00\",\"2024-01-10T00:00:00\",\"2024-01-11T00:00:00\",\"2024-01-12T00:00:00\",\"2024-01-16T00:00:00\",\"2024-01-17T00:00:00\",\"2024-01-18T00:00:00\",\"2024-01-19T00:00:00\",\"2024-01-22T00:00:00\",\"2024-01-23T00:00:00\",\"2024-01-24T00:00:00\",\"2024-01-25T00:00:00\",\"2024-01-26T00:00:00\",\"2024-01-29T00:00:00\"],\"y\":[null,null,null,null,null,null,null,null,null,null,null,null,null,null,null,null,null,null,null,null,null,-0.9579689141910298,-0.31371982979837487,0.7617665812644748,0.1510976911182907,-0.1564447724834607,0.14283962889331397,1.966123018141426,-0.03200482102039622,0.5442941631051681,0.05976149098497107,-0.3663764174595831,0.42519416392465403,-0.6737839363421343,-0.11357387804227444,-0.8740387440217554,-0.019996555313841754,-0.4608570315397436,-1.0826248454819047,-0.050659182622710255,1.0124241381656758,0.021489261121292354,0.5693111475394887,-1.5517665147341702,-0.8959213691978257,-1.6696427921237567,0.07572967573064668,1.5810802607043455,1.1198674801994017,-3.083315720606869,2.4514236088770547,-2.122013335403416,1.5172356833606453,0.3778106181647291,-1.0266349115649338,-0.5443274223169461,0.34553807853952756,0.36537009456734265,-0.08474096402418174,0.7044102376373512,-0.2523632792473098,0.43594039259346457,2.038689154381157,-0.7298817019903726,-0.5216432434780324,-0.38578140224753066,1.0231129341088316,0.07003625315351295,1.2902677782325391,0.10949539990345981,0.0,1.173567695198448,1.4176643548918573,-0.5249601668519862,-1.137271293713575,-0.54897833039982,0.1979192308772446,-1.2888930995273473,-3.0682176013870075,1.2793134679790337,0.3646308403465558,0.30600450591396566,-1.036035346975039,-1.3193709229393051,-0.9483304446116361,0.5044571639192816,-0.7845586701688269,0.569521888502063,0.022952715690701953,-0.6173565190293541,0.36811306842768826,0.5734648834190539,-1.0239219292505661,0.9742434695810706,-0.365501344782296,0.0,-0.3967717755213075,-1.3463492586125554,-0.35929788710637767,-0.5697403524013437,0.16624231878824267,-0.529967519683046,-0.8404710454729315,2.5229394728326566,2.2572333999156924,-0.33539206601128047,1.740549810367947,1.1154538639967104,0.46211266174365395,0.24330794115656418,0.07626298728327258,0.25760656600355636,-2.7132186159015395,0.9732632614880034,-0.21926979342454456,-0.033926080740716874,1.162267645826396,-1.7604665033149485,-0.008066647867313032,-0.29202907373250475,-0.016355837076671393,-0.5395161354442539,1.5803180558265795,0.12411721881406988,0.3515878531177079,-0.13043249713156624,-0.16592257131771135,-0.5827068528986035,0.05712108870157652,0.5269173851468206,-1.1450584629156613,0.326084764202258,-0.9267286614839733,0.1673264079971358,-0.6534568271288064,-0.22146806260845067,1.8567634038402887,-0.8611644643902923,0.8065249544046713,-12.589294467305788,-0.36072188904717495,-0.5144910438865442,0.998929813305784,0.26173267172462056,0.017556978261012574,-1.1038918427870807,-0.35092105287422437,-0.05384808491156816,0.4129045439640407,0.32540060211315297,0.6780382550912042,-0.6495605415501251,0.2638269291728581,-0.16817353701286183,-0.3299893107656931,-0.22189733172643858,0.004295349507841796,0.2839521067886304,-0.12056977134817126,-0.08252228432111901,0.6690777212851017,-0.8311969078565464,-0.43898480153366315,1.1453617018403173,-0.40913494328459415,1.1365520711702197,-0.4749972272297771,0.3000253792720006,-1.5342329376716182,-1.8873612137213196,0.967029735466516,-1.0644869013616003,-8.822767095589963,-0.8759407366828442,0.0,-0.039505441319378956,0.1973172190429562,-0.4045710684252201,-0.06659764939744162,-0.4329901534816187,-1.2040451986647618,-0.7293895520654002,0.3274619840107911,0.14336429186293062,0.4303332057651314,-0.5951431457721897,-0.021128174306685545,-0.4422672105436568,-0.5435195939930948,-0.333034222924326,-0.5422240824983267,0.2963173495044685,2.3940324633382644,0.34742579322708267,-0.039418102679194836,-0.009861715038353763,-0.04930611387295543,0.7233591430158437,-0.08737950639342783,0.3402280527759638,-0.3405172993246866,-1.4296019411389815,0.6177742287370108,5.531459645413944,0.019038623590225758,0.4697404310671807,0.006389300869594492,-0.37705601373738773,1.8198934274701881,0.4559416490118442,0.3791108049473604,-0.036690033269771556,-0.19478864073916705,0.18157698870727068,0.35508259996801395,-0.5144536300247526,-0.13938778725597564,-0.12615887322392594,-0.8889714063290344,-0.03921516808840519,-0.26115390671951466,-0.36076000020392096,-0.34678546383668374,-0.6925859192112156,1.963346042864735,0.1687074937759213,-0.544216658247511,0.7665676180075355,0.8010876652786135,0.7309781495303447,1.1686410036392527,1.097501872722713,-0.5726978701063078,0.02606010693187321,-1.5811112524246667,-0.2280754140844187,0.7383700177294589,-1.0775877073923372,2.7189175039852045,-1.5007767170624473,-1.662791161033635,0.4115003990143432,1.936934793201925,-0.8957347899008604,0.3438088221983299,1.1971815478212284,0.7706810035770161,0.1120883462924695,0.0,-0.028387390873373167,1.02539319762435,0.3626083525201898,-0.18691499274138446,-0.028254953564762788,0.43324975328758575,-0.03934024237863193,0.2762299850268812,-0.750003183933771,1.0129603222058001,-0.9158458760498229,-0.5279396586598472,0.5625022357636348,0.07998211855501064,-0.8173774773008078,7.8195551723835175,-0.051214697606403965,1.256765439823681,-0.4440465714283829,-0.2744875598568792],\"type\":\"scatter\"},{\"marker\":{\"color\":\"yellow\",\"size\":6},\"mode\":\"markers\",\"name\":\"Earnings Dates\",\"x\":[\"2023-01-24\",\"2023-04-25\",\"2023-07-25\",\"2023-10-24\",\"2024-01-23\"],\"y\":[null,-1.2888930995273473,-12.589294467305788,5.531459645413944,7.8195551723835175],\"type\":\"scatter\"}],                        {\"template\":{\"data\":{\"histogram2dcontour\":[{\"type\":\"histogram2dcontour\",\"colorbar\":{\"outlinewidth\":0,\"ticks\":\"\"},\"colorscale\":[[0.0,\"#0d0887\"],[0.1111111111111111,\"#46039f\"],[0.2222222222222222,\"#7201a8\"],[0.3333333333333333,\"#9c179e\"],[0.4444444444444444,\"#bd3786\"],[0.5555555555555556,\"#d8576b\"],[0.6666666666666666,\"#ed7953\"],[0.7777777777777778,\"#fb9f3a\"],[0.8888888888888888,\"#fdca26\"],[1.0,\"#f0f921\"]]}],\"choropleth\":[{\"type\":\"choropleth\",\"colorbar\":{\"outlinewidth\":0,\"ticks\":\"\"}}],\"histogram2d\":[{\"type\":\"histogram2d\",\"colorbar\":{\"outlinewidth\":0,\"ticks\":\"\"},\"colorscale\":[[0.0,\"#0d0887\"],[0.1111111111111111,\"#46039f\"],[0.2222222222222222,\"#7201a8\"],[0.3333333333333333,\"#9c179e\"],[0.4444444444444444,\"#bd3786\"],[0.5555555555555556,\"#d8576b\"],[0.6666666666666666,\"#ed7953\"],[0.7777777777777778,\"#fb9f3a\"],[0.8888888888888888,\"#fdca26\"],[1.0,\"#f0f921\"]]}],\"heatmap\":[{\"type\":\"heatmap\",\"colorbar\":{\"outlinewidth\":0,\"ticks\":\"\"},\"colorscale\":[[0.0,\"#0d0887\"],[0.1111111111111111,\"#46039f\"],[0.2222222222222222,\"#7201a8\"],[0.3333333333333333,\"#9c179e\"],[0.4444444444444444,\"#bd3786\"],[0.5555555555555556,\"#d8576b\"],[0.6666666666666666,\"#ed7953\"],[0.7777777777777778,\"#fb9f3a\"],[0.8888888888888888,\"#fdca26\"],[1.0,\"#f0f921\"]]}],\"heatmapgl\":[{\"type\":\"heatmapgl\",\"colorbar\":{\"outlinewidth\":0,\"ticks\":\"\"},\"colorscale\":[[0.0,\"#0d0887\"],[0.1111111111111111,\"#46039f\"],[0.2222222222222222,\"#7201a8\"],[0.3333333333333333,\"#9c179e\"],[0.4444444444444444,\"#bd3786\"],[0.5555555555555556,\"#d8576b\"],[0.6666666666666666,\"#ed7953\"],[0.7777777777777778,\"#fb9f3a\"],[0.8888888888888888,\"#fdca26\"],[1.0,\"#f0f921\"]]}],\"contourcarpet\":[{\"type\":\"contourcarpet\",\"colorbar\":{\"outlinewidth\":0,\"ticks\":\"\"}}],\"contour\":[{\"type\":\"contour\",\"colorbar\":{\"outlinewidth\":0,\"ticks\":\"\"},\"colorscale\":[[0.0,\"#0d0887\"],[0.1111111111111111,\"#46039f\"],[0.2222222222222222,\"#7201a8\"],[0.3333333333333333,\"#9c179e\"],[0.4444444444444444,\"#bd3786\"],[0.5555555555555556,\"#d8576b\"],[0.6666666666666666,\"#ed7953\"],[0.7777777777777778,\"#fb9f3a\"],[0.8888888888888888,\"#fdca26\"],[1.0,\"#f0f921\"]]}],\"surface\":[{\"type\":\"surface\",\"colorbar\":{\"outlinewidth\":0,\"ticks\":\"\"},\"colorscale\":[[0.0,\"#0d0887\"],[0.1111111111111111,\"#46039f\"],[0.2222222222222222,\"#7201a8\"],[0.3333333333333333,\"#9c179e\"],[0.4444444444444444,\"#bd3786\"],[0.5555555555555556,\"#d8576b\"],[0.6666666666666666,\"#ed7953\"],[0.7777777777777778,\"#fb9f3a\"],[0.8888888888888888,\"#fdca26\"],[1.0,\"#f0f921\"]]}],\"mesh3d\":[{\"type\":\"mesh3d\",\"colorbar\":{\"outlinewidth\":0,\"ticks\":\"\"}}],\"scatter\":[{\"marker\":{\"line\":{\"color\":\"#283442\"}},\"type\":\"scatter\"}],\"parcoords\":[{\"type\":\"parcoords\",\"line\":{\"colorbar\":{\"outlinewidth\":0,\"ticks\":\"\"}}}],\"scatterpolargl\":[{\"type\":\"scatterpolargl\",\"marker\":{\"colorbar\":{\"outlinewidth\":0,\"ticks\":\"\"}}}],\"bar\":[{\"error_x\":{\"color\":\"#f2f5fa\"},\"error_y\":{\"color\":\"#f2f5fa\"},\"marker\":{\"line\":{\"color\":\"rgb(17,17,17)\",\"width\":0.5},\"pattern\":{\"fillmode\":\"overlay\",\"size\":10,\"solidity\":0.2}},\"type\":\"bar\"}],\"scattergeo\":[{\"type\":\"scattergeo\",\"marker\":{\"colorbar\":{\"outlinewidth\":0,\"ticks\":\"\"}}}],\"scatterpolar\":[{\"type\":\"scatterpolar\",\"marker\":{\"colorbar\":{\"outlinewidth\":0,\"ticks\":\"\"}}}],\"histogram\":[{\"marker\":{\"pattern\":{\"fillmode\":\"overlay\",\"size\":10,\"solidity\":0.2}},\"type\":\"histogram\"}],\"scattergl\":[{\"marker\":{\"line\":{\"color\":\"#283442\"}},\"type\":\"scattergl\"}],\"scatter3d\":[{\"type\":\"scatter3d\",\"line\":{\"colorbar\":{\"outlinewidth\":0,\"ticks\":\"\"}},\"marker\":{\"colorbar\":{\"outlinewidth\":0,\"ticks\":\"\"}}}],\"scattermapbox\":[{\"type\":\"scattermapbox\",\"marker\":{\"colorbar\":{\"outlinewidth\":0,\"ticks\":\"\"}}}],\"scatterternary\":[{\"type\":\"scatterternary\",\"marker\":{\"colorbar\":{\"outlinewidth\":0,\"ticks\":\"\"}}}],\"scattercarpet\":[{\"type\":\"scattercarpet\",\"marker\":{\"colorbar\":{\"outlinewidth\":0,\"ticks\":\"\"}}}],\"carpet\":[{\"aaxis\":{\"endlinecolor\":\"#A2B1C6\",\"gridcolor\":\"#506784\",\"linecolor\":\"#506784\",\"minorgridcolor\":\"#506784\",\"startlinecolor\":\"#A2B1C6\"},\"baxis\":{\"endlinecolor\":\"#A2B1C6\",\"gridcolor\":\"#506784\",\"linecolor\":\"#506784\",\"minorgridcolor\":\"#506784\",\"startlinecolor\":\"#A2B1C6\"},\"type\":\"carpet\"}],\"table\":[{\"cells\":{\"fill\":{\"color\":\"#506784\"},\"line\":{\"color\":\"rgb(17,17,17)\"}},\"header\":{\"fill\":{\"color\":\"#2a3f5f\"},\"line\":{\"color\":\"rgb(17,17,17)\"}},\"type\":\"table\"}],\"barpolar\":[{\"marker\":{\"line\":{\"color\":\"rgb(17,17,17)\",\"width\":0.5},\"pattern\":{\"fillmode\":\"overlay\",\"size\":10,\"solidity\":0.2}},\"type\":\"barpolar\"}],\"pie\":[{\"automargin\":true,\"type\":\"pie\"}]},\"layout\":{\"autotypenumbers\":\"strict\",\"colorway\":[\"#636efa\",\"#EF553B\",\"#00cc96\",\"#ab63fa\",\"#FFA15A\",\"#19d3f3\",\"#FF6692\",\"#B6E880\",\"#FF97FF\",\"#FECB52\"],\"font\":{\"color\":\"#f2f5fa\"},\"hovermode\":\"closest\",\"hoverlabel\":{\"align\":\"left\"},\"paper_bgcolor\":\"rgb(17,17,17)\",\"plot_bgcolor\":\"rgb(17,17,17)\",\"polar\":{\"bgcolor\":\"rgb(17,17,17)\",\"angularaxis\":{\"gridcolor\":\"#506784\",\"linecolor\":\"#506784\",\"ticks\":\"\"},\"radialaxis\":{\"gridcolor\":\"#506784\",\"linecolor\":\"#506784\",\"ticks\":\"\"}},\"ternary\":{\"bgcolor\":\"rgb(17,17,17)\",\"aaxis\":{\"gridcolor\":\"#506784\",\"linecolor\":\"#506784\",\"ticks\":\"\"},\"baxis\":{\"gridcolor\":\"#506784\",\"linecolor\":\"#506784\",\"ticks\":\"\"},\"caxis\":{\"gridcolor\":\"#506784\",\"linecolor\":\"#506784\",\"ticks\":\"\"}},\"coloraxis\":{\"colorbar\":{\"outlinewidth\":0,\"ticks\":\"\"}},\"colorscale\":{\"sequential\":[[0.0,\"#0d0887\"],[0.1111111111111111,\"#46039f\"],[0.2222222222222222,\"#7201a8\"],[0.3333333333333333,\"#9c179e\"],[0.4444444444444444,\"#bd3786\"],[0.5555555555555556,\"#d8576b\"],[0.6666666666666666,\"#ed7953\"],[0.7777777777777778,\"#fb9f3a\"],[0.8888888888888888,\"#fdca26\"],[1.0,\"#f0f921\"]],\"sequentialminus\":[[0.0,\"#0d0887\"],[0.1111111111111111,\"#46039f\"],[0.2222222222222222,\"#7201a8\"],[0.3333333333333333,\"#9c179e\"],[0.4444444444444444,\"#bd3786\"],[0.5555555555555556,\"#d8576b\"],[0.6666666666666666,\"#ed7953\"],[0.7777777777777778,\"#fb9f3a\"],[0.8888888888888888,\"#fdca26\"],[1.0,\"#f0f921\"]],\"diverging\":[[0,\"#8e0152\"],[0.1,\"#c51b7d\"],[0.2,\"#de77ae\"],[0.3,\"#f1b6da\"],[0.4,\"#fde0ef\"],[0.5,\"#f7f7f7\"],[0.6,\"#e6f5d0\"],[0.7,\"#b8e186\"],[0.8,\"#7fbc41\"],[0.9,\"#4d9221\"],[1,\"#276419\"]]},\"xaxis\":{\"gridcolor\":\"#283442\",\"linecolor\":\"#506784\",\"ticks\":\"\",\"title\":{\"standoff\":15},\"zerolinecolor\":\"#283442\",\"automargin\":true,\"zerolinewidth\":2},\"yaxis\":{\"gridcolor\":\"#283442\",\"linecolor\":\"#506784\",\"ticks\":\"\",\"title\":{\"standoff\":15},\"zerolinecolor\":\"#283442\",\"automargin\":true,\"zerolinewidth\":2},\"scene\":{\"xaxis\":{\"backgroundcolor\":\"rgb(17,17,17)\",\"gridcolor\":\"#506784\",\"linecolor\":\"#506784\",\"showbackground\":true,\"ticks\":\"\",\"zerolinecolor\":\"#C8D4E3\",\"gridwidth\":2},\"yaxis\":{\"backgroundcolor\":\"rgb(17,17,17)\",\"gridcolor\":\"#506784\",\"linecolor\":\"#506784\",\"showbackground\":true,\"ticks\":\"\",\"zerolinecolor\":\"#C8D4E3\",\"gridwidth\":2},\"zaxis\":{\"backgroundcolor\":\"rgb(17,17,17)\",\"gridcolor\":\"#506784\",\"linecolor\":\"#506784\",\"showbackground\":true,\"ticks\":\"\",\"zerolinecolor\":\"#C8D4E3\",\"gridwidth\":2}},\"shapedefaults\":{\"line\":{\"color\":\"#f2f5fa\"}},\"annotationdefaults\":{\"arrowcolor\":\"#f2f5fa\",\"arrowhead\":0,\"arrowwidth\":1},\"geo\":{\"bgcolor\":\"rgb(17,17,17)\",\"landcolor\":\"rgb(17,17,17)\",\"subunitcolor\":\"#506784\",\"showland\":true,\"showlakes\":true,\"lakecolor\":\"rgb(17,17,17)\"},\"title\":{\"x\":0.05},\"updatemenudefaults\":{\"bgcolor\":\"#506784\",\"borderwidth\":0},\"sliderdefaults\":{\"bgcolor\":\"#C8D4E3\",\"borderwidth\":1,\"bordercolor\":\"rgb(17,17,17)\",\"tickwidth\":0},\"mapbox\":{\"style\":\"dark\"}}},\"shapes\":[{\"line\":{\"color\":\"lime\",\"dash\":\"dot\",\"width\":1},\"type\":\"line\",\"x0\":\"2023-01-03T00:00:00\",\"x1\":\"2024-01-29T00:00:00\",\"y0\":1,\"y1\":1},{\"line\":{\"color\":\"lime\",\"dash\":\"dot\",\"width\":1},\"type\":\"line\",\"x0\":\"2023-01-03T00:00:00\",\"x1\":\"2024-01-29T00:00:00\",\"y0\":-1,\"y1\":-1},{\"line\":{\"color\":\"pink\",\"dash\":\"dot\",\"width\":1},\"type\":\"line\",\"x0\":\"2023-01-03T00:00:00\",\"x1\":\"2024-01-29T00:00:00\",\"y0\":2,\"y1\":2},{\"line\":{\"color\":\"pink\",\"dash\":\"dot\",\"width\":1},\"type\":\"line\",\"x0\":\"2023-01-03T00:00:00\",\"x1\":\"2024-01-29T00:00:00\",\"y0\":-2,\"y1\":-2},{\"line\":{\"color\":\"red\",\"dash\":\"dot\",\"width\":1},\"type\":\"line\",\"x0\":\"2023-01-03T00:00:00\",\"x1\":\"2024-01-29T00:00:00\",\"y0\":3,\"y1\":3},{\"line\":{\"color\":\"red\",\"dash\":\"dot\",\"width\":1},\"type\":\"line\",\"x0\":\"2023-01-03T00:00:00\",\"x1\":\"2024-01-29T00:00:00\",\"y0\":-3,\"y1\":-3}],\"title\":{\"font\":{\"size\":13,\"color\":\"white\"},\"text\":\"1 period spikes in S.D terms for ticker: RTX<br>From: 2023-01-01<br>To: 2024-01-29\"},\"legend\":{\"yanchor\":\"top\",\"y\":0.99,\"xanchor\":\"left\",\"x\":0.01},\"xaxis\":{\"showgrid\":false,\"gridcolor\":\"#2A2E31\",\"gridwidth\":0.1,\"zeroline\":false,\"zerolinecolor\":\"turquoise\",\"zerolinewidth\":1},\"yaxis\":{\"showgrid\":true,\"gridcolor\":\"#2A2E31\",\"gridwidth\":0.1,\"zeroline\":true,\"zerolinecolor\":\"turquoise\",\"zerolinewidth\":1},\"font\":{\"color\":\"white\",\"size\":12},\"showlegend\":true,\"autosize\":false,\"width\":1200,\"height\":800,\"plot_bgcolor\":\"black\",\"paper_bgcolor\":\"rgba(0,0,0,0)\"},                        {\"responsive\": true}                    ).then(function(){\n                            \nvar gd = document.getElementById('b416c528-b141-4b0f-af9a-9176bac802a6');\nvar x = new MutationObserver(function (mutations, observer) {{\n        var display = window.getComputedStyle(gd).display;\n        if (!display || display === 'none') {{\n            console.log([gd, 'removed!']);\n            Plotly.purge(gd);\n            observer.disconnect();\n        }}\n}});\n\n// Listen for the removal of the full notebook cells\nvar notebookContainer = gd.closest('#notebook-container');\nif (notebookContainer) {{\n    x.observe(notebookContainer, {childList: true});\n}}\n\n// Listen for the clearing of the current output cell\nvar outputEl = gd.closest('.output');\nif (outputEl) {{\n    x.observe(outputEl, {childList: true});\n}}\n\n                        })                };                });            </script>        </div>"
     },
     "metadata": {},
     "output_type": "display_data"
    }
   ],
   "source": [
    "import plotly.graph_objects as go\n",
    "\n",
    "fig = go.Figure(data=go.Scatter(\n",
    "    x=slice_data.index,\n",
    "    y=slice_data['n_period_spike'],\n",
    "    mode='lines',\n",
    "    name='n_period_spike',\n",
    "    line=dict(color='#AFBEBF', width=1)\n",
    "))\n",
    "\n",
    "# Add horizontal lines for the standard deviations\n",
    "fig.add_shape(\n",
    "    type='line',\n",
    "    x0=slice_data.index.min(),\n",
    "    x1=slice_data.index.max(),\n",
    "    y0=1,\n",
    "    y1=1,\n",
    "    line=dict(color='lime', width=1, dash='dot')  # Fluorescent green color\n",
    ")\n",
    "\n",
    "fig.add_shape(\n",
    "    type='line',\n",
    "    x0=slice_data.index.min(),\n",
    "    x1=slice_data.index.max(),\n",
    "    y0=-1,\n",
    "    y1=-1,\n",
    "    line=dict(color='lime', width=1, dash='dot')  # Fluorescent green color\n",
    ")\n",
    "fig.add_shape(\n",
    "    type='line',\n",
    "    x0=slice_data.index.min(),\n",
    "    x1=slice_data.index.max(),\n",
    "    y0=2,\n",
    "    y1=2,\n",
    "    line=dict(color='pink', width=1, dash='dot')  # Fluorescent green color\n",
    ")\n",
    "\n",
    "fig.add_shape(\n",
    "    type='line',\n",
    "    x0=slice_data.index.min(),\n",
    "    x1=slice_data.index.max(),\n",
    "    y0=-2,\n",
    "    y1=-2,\n",
    "    line=dict(color='pink', width=1, dash='dot')  # Fluorescent green color\n",
    ")\n",
    "fig.add_shape(\n",
    "    type='line',\n",
    "    x0=slice_data.index.min(),\n",
    "    x1=slice_data.index.max(),\n",
    "    y0=3,\n",
    "    y1=3,\n",
    "    line=dict(color='red', width=1, dash='dot')  # Fluorescent green color\n",
    ")\n",
    "\n",
    "fig.add_shape(\n",
    "    type='line',\n",
    "    x0=slice_data.index.min(),\n",
    "    x1=slice_data.index.max(),\n",
    "    y0=-3,\n",
    "    y1=-3,\n",
    "    line=dict(color='red', width=1, dash='dot')  # Fluorescent green color\n",
    ")\n",
    "# Add scatter plot for earnings dates\n",
    "fig.add_trace(\n",
    "    go.Scatter(\n",
    "        x=earnings_slice_df['reportDate'],\n",
    "        y=[slice_data['n_period_spike'][date] for date in earnings_slice_df['adjustedReportDate']],\n",
    "        mode='markers',\n",
    "        name='Earnings Dates',\n",
    "        marker=dict(color='yellow', size=6)\n",
    "    )\n",
    ")\n",
    "\n",
    "fig.update_layout(showlegend=True,\n",
    "                  autosize=False,\n",
    "                  # Add title\n",
    "                  title_text=f'{DAY_MULTIPLE} period spikes in S.D terms for ticker: {TICKER}<br>From: {DATE_FROM}<br>To: {DATE_TO}',\n",
    "                  title_font=dict(size=13, color='white'),\n",
    "                  # Adjust legend\n",
    "                  legend=dict(\n",
    "                      yanchor=\"top\",\n",
    "                      y=0.99,\n",
    "                      xanchor=\"left\",\n",
    "                      x=0.01\n",
    "                  ),\n",
    "                  width=1200,\n",
    "                  height=800,\n",
    "                  plot_bgcolor='black',\n",
    "                  paper_bgcolor='rgba(0,0,0,0)',  # this removes the color of the border around the plot\n",
    "                  xaxis=dict(showgrid=False, gridcolor='#2A2E31', gridwidth=0.1, zeroline=False,\n",
    "                             zerolinecolor='turquoise',\n",
    "                             zerolinewidth=1),\n",
    "                  yaxis=dict(showgrid=True, gridcolor='#2A2E31', gridwidth=0.1, zeroline=True,\n",
    "                             zerolinecolor='turquoise',\n",
    "                             zerolinewidth=1),\n",
    "                  font=dict(color='white', size=12))\n",
    "\n",
    "fig.show()"
   ],
   "metadata": {
    "collapsed": false,
    "ExecuteTime": {
     "end_time": "2024-02-01T15:29:14.421707400Z",
     "start_time": "2024-02-01T15:29:14.330706800Z"
    }
   },
   "id": "4fd29c51f411dc09",
   "execution_count": 40
  },
  {
   "cell_type": "code",
   "outputs": [
    {
     "data": {
      "application/vnd.plotly.v1+json": {
       "data": [
        {
         "close": [
          100.81,
          100.84,
          100.88,
          102.46,
          99.6,
          99.92,
          99.59,
          100.68,
          98.68,
          98.43,
          95.74,
          94.24,
          94.36,
          96.25,
          99.47,
          100.01,
          100.25,
          99.6,
          98.71,
          99.85,
          98.42,
          96.96,
          96.48,
          97.64,
          97.87,
          97.65,
          97.85,
          100.61,
          100.56,
          101.37,
          101.46,
          100.97,
          101.51,
          100.65,
          100.51,
          99.64,
          99.62,
          99.16,
          98.09,
          98.04,
          99.0,
          99.02,
          99.51,
          98.18,
          97.4,
          95.93,
          96.0,
          97.46,
          98.32,
          95.83,
          98.08,
          95.75,
          97.53,
          98.01,
          96.7,
          96.0,
          96.44,
          96.91,
          96.8,
          97.7,
          97.37,
          97.93,
          100.58,
          99.51,
          98.76,
          98.21,
          99.62,
          99.72,
          101.52,
          101.68,
          101.68,
          103.11,
          104.66,
          104.09,
          102.84,
          102.25,
          102.46,
          101.09,
          97.68,
          99.39,
          99.9,
          100.33,
          98.87,
          97.16,
          95.92,
          96.58,
          95.54,
          96.27,
          96.3,
          95.54,
          95.99,
          96.7,
          95.46,
          96.57,
          96.13,
          96.13,
          95.66,
          94.08,
          93.66,
          93.12,
          93.26,
          92.82,
          92.14,
          94.09,
          96.08,
          95.75,
          97.44,
          98.59,
          99.08,
          99.34,
          99.42,
          99.69,
          96.86,
          98.0,
          97.74,
          97.7,
          99.07,
          96.92,
          96.91,
          96.55,
          96.53,
          95.87,
          97.8,
          97.96,
          98.39,
          98.24,
          98.05,
          97.42,
          97.48,
          98.03,
          96.82,
          97.17,
          96.17,
          96.32,
          95.76,
          95.57,
          97.16,
          96.39,
          97.01,
          87.1,
          86.3,
          85.17,
          87.34,
          87.93,
          87.97,
          85.46,
          84.67,
          84.55,
          85.47,
          86.21,
          87.77,
          86.22,
          86.84,
          86.44,
          85.66,
          85.14,
          85.15,
          85.8,
          85.52,
          85.33,
          86.04,
          85.15,
          84.69,
          85.74,
          85.35,
          86.43,
          86.04,
          86.28,
          85.05,
          83.51,
          84.33,
          83.48,
          76.9,
          75.56,
          75.56,
          75.5,
          75.8,
          75.18,
          75.08,
          74.43,
          72.64,
          71.58,
          72.05,
          72.26,
          72.88,
          72.0,
          71.97,
          71.34,
          70.58,
          70.12,
          69.38,
          69.77,
          72.99,
          73.35,
          73.31,
          73.3,
          73.25,
          73.98,
          73.89,
          74.24,
          73.89,
          72.55,
          73.13,
          78.38,
          78.41,
          79.15,
          79.16,
          78.57,
          81.39,
          82.15,
          82.78,
          82.72,
          82.4,
          82.67,
          83.2,
          82.43,
          82.22,
          82.03,
          80.69,
          80.63,
          80.23,
          79.68,
          79.17,
          78.15,
          79.82,
          79.98,
          79.47,
          80.19,
          80.95,
          81.48,
          82.32,
          83.13,
          82.69,
          82.71,
          81.5,
          81.32,
          81.89,
          81.04,
          83.22,
          81.86,
          80.28,
          80.69,
          82.62,
          81.64,
          82.01,
          83.23,
          84.05,
          84.17,
          84.17,
          84.14,
          85.22,
          85.61,
          85.41,
          85.38,
          85.84,
          85.8,
          86.08,
          85.32,
          86.33,
          85.5,
          85.05,
          85.47,
          85.53,
          85.02,
          89.55,
          89.49,
          90.94,
          90.41,
          90.08
         ],
         "high": [
          101.23,
          102.1,
          101.46,
          103.95,
          102.78,
          101.08,
          100.33,
          100.74,
          99.05,
          99.65,
          98.66,
          95.53,
          94.44,
          96.93,
          99.82,
          100.01,
          100.93,
          100.54,
          99.8,
          99.98,
          99.99,
          98.42,
          97.79,
          97.99,
          98.2,
          98.25,
          98.51,
          100.7,
          101.42,
          102.06,
          101.53,
          101.46,
          101.6,
          102.65,
          101.12,
          100.65,
          99.63,
          100.03,
          99.47,
          98.57,
          99.33,
          99.32,
          100.09,
          99.93,
          98.61,
          97.98,
          97.05,
          98.24,
          99.14,
          97.26,
          98.64,
          97.77,
          97.81,
          99.3,
          98.56,
          97.45,
          96.68,
          97.41,
          97.12,
          97.78,
          97.85,
          98.05,
          100.84,
          101.46,
          99.59,
          99.52,
          99.77,
          100.54,
          102.35,
          101.86,
          101.71,
          103.29,
          104.71,
          104.91,
          103.32,
          103.24,
          102.63,
          102.62,
          100.79,
          99.7,
          99.91,
          101.38,
          100.16,
          99.16,
          97.27,
          96.79,
          97.44,
          96.78,
          97.0,
          96.18,
          96.56,
          96.73,
          96.55,
          97.36,
          96.4,
          96.8,
          96.28,
          95.27,
          94.59,
          93.72,
          94.64,
          93.56,
          92.87,
          94.14,
          96.42,
          96.91,
          97.69,
          98.79,
          99.53,
          99.5,
          99.79,
          100.68,
          99.82,
          98.37,
          99.01,
          98.96,
          99.95,
          98.63,
          97.29,
          96.61,
          96.75,
          96.4,
          97.89,
          98.39,
          98.84,
          98.46,
          98.74,
          98.47,
          98.33,
          98.09,
          98.8,
          97.46,
          97.15,
          96.88,
          97.68,
          96.47,
          97.28,
          97.44,
          97.18,
          87.25,
          87.2,
          87.22,
          87.55,
          88.69,
          88.21,
          87.92,
          85.76,
          85.2,
          85.77,
          86.43,
          87.91,
          88.07,
          86.87,
          87.11,
          86.23,
          85.79,
          85.72,
          86.23,
          86.01,
          85.82,
          86.15,
          86.16,
          85.73,
          86.05,
          86.14,
          86.73,
          87.02,
          86.69,
          86.3,
          84.97,
          84.41,
          84.4,
          80.5,
          75.71,
          76.66,
          75.64,
          76.4,
          76.51,
          75.43,
          76.16,
          74.45,
          72.69,
          72.1,
          72.42,
          73.33,
          73.08,
          72.52,
          71.94,
          72.25,
          70.21,
          70.37,
          70.39,
          73.25,
          73.66,
          73.33,
          73.55,
          74.4,
          74.1,
          74.92,
          74.9,
          74.85,
          74.15,
          74.01,
          78.8,
          79.35,
          79.83,
          79.77,
          79.8,
          81.55,
          82.8,
          83.2,
          83.86,
          82.95,
          82.69,
          83.28,
          83.85,
          82.86,
          82.81,
          82.25,
          81.25,
          80.83,
          80.68,
          79.82,
          79.1,
          79.87,
          80.09,
          79.99,
          80.79,
          81.33,
          81.92,
          82.41,
          83.19,
          83.35,
          83.43,
          83.15,
          82.1,
          82.29,
          81.58,
          83.4,
          84.09,
          81.99,
          81.49,
          82.66,
          82.9,
          82.99,
          83.86,
          84.3,
          84.47,
          84.61,
          84.41,
          86.02,
          86.9,
          86.59,
          85.76,
          86.18,
          85.98,
          86.46,
          86.01,
          86.73,
          86.28,
          86.81,
          85.84,
          85.8,
          86.18,
          92.38,
          90.05,
          91.11,
          91.22,
          90.68
         ],
         "low": [
          100.1,
          100.41,
          99.66,
          101.3,
          98.78,
          99.02,
          98.93,
          99.53,
          97.51,
          98.36,
          95.67,
          94.16,
          93.34,
          94.51,
          94.02,
          97.58,
          99.13,
          99.33,
          97.86,
          98.23,
          97.6,
          96.58,
          96.39,
          96.7,
          95.8,
          97.25,
          97.29,
          98.2,
          100.11,
          100.25,
          100.7,
          99.93,
          100.31,
          100.38,
          99.83,
          98.8,
          98.39,
          99.02,
          97.82,
          97.5,
          97.5,
          98.26,
          98.84,
          98.17,
          96.66,
          95.52,
          95.21,
          94.73,
          97.42,
          94.74,
          95.0,
          95.49,
          96.31,
          97.97,
          96.69,
          95.65,
          94.94,
          96.39,
          96.61,
          97.2,
          97.19,
          97.49,
          98.1,
          99.09,
          98.7,
          98.06,
          97.65,
          99.41,
          100.83,
          100.5,
          100.97,
          101.8,
          103.21,
          103.86,
          102.31,
          101.87,
          101.62,
          100.02,
          97.18,
          97.45,
          98.79,
          99.84,
          98.27,
          97.04,
          94.86,
          95.71,
          95.44,
          95.32,
          95.41,
          94.92,
          95.67,
          95.85,
          95.42,
          95.76,
          95.08,
          95.5,
          95.04,
          94.07,
          93.15,
          92.06,
          93.12,
          92.31,
          91.95,
          92.25,
          94.6,
          95.65,
          95.36,
          96.63,
          98.19,
          98.85,
          99.05,
          99.52,
          96.55,
          97.04,
          96.81,
          97.54,
          97.39,
          96.6,
          96.34,
          94.75,
          95.85,
          95.12,
          95.85,
          97.28,
          97.32,
          97.44,
          97.35,
          97.37,
          97.27,
          96.54,
          96.72,
          96.29,
          95.73,
          95.6,
          95.49,
          95.27,
          95.97,
          96.37,
          96.51,
          81.35,
          84.86,
          84.43,
          85.4,
          87.22,
          87.07,
          85.27,
          84.36,
          84.34,
          84.71,
          84.66,
          85.97,
          86.1,
          85.9,
          86.23,
          85.59,
          85.09,
          84.53,
          84.62,
          85.22,
          85.06,
          85.3,
          85.15,
          84.65,
          84.81,
          85.27,
          85.55,
          86.03,
          85.89,
          85.02,
          83.25,
          83.7,
          82.94,
          75.99,
          73.66,
          75.46,
          73.62,
          75.08,
          75.12,
          74.42,
          74.38,
          72.44,
          71.43,
          71.02,
          71.32,
          72.45,
          71.95,
          71.56,
          70.9,
          70.44,
          69.22,
          69.26,
          68.56,
          71.82,
          72.65,
          72.62,
          72.29,
          73.1,
          72.59,
          73.35,
          73.92,
          73.85,
          72.48,
          72.52,
          76.96,
          77.77,
          77.91,
          78.42,
          77.77,
          78.73,
          81.33,
          82.23,
          82.67,
          82.06,
          82.13,
          82.51,
          82.14,
          81.78,
          81.6,
          80.61,
          79.78,
          79.93,
          79.42,
          78.99,
          78.11,
          78.0,
          79.43,
          79.13,
          79.57,
          80.12,
          81.05,
          81.37,
          81.94,
          82.66,
          82.33,
          81.43,
          81.16,
          81.33,
          80.91,
          80.52,
          81.41,
          79.67,
          80.36,
          80.92,
          81.56,
          81.37,
          82.04,
          83.08,
          83.7,
          84.09,
          83.78,
          83.96,
          85.35,
          85.34,
          84.86,
          84.72,
          84.97,
          85.66,
          84.73,
          85.99,
          85.04,
          84.92,
          84.8,
          84.43,
          85.01,
          87.96,
          88.7,
          89.58,
          90.14,
          89.695
         ],
         "open": [
          100.99,
          100.51,
          100.27,
          101.9,
          102.73,
          99.42,
          100.12,
          99.85,
          97.74,
          99.25,
          98.66,
          95.23,
          94.15,
          94.8,
          98.87,
          99.3,
          100.68,
          99.85,
          99.5,
          98.8,
          99.93,
          98.29,
          96.76,
          96.75,
          97.16,
          97.34,
          98.05,
          98.23,
          101.12,
          100.26,
          101.0,
          100.41,
          100.85,
          102.2,
          100.73,
          100.52,
          99.3,
          99.98,
          99.27,
          98.04,
          97.5,
          99.18,
          99.02,
          99.71,
          98.0,
          97.98,
          95.65,
          94.89,
          98.27,
          96.96,
          95.35,
          97.76,
          96.41,
          98.97,
          98.27,
          97.3,
          95.41,
          97.41,
          96.79,
          97.2,
          97.7,
          97.98,
          98.27,
          100.58,
          99.24,
          98.77,
          97.96,
          99.72,
          101.0,
          101.15,
          101.19,
          101.91,
          103.38,
          104.63,
          103.11,
          103.01,
          102.37,
          101.69,
          100.47,
          97.68,
          99.07,
          99.93,
          100.16,
          98.81,
          97.0,
          96.33,
          96.69,
          95.63,
          96.82,
          95.66,
          95.97,
          95.97,
          96.55,
          95.76,
          95.79,
          96.59,
          95.9,
          94.83,
          93.78,
          93.51,
          93.72,
          93.01,
          92.37,
          92.28,
          94.96,
          96.61,
          96.14,
          97.54,
          98.43,
          99.43,
          99.39,
          100.0,
          99.71,
          97.18,
          98.2,
          98.4,
          97.7,
          98.6,
          96.7,
          95.98,
          96.35,
          96.39,
          96.0,
          98.1,
          97.49,
          98.02,
          97.9,
          98.08,
          97.41,
          97.1,
          98.64,
          96.59,
          97.09,
          96.09,
          96.42,
          95.84,
          96.2,
          97.2,
          96.9,
          85.86,
          86.82,
          85.8,
          85.5,
          87.45,
          87.15,
          87.5,
          85.53,
          85.05,
          84.75,
          85.01,
          86.08,
          87.32,
          85.92,
          86.84,
          86.12,
          85.54,
          84.96,
          84.64,
          85.62,
          85.82,
          85.55,
          85.5,
          85.51,
          84.84,
          85.76,
          85.64,
          86.7,
          86.61,
          86.25,
          84.87,
          83.81,
          84.33,
          80.2,
          74.7,
          75.56,
          73.68,
          75.1,
          75.91,
          74.98,
          75.95,
          74.28,
          72.61,
          71.3,
          71.43,
          72.75,
          72.22,
          72.3,
          71.74,
          71.41,
          70.13,
          70.06,
          69.1,
          72.75,
          73.46,
          73.33,
          73.41,
          73.93,
          73.64,
          73.75,
          74.01,
          73.98,
          74.09,
          72.58,
          78.75,
          79.35,
          78.0,
          78.53,
          79.07,
          78.85,
          82.0,
          82.35,
          83.17,
          82.7,
          82.4,
          82.85,
          83.66,
          82.76,
          82.26,
          82.18,
          80.51,
          80.47,
          80.64,
          79.56,
          78.93,
          78.01,
          79.82,
          79.76,
          79.99,
          80.22,
          81.14,
          81.48,
          82.07,
          82.93,
          82.62,
          83.0,
          81.69,
          81.33,
          81.21,
          81.19,
          83.87,
          81.74,
          80.36,
          80.92,
          82.2,
          82.04,
          82.09,
          83.15,
          83.9,
          84.17,
          84.21,
          84.05,
          85.48,
          85.99,
          85.76,
          84.91,
          85.76,
          85.8,
          85.91,
          86.56,
          86.11,
          85.43,
          85.05,
          85.59,
          85.81,
          88.23,
          89.63,
          90.25,
          90.69,
          90.44
         ],
         "x": [
          "2023-01-03T00:00:00",
          "2023-01-04T00:00:00",
          "2023-01-05T00:00:00",
          "2023-01-06T00:00:00",
          "2023-01-09T00:00:00",
          "2023-01-10T00:00:00",
          "2023-01-11T00:00:00",
          "2023-01-12T00:00:00",
          "2023-01-13T00:00:00",
          "2023-01-17T00:00:00",
          "2023-01-18T00:00:00",
          "2023-01-19T00:00:00",
          "2023-01-20T00:00:00",
          "2023-01-23T00:00:00",
          "2023-01-24T00:00:00",
          "2023-01-25T00:00:00",
          "2023-01-26T00:00:00",
          "2023-01-27T00:00:00",
          "2023-01-30T00:00:00",
          "2023-01-31T00:00:00",
          "2023-02-01T00:00:00",
          "2023-02-02T00:00:00",
          "2023-02-03T00:00:00",
          "2023-02-06T00:00:00",
          "2023-02-07T00:00:00",
          "2023-02-08T00:00:00",
          "2023-02-09T00:00:00",
          "2023-02-10T00:00:00",
          "2023-02-13T00:00:00",
          "2023-02-14T00:00:00",
          "2023-02-15T00:00:00",
          "2023-02-16T00:00:00",
          "2023-02-17T00:00:00",
          "2023-02-21T00:00:00",
          "2023-02-22T00:00:00",
          "2023-02-23T00:00:00",
          "2023-02-24T00:00:00",
          "2023-02-27T00:00:00",
          "2023-02-28T00:00:00",
          "2023-03-01T00:00:00",
          "2023-03-02T00:00:00",
          "2023-03-03T00:00:00",
          "2023-03-06T00:00:00",
          "2023-03-07T00:00:00",
          "2023-03-08T00:00:00",
          "2023-03-09T00:00:00",
          "2023-03-10T00:00:00",
          "2023-03-13T00:00:00",
          "2023-03-14T00:00:00",
          "2023-03-15T00:00:00",
          "2023-03-16T00:00:00",
          "2023-03-17T00:00:00",
          "2023-03-20T00:00:00",
          "2023-03-21T00:00:00",
          "2023-03-22T00:00:00",
          "2023-03-23T00:00:00",
          "2023-03-24T00:00:00",
          "2023-03-27T00:00:00",
          "2023-03-28T00:00:00",
          "2023-03-29T00:00:00",
          "2023-03-30T00:00:00",
          "2023-03-31T00:00:00",
          "2023-04-03T00:00:00",
          "2023-04-04T00:00:00",
          "2023-04-05T00:00:00",
          "2023-04-06T00:00:00",
          "2023-04-10T00:00:00",
          "2023-04-11T00:00:00",
          "2023-04-12T00:00:00",
          "2023-04-13T00:00:00",
          "2023-04-14T00:00:00",
          "2023-04-17T00:00:00",
          "2023-04-18T00:00:00",
          "2023-04-19T00:00:00",
          "2023-04-20T00:00:00",
          "2023-04-21T00:00:00",
          "2023-04-24T00:00:00",
          "2023-04-25T00:00:00",
          "2023-04-26T00:00:00",
          "2023-04-27T00:00:00",
          "2023-04-28T00:00:00",
          "2023-05-01T00:00:00",
          "2023-05-02T00:00:00",
          "2023-05-03T00:00:00",
          "2023-05-04T00:00:00",
          "2023-05-05T00:00:00",
          "2023-05-08T00:00:00",
          "2023-05-09T00:00:00",
          "2023-05-10T00:00:00",
          "2023-05-11T00:00:00",
          "2023-05-12T00:00:00",
          "2023-05-15T00:00:00",
          "2023-05-16T00:00:00",
          "2023-05-17T00:00:00",
          "2023-05-18T00:00:00",
          "2023-05-19T00:00:00",
          "2023-05-22T00:00:00",
          "2023-05-23T00:00:00",
          "2023-05-24T00:00:00",
          "2023-05-25T00:00:00",
          "2023-05-26T00:00:00",
          "2023-05-30T00:00:00",
          "2023-05-31T00:00:00",
          "2023-06-01T00:00:00",
          "2023-06-02T00:00:00",
          "2023-06-05T00:00:00",
          "2023-06-06T00:00:00",
          "2023-06-07T00:00:00",
          "2023-06-08T00:00:00",
          "2023-06-09T00:00:00",
          "2023-06-12T00:00:00",
          "2023-06-13T00:00:00",
          "2023-06-14T00:00:00",
          "2023-06-15T00:00:00",
          "2023-06-16T00:00:00",
          "2023-06-20T00:00:00",
          "2023-06-21T00:00:00",
          "2023-06-22T00:00:00",
          "2023-06-23T00:00:00",
          "2023-06-26T00:00:00",
          "2023-06-27T00:00:00",
          "2023-06-28T00:00:00",
          "2023-06-29T00:00:00",
          "2023-06-30T00:00:00",
          "2023-07-03T00:00:00",
          "2023-07-05T00:00:00",
          "2023-07-06T00:00:00",
          "2023-07-07T00:00:00",
          "2023-07-10T00:00:00",
          "2023-07-11T00:00:00",
          "2023-07-12T00:00:00",
          "2023-07-13T00:00:00",
          "2023-07-14T00:00:00",
          "2023-07-17T00:00:00",
          "2023-07-18T00:00:00",
          "2023-07-19T00:00:00",
          "2023-07-20T00:00:00",
          "2023-07-21T00:00:00",
          "2023-07-24T00:00:00",
          "2023-07-25T00:00:00",
          "2023-07-26T00:00:00",
          "2023-07-27T00:00:00",
          "2023-07-28T00:00:00",
          "2023-07-31T00:00:00",
          "2023-08-01T00:00:00",
          "2023-08-02T00:00:00",
          "2023-08-03T00:00:00",
          "2023-08-04T00:00:00",
          "2023-08-07T00:00:00",
          "2023-08-08T00:00:00",
          "2023-08-09T00:00:00",
          "2023-08-10T00:00:00",
          "2023-08-11T00:00:00",
          "2023-08-14T00:00:00",
          "2023-08-15T00:00:00",
          "2023-08-16T00:00:00",
          "2023-08-17T00:00:00",
          "2023-08-18T00:00:00",
          "2023-08-21T00:00:00",
          "2023-08-22T00:00:00",
          "2023-08-23T00:00:00",
          "2023-08-24T00:00:00",
          "2023-08-25T00:00:00",
          "2023-08-28T00:00:00",
          "2023-08-29T00:00:00",
          "2023-08-30T00:00:00",
          "2023-08-31T00:00:00",
          "2023-09-01T00:00:00",
          "2023-09-05T00:00:00",
          "2023-09-06T00:00:00",
          "2023-09-07T00:00:00",
          "2023-09-08T00:00:00",
          "2023-09-11T00:00:00",
          "2023-09-12T00:00:00",
          "2023-09-13T00:00:00",
          "2023-09-14T00:00:00",
          "2023-09-15T00:00:00",
          "2023-09-18T00:00:00",
          "2023-09-19T00:00:00",
          "2023-09-20T00:00:00",
          "2023-09-21T00:00:00",
          "2023-09-22T00:00:00",
          "2023-09-25T00:00:00",
          "2023-09-26T00:00:00",
          "2023-09-27T00:00:00",
          "2023-09-28T00:00:00",
          "2023-09-29T00:00:00",
          "2023-10-02T00:00:00",
          "2023-10-03T00:00:00",
          "2023-10-04T00:00:00",
          "2023-10-05T00:00:00",
          "2023-10-06T00:00:00",
          "2023-10-09T00:00:00",
          "2023-10-10T00:00:00",
          "2023-10-11T00:00:00",
          "2023-10-12T00:00:00",
          "2023-10-13T00:00:00",
          "2023-10-16T00:00:00",
          "2023-10-17T00:00:00",
          "2023-10-18T00:00:00",
          "2023-10-19T00:00:00",
          "2023-10-20T00:00:00",
          "2023-10-23T00:00:00",
          "2023-10-24T00:00:00",
          "2023-10-25T00:00:00",
          "2023-10-26T00:00:00",
          "2023-10-27T00:00:00",
          "2023-10-30T00:00:00",
          "2023-10-31T00:00:00",
          "2023-11-01T00:00:00",
          "2023-11-02T00:00:00",
          "2023-11-03T00:00:00",
          "2023-11-06T00:00:00",
          "2023-11-07T00:00:00",
          "2023-11-08T00:00:00",
          "2023-11-09T00:00:00",
          "2023-11-10T00:00:00",
          "2023-11-13T00:00:00",
          "2023-11-14T00:00:00",
          "2023-11-15T00:00:00",
          "2023-11-16T00:00:00",
          "2023-11-17T00:00:00",
          "2023-11-20T00:00:00",
          "2023-11-21T00:00:00",
          "2023-11-22T00:00:00",
          "2023-11-24T00:00:00",
          "2023-11-27T00:00:00",
          "2023-11-28T00:00:00",
          "2023-11-29T00:00:00",
          "2023-11-30T00:00:00",
          "2023-12-01T00:00:00",
          "2023-12-04T00:00:00",
          "2023-12-05T00:00:00",
          "2023-12-06T00:00:00",
          "2023-12-07T00:00:00",
          "2023-12-08T00:00:00",
          "2023-12-11T00:00:00",
          "2023-12-12T00:00:00",
          "2023-12-13T00:00:00",
          "2023-12-14T00:00:00",
          "2023-12-15T00:00:00",
          "2023-12-18T00:00:00",
          "2023-12-19T00:00:00",
          "2023-12-20T00:00:00",
          "2023-12-21T00:00:00",
          "2023-12-22T00:00:00",
          "2023-12-26T00:00:00",
          "2023-12-27T00:00:00",
          "2023-12-28T00:00:00",
          "2023-12-29T00:00:00",
          "2024-01-02T00:00:00",
          "2024-01-03T00:00:00",
          "2024-01-04T00:00:00",
          "2024-01-05T00:00:00",
          "2024-01-08T00:00:00",
          "2024-01-09T00:00:00",
          "2024-01-10T00:00:00",
          "2024-01-11T00:00:00",
          "2024-01-12T00:00:00",
          "2024-01-16T00:00:00",
          "2024-01-17T00:00:00",
          "2024-01-18T00:00:00",
          "2024-01-19T00:00:00",
          "2024-01-22T00:00:00",
          "2024-01-23T00:00:00",
          "2024-01-24T00:00:00",
          "2024-01-25T00:00:00",
          "2024-01-26T00:00:00",
          "2024-01-29T00:00:00"
         ],
         "type": "candlestick"
        }
       ],
       "layout": {
        "template": {
         "data": {
          "histogram2dcontour": [
           {
            "type": "histogram2dcontour",
            "colorbar": {
             "outlinewidth": 0,
             "ticks": ""
            },
            "colorscale": [
             [
              0.0,
              "#0d0887"
             ],
             [
              0.1111111111111111,
              "#46039f"
             ],
             [
              0.2222222222222222,
              "#7201a8"
             ],
             [
              0.3333333333333333,
              "#9c179e"
             ],
             [
              0.4444444444444444,
              "#bd3786"
             ],
             [
              0.5555555555555556,
              "#d8576b"
             ],
             [
              0.6666666666666666,
              "#ed7953"
             ],
             [
              0.7777777777777778,
              "#fb9f3a"
             ],
             [
              0.8888888888888888,
              "#fdca26"
             ],
             [
              1.0,
              "#f0f921"
             ]
            ]
           }
          ],
          "choropleth": [
           {
            "type": "choropleth",
            "colorbar": {
             "outlinewidth": 0,
             "ticks": ""
            }
           }
          ],
          "histogram2d": [
           {
            "type": "histogram2d",
            "colorbar": {
             "outlinewidth": 0,
             "ticks": ""
            },
            "colorscale": [
             [
              0.0,
              "#0d0887"
             ],
             [
              0.1111111111111111,
              "#46039f"
             ],
             [
              0.2222222222222222,
              "#7201a8"
             ],
             [
              0.3333333333333333,
              "#9c179e"
             ],
             [
              0.4444444444444444,
              "#bd3786"
             ],
             [
              0.5555555555555556,
              "#d8576b"
             ],
             [
              0.6666666666666666,
              "#ed7953"
             ],
             [
              0.7777777777777778,
              "#fb9f3a"
             ],
             [
              0.8888888888888888,
              "#fdca26"
             ],
             [
              1.0,
              "#f0f921"
             ]
            ]
           }
          ],
          "heatmap": [
           {
            "type": "heatmap",
            "colorbar": {
             "outlinewidth": 0,
             "ticks": ""
            },
            "colorscale": [
             [
              0.0,
              "#0d0887"
             ],
             [
              0.1111111111111111,
              "#46039f"
             ],
             [
              0.2222222222222222,
              "#7201a8"
             ],
             [
              0.3333333333333333,
              "#9c179e"
             ],
             [
              0.4444444444444444,
              "#bd3786"
             ],
             [
              0.5555555555555556,
              "#d8576b"
             ],
             [
              0.6666666666666666,
              "#ed7953"
             ],
             [
              0.7777777777777778,
              "#fb9f3a"
             ],
             [
              0.8888888888888888,
              "#fdca26"
             ],
             [
              1.0,
              "#f0f921"
             ]
            ]
           }
          ],
          "heatmapgl": [
           {
            "type": "heatmapgl",
            "colorbar": {
             "outlinewidth": 0,
             "ticks": ""
            },
            "colorscale": [
             [
              0.0,
              "#0d0887"
             ],
             [
              0.1111111111111111,
              "#46039f"
             ],
             [
              0.2222222222222222,
              "#7201a8"
             ],
             [
              0.3333333333333333,
              "#9c179e"
             ],
             [
              0.4444444444444444,
              "#bd3786"
             ],
             [
              0.5555555555555556,
              "#d8576b"
             ],
             [
              0.6666666666666666,
              "#ed7953"
             ],
             [
              0.7777777777777778,
              "#fb9f3a"
             ],
             [
              0.8888888888888888,
              "#fdca26"
             ],
             [
              1.0,
              "#f0f921"
             ]
            ]
           }
          ],
          "contourcarpet": [
           {
            "type": "contourcarpet",
            "colorbar": {
             "outlinewidth": 0,
             "ticks": ""
            }
           }
          ],
          "contour": [
           {
            "type": "contour",
            "colorbar": {
             "outlinewidth": 0,
             "ticks": ""
            },
            "colorscale": [
             [
              0.0,
              "#0d0887"
             ],
             [
              0.1111111111111111,
              "#46039f"
             ],
             [
              0.2222222222222222,
              "#7201a8"
             ],
             [
              0.3333333333333333,
              "#9c179e"
             ],
             [
              0.4444444444444444,
              "#bd3786"
             ],
             [
              0.5555555555555556,
              "#d8576b"
             ],
             [
              0.6666666666666666,
              "#ed7953"
             ],
             [
              0.7777777777777778,
              "#fb9f3a"
             ],
             [
              0.8888888888888888,
              "#fdca26"
             ],
             [
              1.0,
              "#f0f921"
             ]
            ]
           }
          ],
          "surface": [
           {
            "type": "surface",
            "colorbar": {
             "outlinewidth": 0,
             "ticks": ""
            },
            "colorscale": [
             [
              0.0,
              "#0d0887"
             ],
             [
              0.1111111111111111,
              "#46039f"
             ],
             [
              0.2222222222222222,
              "#7201a8"
             ],
             [
              0.3333333333333333,
              "#9c179e"
             ],
             [
              0.4444444444444444,
              "#bd3786"
             ],
             [
              0.5555555555555556,
              "#d8576b"
             ],
             [
              0.6666666666666666,
              "#ed7953"
             ],
             [
              0.7777777777777778,
              "#fb9f3a"
             ],
             [
              0.8888888888888888,
              "#fdca26"
             ],
             [
              1.0,
              "#f0f921"
             ]
            ]
           }
          ],
          "mesh3d": [
           {
            "type": "mesh3d",
            "colorbar": {
             "outlinewidth": 0,
             "ticks": ""
            }
           }
          ],
          "scatter": [
           {
            "marker": {
             "line": {
              "color": "#283442"
             }
            },
            "type": "scatter"
           }
          ],
          "parcoords": [
           {
            "type": "parcoords",
            "line": {
             "colorbar": {
              "outlinewidth": 0,
              "ticks": ""
             }
            }
           }
          ],
          "scatterpolargl": [
           {
            "type": "scatterpolargl",
            "marker": {
             "colorbar": {
              "outlinewidth": 0,
              "ticks": ""
             }
            }
           }
          ],
          "bar": [
           {
            "error_x": {
             "color": "#f2f5fa"
            },
            "error_y": {
             "color": "#f2f5fa"
            },
            "marker": {
             "line": {
              "color": "rgb(17,17,17)",
              "width": 0.5
             },
             "pattern": {
              "fillmode": "overlay",
              "size": 10,
              "solidity": 0.2
             }
            },
            "type": "bar"
           }
          ],
          "scattergeo": [
           {
            "type": "scattergeo",
            "marker": {
             "colorbar": {
              "outlinewidth": 0,
              "ticks": ""
             }
            }
           }
          ],
          "scatterpolar": [
           {
            "type": "scatterpolar",
            "marker": {
             "colorbar": {
              "outlinewidth": 0,
              "ticks": ""
             }
            }
           }
          ],
          "histogram": [
           {
            "marker": {
             "pattern": {
              "fillmode": "overlay",
              "size": 10,
              "solidity": 0.2
             }
            },
            "type": "histogram"
           }
          ],
          "scattergl": [
           {
            "marker": {
             "line": {
              "color": "#283442"
             }
            },
            "type": "scattergl"
           }
          ],
          "scatter3d": [
           {
            "type": "scatter3d",
            "line": {
             "colorbar": {
              "outlinewidth": 0,
              "ticks": ""
             }
            },
            "marker": {
             "colorbar": {
              "outlinewidth": 0,
              "ticks": ""
             }
            }
           }
          ],
          "scattermapbox": [
           {
            "type": "scattermapbox",
            "marker": {
             "colorbar": {
              "outlinewidth": 0,
              "ticks": ""
             }
            }
           }
          ],
          "scatterternary": [
           {
            "type": "scatterternary",
            "marker": {
             "colorbar": {
              "outlinewidth": 0,
              "ticks": ""
             }
            }
           }
          ],
          "scattercarpet": [
           {
            "type": "scattercarpet",
            "marker": {
             "colorbar": {
              "outlinewidth": 0,
              "ticks": ""
             }
            }
           }
          ],
          "carpet": [
           {
            "aaxis": {
             "endlinecolor": "#A2B1C6",
             "gridcolor": "#506784",
             "linecolor": "#506784",
             "minorgridcolor": "#506784",
             "startlinecolor": "#A2B1C6"
            },
            "baxis": {
             "endlinecolor": "#A2B1C6",
             "gridcolor": "#506784",
             "linecolor": "#506784",
             "minorgridcolor": "#506784",
             "startlinecolor": "#A2B1C6"
            },
            "type": "carpet"
           }
          ],
          "table": [
           {
            "cells": {
             "fill": {
              "color": "#506784"
             },
             "line": {
              "color": "rgb(17,17,17)"
             }
            },
            "header": {
             "fill": {
              "color": "#2a3f5f"
             },
             "line": {
              "color": "rgb(17,17,17)"
             }
            },
            "type": "table"
           }
          ],
          "barpolar": [
           {
            "marker": {
             "line": {
              "color": "rgb(17,17,17)",
              "width": 0.5
             },
             "pattern": {
              "fillmode": "overlay",
              "size": 10,
              "solidity": 0.2
             }
            },
            "type": "barpolar"
           }
          ],
          "pie": [
           {
            "automargin": true,
            "type": "pie"
           }
          ]
         },
         "layout": {
          "autotypenumbers": "strict",
          "colorway": [
           "#636efa",
           "#EF553B",
           "#00cc96",
           "#ab63fa",
           "#FFA15A",
           "#19d3f3",
           "#FF6692",
           "#B6E880",
           "#FF97FF",
           "#FECB52"
          ],
          "font": {
           "color": "#f2f5fa"
          },
          "hovermode": "closest",
          "hoverlabel": {
           "align": "left"
          },
          "paper_bgcolor": "rgb(17,17,17)",
          "plot_bgcolor": "rgb(17,17,17)",
          "polar": {
           "bgcolor": "rgb(17,17,17)",
           "angularaxis": {
            "gridcolor": "#506784",
            "linecolor": "#506784",
            "ticks": ""
           },
           "radialaxis": {
            "gridcolor": "#506784",
            "linecolor": "#506784",
            "ticks": ""
           }
          },
          "ternary": {
           "bgcolor": "rgb(17,17,17)",
           "aaxis": {
            "gridcolor": "#506784",
            "linecolor": "#506784",
            "ticks": ""
           },
           "baxis": {
            "gridcolor": "#506784",
            "linecolor": "#506784",
            "ticks": ""
           },
           "caxis": {
            "gridcolor": "#506784",
            "linecolor": "#506784",
            "ticks": ""
           }
          },
          "coloraxis": {
           "colorbar": {
            "outlinewidth": 0,
            "ticks": ""
           }
          },
          "colorscale": {
           "sequential": [
            [
             0.0,
             "#0d0887"
            ],
            [
             0.1111111111111111,
             "#46039f"
            ],
            [
             0.2222222222222222,
             "#7201a8"
            ],
            [
             0.3333333333333333,
             "#9c179e"
            ],
            [
             0.4444444444444444,
             "#bd3786"
            ],
            [
             0.5555555555555556,
             "#d8576b"
            ],
            [
             0.6666666666666666,
             "#ed7953"
            ],
            [
             0.7777777777777778,
             "#fb9f3a"
            ],
            [
             0.8888888888888888,
             "#fdca26"
            ],
            [
             1.0,
             "#f0f921"
            ]
           ],
           "sequentialminus": [
            [
             0.0,
             "#0d0887"
            ],
            [
             0.1111111111111111,
             "#46039f"
            ],
            [
             0.2222222222222222,
             "#7201a8"
            ],
            [
             0.3333333333333333,
             "#9c179e"
            ],
            [
             0.4444444444444444,
             "#bd3786"
            ],
            [
             0.5555555555555556,
             "#d8576b"
            ],
            [
             0.6666666666666666,
             "#ed7953"
            ],
            [
             0.7777777777777778,
             "#fb9f3a"
            ],
            [
             0.8888888888888888,
             "#fdca26"
            ],
            [
             1.0,
             "#f0f921"
            ]
           ],
           "diverging": [
            [
             0,
             "#8e0152"
            ],
            [
             0.1,
             "#c51b7d"
            ],
            [
             0.2,
             "#de77ae"
            ],
            [
             0.3,
             "#f1b6da"
            ],
            [
             0.4,
             "#fde0ef"
            ],
            [
             0.5,
             "#f7f7f7"
            ],
            [
             0.6,
             "#e6f5d0"
            ],
            [
             0.7,
             "#b8e186"
            ],
            [
             0.8,
             "#7fbc41"
            ],
            [
             0.9,
             "#4d9221"
            ],
            [
             1,
             "#276419"
            ]
           ]
          },
          "xaxis": {
           "gridcolor": "#283442",
           "linecolor": "#506784",
           "ticks": "",
           "title": {
            "standoff": 15
           },
           "zerolinecolor": "#283442",
           "automargin": true,
           "zerolinewidth": 2
          },
          "yaxis": {
           "gridcolor": "#283442",
           "linecolor": "#506784",
           "ticks": "",
           "title": {
            "standoff": 15
           },
           "zerolinecolor": "#283442",
           "automargin": true,
           "zerolinewidth": 2
          },
          "scene": {
           "xaxis": {
            "backgroundcolor": "rgb(17,17,17)",
            "gridcolor": "#506784",
            "linecolor": "#506784",
            "showbackground": true,
            "ticks": "",
            "zerolinecolor": "#C8D4E3",
            "gridwidth": 2
           },
           "yaxis": {
            "backgroundcolor": "rgb(17,17,17)",
            "gridcolor": "#506784",
            "linecolor": "#506784",
            "showbackground": true,
            "ticks": "",
            "zerolinecolor": "#C8D4E3",
            "gridwidth": 2
           },
           "zaxis": {
            "backgroundcolor": "rgb(17,17,17)",
            "gridcolor": "#506784",
            "linecolor": "#506784",
            "showbackground": true,
            "ticks": "",
            "zerolinecolor": "#C8D4E3",
            "gridwidth": 2
           }
          },
          "shapedefaults": {
           "line": {
            "color": "#f2f5fa"
           }
          },
          "annotationdefaults": {
           "arrowcolor": "#f2f5fa",
           "arrowhead": 0,
           "arrowwidth": 1
          },
          "geo": {
           "bgcolor": "rgb(17,17,17)",
           "landcolor": "rgb(17,17,17)",
           "subunitcolor": "#506784",
           "showland": true,
           "showlakes": true,
           "lakecolor": "rgb(17,17,17)"
          },
          "title": {
           "x": 0.05
          },
          "updatemenudefaults": {
           "bgcolor": "#506784",
           "borderwidth": 0
          },
          "sliderdefaults": {
           "bgcolor": "#C8D4E3",
           "borderwidth": 1,
           "bordercolor": "rgb(17,17,17)",
           "tickwidth": 0
          },
          "mapbox": {
           "style": "dark"
          }
         }
        },
        "title": {
         "font": {
          "size": 13,
          "color": "white"
         },
         "text": "Candlestick Chart for ticker: RTX<br>From: 2023-01-01<br>To: 2024-01-29"
        },
        "legend": {
         "yanchor": "top",
         "y": 0.99,
         "xanchor": "left",
         "x": 0.01
        },
        "xaxis": {
         "showgrid": false,
         "gridcolor": "#2A2E31",
         "gridwidth": 0.1,
         "zeroline": false,
         "zerolinecolor": "turquoise",
         "zerolinewidth": 1
        },
        "yaxis": {
         "showgrid": true,
         "gridcolor": "#2A2E31",
         "gridwidth": 0.1,
         "zeroline": true,
         "zerolinecolor": "turquoise",
         "zerolinewidth": 1
        },
        "font": {
         "color": "white",
         "size": 12
        },
        "showlegend": true,
        "autosize": false,
        "width": 1200,
        "height": 600,
        "plot_bgcolor": "black",
        "paper_bgcolor": "rgba(0,0,0,0)"
       },
       "config": {
        "plotlyServerURL": "https://plot.ly"
       }
      },
      "text/html": "<div>                            <div id=\"fbd131ed-1332-451b-8349-9d1150cb4696\" class=\"plotly-graph-div\" style=\"height:600px; width:1200px;\"></div>            <script type=\"text/javascript\">                require([\"plotly\"], function(Plotly) {                    window.PLOTLYENV=window.PLOTLYENV || {};                                    if (document.getElementById(\"fbd131ed-1332-451b-8349-9d1150cb4696\")) {                    Plotly.newPlot(                        \"fbd131ed-1332-451b-8349-9d1150cb4696\",                        [{\"close\":[100.81,100.84,100.88,102.46,99.6,99.92,99.59,100.68,98.68,98.43,95.74,94.24,94.36,96.25,99.47,100.01,100.25,99.6,98.71,99.85,98.42,96.96,96.48,97.64,97.87,97.65,97.85,100.61,100.56,101.37,101.46,100.97,101.51,100.65,100.51,99.64,99.62,99.16,98.09,98.04,99.0,99.02,99.51,98.18,97.4,95.93,96.0,97.46,98.32,95.83,98.08,95.75,97.53,98.01,96.7,96.0,96.44,96.91,96.8,97.7,97.37,97.93,100.58,99.51,98.76,98.21,99.62,99.72,101.52,101.68,101.68,103.11,104.66,104.09,102.84,102.25,102.46,101.09,97.68,99.39,99.9,100.33,98.87,97.16,95.92,96.58,95.54,96.27,96.3,95.54,95.99,96.7,95.46,96.57,96.13,96.13,95.66,94.08,93.66,93.12,93.26,92.82,92.14,94.09,96.08,95.75,97.44,98.59,99.08,99.34,99.42,99.69,96.86,98.0,97.74,97.7,99.07,96.92,96.91,96.55,96.53,95.87,97.8,97.96,98.39,98.24,98.05,97.42,97.48,98.03,96.82,97.17,96.17,96.32,95.76,95.57,97.16,96.39,97.01,87.1,86.3,85.17,87.34,87.93,87.97,85.46,84.67,84.55,85.47,86.21,87.77,86.22,86.84,86.44,85.66,85.14,85.15,85.8,85.52,85.33,86.04,85.15,84.69,85.74,85.35,86.43,86.04,86.28,85.05,83.51,84.33,83.48,76.9,75.56,75.56,75.5,75.8,75.18,75.08,74.43,72.64,71.58,72.05,72.26,72.88,72.0,71.97,71.34,70.58,70.12,69.38,69.77,72.99,73.35,73.31,73.3,73.25,73.98,73.89,74.24,73.89,72.55,73.13,78.38,78.41,79.15,79.16,78.57,81.39,82.15,82.78,82.72,82.4,82.67,83.2,82.43,82.22,82.03,80.69,80.63,80.23,79.68,79.17,78.15,79.82,79.98,79.47,80.19,80.95,81.48,82.32,83.13,82.69,82.71,81.5,81.32,81.89,81.04,83.22,81.86,80.28,80.69,82.62,81.64,82.01,83.23,84.05,84.17,84.17,84.14,85.22,85.61,85.41,85.38,85.84,85.8,86.08,85.32,86.33,85.5,85.05,85.47,85.53,85.02,89.55,89.49,90.94,90.41,90.08],\"high\":[101.23,102.1,101.46,103.95,102.78,101.08,100.33,100.74,99.05,99.65,98.66,95.53,94.44,96.93,99.82,100.01,100.93,100.54,99.8,99.98,99.99,98.42,97.79,97.99,98.2,98.25,98.51,100.7,101.42,102.06,101.53,101.46,101.6,102.65,101.12,100.65,99.63,100.03,99.47,98.57,99.33,99.32,100.09,99.93,98.61,97.98,97.05,98.24,99.14,97.26,98.64,97.77,97.81,99.3,98.56,97.45,96.68,97.41,97.12,97.78,97.85,98.05,100.84,101.46,99.59,99.52,99.77,100.54,102.35,101.86,101.71,103.29,104.71,104.91,103.32,103.24,102.63,102.62,100.79,99.7,99.91,101.38,100.16,99.16,97.27,96.79,97.44,96.78,97.0,96.18,96.56,96.73,96.55,97.36,96.4,96.8,96.28,95.27,94.59,93.72,94.64,93.56,92.87,94.14,96.42,96.91,97.69,98.79,99.53,99.5,99.79,100.68,99.82,98.37,99.01,98.96,99.95,98.63,97.29,96.61,96.75,96.4,97.89,98.39,98.84,98.46,98.74,98.47,98.33,98.09,98.8,97.46,97.15,96.88,97.68,96.47,97.28,97.44,97.18,87.25,87.2,87.22,87.55,88.69,88.21,87.92,85.76,85.2,85.77,86.43,87.91,88.07,86.87,87.11,86.23,85.79,85.72,86.23,86.01,85.82,86.15,86.16,85.73,86.05,86.14,86.73,87.02,86.69,86.3,84.97,84.41,84.4,80.5,75.71,76.66,75.64,76.4,76.51,75.43,76.16,74.45,72.69,72.1,72.42,73.33,73.08,72.52,71.94,72.25,70.21,70.37,70.39,73.25,73.66,73.33,73.55,74.4,74.1,74.92,74.9,74.85,74.15,74.01,78.8,79.35,79.83,79.77,79.8,81.55,82.8,83.2,83.86,82.95,82.69,83.28,83.85,82.86,82.81,82.25,81.25,80.83,80.68,79.82,79.1,79.87,80.09,79.99,80.79,81.33,81.92,82.41,83.19,83.35,83.43,83.15,82.1,82.29,81.58,83.4,84.09,81.99,81.49,82.66,82.9,82.99,83.86,84.3,84.47,84.61,84.41,86.02,86.9,86.59,85.76,86.18,85.98,86.46,86.01,86.73,86.28,86.81,85.84,85.8,86.18,92.38,90.05,91.11,91.22,90.68],\"low\":[100.1,100.41,99.66,101.3,98.78,99.02,98.93,99.53,97.51,98.36,95.67,94.16,93.34,94.51,94.02,97.58,99.13,99.33,97.86,98.23,97.6,96.58,96.39,96.7,95.8,97.25,97.29,98.2,100.11,100.25,100.7,99.93,100.31,100.38,99.83,98.8,98.39,99.02,97.82,97.5,97.5,98.26,98.84,98.17,96.66,95.52,95.21,94.73,97.42,94.74,95.0,95.49,96.31,97.97,96.69,95.65,94.94,96.39,96.61,97.2,97.19,97.49,98.1,99.09,98.7,98.06,97.65,99.41,100.83,100.5,100.97,101.8,103.21,103.86,102.31,101.87,101.62,100.02,97.18,97.45,98.79,99.84,98.27,97.04,94.86,95.71,95.44,95.32,95.41,94.92,95.67,95.85,95.42,95.76,95.08,95.5,95.04,94.07,93.15,92.06,93.12,92.31,91.95,92.25,94.6,95.65,95.36,96.63,98.19,98.85,99.05,99.52,96.55,97.04,96.81,97.54,97.39,96.6,96.34,94.75,95.85,95.12,95.85,97.28,97.32,97.44,97.35,97.37,97.27,96.54,96.72,96.29,95.73,95.6,95.49,95.27,95.97,96.37,96.51,81.35,84.86,84.43,85.4,87.22,87.07,85.27,84.36,84.34,84.71,84.66,85.97,86.1,85.9,86.23,85.59,85.09,84.53,84.62,85.22,85.06,85.3,85.15,84.65,84.81,85.27,85.55,86.03,85.89,85.02,83.25,83.7,82.94,75.99,73.66,75.46,73.62,75.08,75.12,74.42,74.38,72.44,71.43,71.02,71.32,72.45,71.95,71.56,70.9,70.44,69.22,69.26,68.56,71.82,72.65,72.62,72.29,73.1,72.59,73.35,73.92,73.85,72.48,72.52,76.96,77.77,77.91,78.42,77.77,78.73,81.33,82.23,82.67,82.06,82.13,82.51,82.14,81.78,81.6,80.61,79.78,79.93,79.42,78.99,78.11,78.0,79.43,79.13,79.57,80.12,81.05,81.37,81.94,82.66,82.33,81.43,81.16,81.33,80.91,80.52,81.41,79.67,80.36,80.92,81.56,81.37,82.04,83.08,83.7,84.09,83.78,83.96,85.35,85.34,84.86,84.72,84.97,85.66,84.73,85.99,85.04,84.92,84.8,84.43,85.01,87.96,88.7,89.58,90.14,89.695],\"open\":[100.99,100.51,100.27,101.9,102.73,99.42,100.12,99.85,97.74,99.25,98.66,95.23,94.15,94.8,98.87,99.3,100.68,99.85,99.5,98.8,99.93,98.29,96.76,96.75,97.16,97.34,98.05,98.23,101.12,100.26,101.0,100.41,100.85,102.2,100.73,100.52,99.3,99.98,99.27,98.04,97.5,99.18,99.02,99.71,98.0,97.98,95.65,94.89,98.27,96.96,95.35,97.76,96.41,98.97,98.27,97.3,95.41,97.41,96.79,97.2,97.7,97.98,98.27,100.58,99.24,98.77,97.96,99.72,101.0,101.15,101.19,101.91,103.38,104.63,103.11,103.01,102.37,101.69,100.47,97.68,99.07,99.93,100.16,98.81,97.0,96.33,96.69,95.63,96.82,95.66,95.97,95.97,96.55,95.76,95.79,96.59,95.9,94.83,93.78,93.51,93.72,93.01,92.37,92.28,94.96,96.61,96.14,97.54,98.43,99.43,99.39,100.0,99.71,97.18,98.2,98.4,97.7,98.6,96.7,95.98,96.35,96.39,96.0,98.1,97.49,98.02,97.9,98.08,97.41,97.1,98.64,96.59,97.09,96.09,96.42,95.84,96.2,97.2,96.9,85.86,86.82,85.8,85.5,87.45,87.15,87.5,85.53,85.05,84.75,85.01,86.08,87.32,85.92,86.84,86.12,85.54,84.96,84.64,85.62,85.82,85.55,85.5,85.51,84.84,85.76,85.64,86.7,86.61,86.25,84.87,83.81,84.33,80.2,74.7,75.56,73.68,75.1,75.91,74.98,75.95,74.28,72.61,71.3,71.43,72.75,72.22,72.3,71.74,71.41,70.13,70.06,69.1,72.75,73.46,73.33,73.41,73.93,73.64,73.75,74.01,73.98,74.09,72.58,78.75,79.35,78.0,78.53,79.07,78.85,82.0,82.35,83.17,82.7,82.4,82.85,83.66,82.76,82.26,82.18,80.51,80.47,80.64,79.56,78.93,78.01,79.82,79.76,79.99,80.22,81.14,81.48,82.07,82.93,82.62,83.0,81.69,81.33,81.21,81.19,83.87,81.74,80.36,80.92,82.2,82.04,82.09,83.15,83.9,84.17,84.21,84.05,85.48,85.99,85.76,84.91,85.76,85.8,85.91,86.56,86.11,85.43,85.05,85.59,85.81,88.23,89.63,90.25,90.69,90.44],\"x\":[\"2023-01-03T00:00:00\",\"2023-01-04T00:00:00\",\"2023-01-05T00:00:00\",\"2023-01-06T00:00:00\",\"2023-01-09T00:00:00\",\"2023-01-10T00:00:00\",\"2023-01-11T00:00:00\",\"2023-01-12T00:00:00\",\"2023-01-13T00:00:00\",\"2023-01-17T00:00:00\",\"2023-01-18T00:00:00\",\"2023-01-19T00:00:00\",\"2023-01-20T00:00:00\",\"2023-01-23T00:00:00\",\"2023-01-24T00:00:00\",\"2023-01-25T00:00:00\",\"2023-01-26T00:00:00\",\"2023-01-27T00:00:00\",\"2023-01-30T00:00:00\",\"2023-01-31T00:00:00\",\"2023-02-01T00:00:00\",\"2023-02-02T00:00:00\",\"2023-02-03T00:00:00\",\"2023-02-06T00:00:00\",\"2023-02-07T00:00:00\",\"2023-02-08T00:00:00\",\"2023-02-09T00:00:00\",\"2023-02-10T00:00:00\",\"2023-02-13T00:00:00\",\"2023-02-14T00:00:00\",\"2023-02-15T00:00:00\",\"2023-02-16T00:00:00\",\"2023-02-17T00:00:00\",\"2023-02-21T00:00:00\",\"2023-02-22T00:00:00\",\"2023-02-23T00:00:00\",\"2023-02-24T00:00:00\",\"2023-02-27T00:00:00\",\"2023-02-28T00:00:00\",\"2023-03-01T00:00:00\",\"2023-03-02T00:00:00\",\"2023-03-03T00:00:00\",\"2023-03-06T00:00:00\",\"2023-03-07T00:00:00\",\"2023-03-08T00:00:00\",\"2023-03-09T00:00:00\",\"2023-03-10T00:00:00\",\"2023-03-13T00:00:00\",\"2023-03-14T00:00:00\",\"2023-03-15T00:00:00\",\"2023-03-16T00:00:00\",\"2023-03-17T00:00:00\",\"2023-03-20T00:00:00\",\"2023-03-21T00:00:00\",\"2023-03-22T00:00:00\",\"2023-03-23T00:00:00\",\"2023-03-24T00:00:00\",\"2023-03-27T00:00:00\",\"2023-03-28T00:00:00\",\"2023-03-29T00:00:00\",\"2023-03-30T00:00:00\",\"2023-03-31T00:00:00\",\"2023-04-03T00:00:00\",\"2023-04-04T00:00:00\",\"2023-04-05T00:00:00\",\"2023-04-06T00:00:00\",\"2023-04-10T00:00:00\",\"2023-04-11T00:00:00\",\"2023-04-12T00:00:00\",\"2023-04-13T00:00:00\",\"2023-04-14T00:00:00\",\"2023-04-17T00:00:00\",\"2023-04-18T00:00:00\",\"2023-04-19T00:00:00\",\"2023-04-20T00:00:00\",\"2023-04-21T00:00:00\",\"2023-04-24T00:00:00\",\"2023-04-25T00:00:00\",\"2023-04-26T00:00:00\",\"2023-04-27T00:00:00\",\"2023-04-28T00:00:00\",\"2023-05-01T00:00:00\",\"2023-05-02T00:00:00\",\"2023-05-03T00:00:00\",\"2023-05-04T00:00:00\",\"2023-05-05T00:00:00\",\"2023-05-08T00:00:00\",\"2023-05-09T00:00:00\",\"2023-05-10T00:00:00\",\"2023-05-11T00:00:00\",\"2023-05-12T00:00:00\",\"2023-05-15T00:00:00\",\"2023-05-16T00:00:00\",\"2023-05-17T00:00:00\",\"2023-05-18T00:00:00\",\"2023-05-19T00:00:00\",\"2023-05-22T00:00:00\",\"2023-05-23T00:00:00\",\"2023-05-24T00:00:00\",\"2023-05-25T00:00:00\",\"2023-05-26T00:00:00\",\"2023-05-30T00:00:00\",\"2023-05-31T00:00:00\",\"2023-06-01T00:00:00\",\"2023-06-02T00:00:00\",\"2023-06-05T00:00:00\",\"2023-06-06T00:00:00\",\"2023-06-07T00:00:00\",\"2023-06-08T00:00:00\",\"2023-06-09T00:00:00\",\"2023-06-12T00:00:00\",\"2023-06-13T00:00:00\",\"2023-06-14T00:00:00\",\"2023-06-15T00:00:00\",\"2023-06-16T00:00:00\",\"2023-06-20T00:00:00\",\"2023-06-21T00:00:00\",\"2023-06-22T00:00:00\",\"2023-06-23T00:00:00\",\"2023-06-26T00:00:00\",\"2023-06-27T00:00:00\",\"2023-06-28T00:00:00\",\"2023-06-29T00:00:00\",\"2023-06-30T00:00:00\",\"2023-07-03T00:00:00\",\"2023-07-05T00:00:00\",\"2023-07-06T00:00:00\",\"2023-07-07T00:00:00\",\"2023-07-10T00:00:00\",\"2023-07-11T00:00:00\",\"2023-07-12T00:00:00\",\"2023-07-13T00:00:00\",\"2023-07-14T00:00:00\",\"2023-07-17T00:00:00\",\"2023-07-18T00:00:00\",\"2023-07-19T00:00:00\",\"2023-07-20T00:00:00\",\"2023-07-21T00:00:00\",\"2023-07-24T00:00:00\",\"2023-07-25T00:00:00\",\"2023-07-26T00:00:00\",\"2023-07-27T00:00:00\",\"2023-07-28T00:00:00\",\"2023-07-31T00:00:00\",\"2023-08-01T00:00:00\",\"2023-08-02T00:00:00\",\"2023-08-03T00:00:00\",\"2023-08-04T00:00:00\",\"2023-08-07T00:00:00\",\"2023-08-08T00:00:00\",\"2023-08-09T00:00:00\",\"2023-08-10T00:00:00\",\"2023-08-11T00:00:00\",\"2023-08-14T00:00:00\",\"2023-08-15T00:00:00\",\"2023-08-16T00:00:00\",\"2023-08-17T00:00:00\",\"2023-08-18T00:00:00\",\"2023-08-21T00:00:00\",\"2023-08-22T00:00:00\",\"2023-08-23T00:00:00\",\"2023-08-24T00:00:00\",\"2023-08-25T00:00:00\",\"2023-08-28T00:00:00\",\"2023-08-29T00:00:00\",\"2023-08-30T00:00:00\",\"2023-08-31T00:00:00\",\"2023-09-01T00:00:00\",\"2023-09-05T00:00:00\",\"2023-09-06T00:00:00\",\"2023-09-07T00:00:00\",\"2023-09-08T00:00:00\",\"2023-09-11T00:00:00\",\"2023-09-12T00:00:00\",\"2023-09-13T00:00:00\",\"2023-09-14T00:00:00\",\"2023-09-15T00:00:00\",\"2023-09-18T00:00:00\",\"2023-09-19T00:00:00\",\"2023-09-20T00:00:00\",\"2023-09-21T00:00:00\",\"2023-09-22T00:00:00\",\"2023-09-25T00:00:00\",\"2023-09-26T00:00:00\",\"2023-09-27T00:00:00\",\"2023-09-28T00:00:00\",\"2023-09-29T00:00:00\",\"2023-10-02T00:00:00\",\"2023-10-03T00:00:00\",\"2023-10-04T00:00:00\",\"2023-10-05T00:00:00\",\"2023-10-06T00:00:00\",\"2023-10-09T00:00:00\",\"2023-10-10T00:00:00\",\"2023-10-11T00:00:00\",\"2023-10-12T00:00:00\",\"2023-10-13T00:00:00\",\"2023-10-16T00:00:00\",\"2023-10-17T00:00:00\",\"2023-10-18T00:00:00\",\"2023-10-19T00:00:00\",\"2023-10-20T00:00:00\",\"2023-10-23T00:00:00\",\"2023-10-24T00:00:00\",\"2023-10-25T00:00:00\",\"2023-10-26T00:00:00\",\"2023-10-27T00:00:00\",\"2023-10-30T00:00:00\",\"2023-10-31T00:00:00\",\"2023-11-01T00:00:00\",\"2023-11-02T00:00:00\",\"2023-11-03T00:00:00\",\"2023-11-06T00:00:00\",\"2023-11-07T00:00:00\",\"2023-11-08T00:00:00\",\"2023-11-09T00:00:00\",\"2023-11-10T00:00:00\",\"2023-11-13T00:00:00\",\"2023-11-14T00:00:00\",\"2023-11-15T00:00:00\",\"2023-11-16T00:00:00\",\"2023-11-17T00:00:00\",\"2023-11-20T00:00:00\",\"2023-11-21T00:00:00\",\"2023-11-22T00:00:00\",\"2023-11-24T00:00:00\",\"2023-11-27T00:00:00\",\"2023-11-28T00:00:00\",\"2023-11-29T00:00:00\",\"2023-11-30T00:00:00\",\"2023-12-01T00:00:00\",\"2023-12-04T00:00:00\",\"2023-12-05T00:00:00\",\"2023-12-06T00:00:00\",\"2023-12-07T00:00:00\",\"2023-12-08T00:00:00\",\"2023-12-11T00:00:00\",\"2023-12-12T00:00:00\",\"2023-12-13T00:00:00\",\"2023-12-14T00:00:00\",\"2023-12-15T00:00:00\",\"2023-12-18T00:00:00\",\"2023-12-19T00:00:00\",\"2023-12-20T00:00:00\",\"2023-12-21T00:00:00\",\"2023-12-22T00:00:00\",\"2023-12-26T00:00:00\",\"2023-12-27T00:00:00\",\"2023-12-28T00:00:00\",\"2023-12-29T00:00:00\",\"2024-01-02T00:00:00\",\"2024-01-03T00:00:00\",\"2024-01-04T00:00:00\",\"2024-01-05T00:00:00\",\"2024-01-08T00:00:00\",\"2024-01-09T00:00:00\",\"2024-01-10T00:00:00\",\"2024-01-11T00:00:00\",\"2024-01-12T00:00:00\",\"2024-01-16T00:00:00\",\"2024-01-17T00:00:00\",\"2024-01-18T00:00:00\",\"2024-01-19T00:00:00\",\"2024-01-22T00:00:00\",\"2024-01-23T00:00:00\",\"2024-01-24T00:00:00\",\"2024-01-25T00:00:00\",\"2024-01-26T00:00:00\",\"2024-01-29T00:00:00\"],\"type\":\"candlestick\"}],                        {\"template\":{\"data\":{\"histogram2dcontour\":[{\"type\":\"histogram2dcontour\",\"colorbar\":{\"outlinewidth\":0,\"ticks\":\"\"},\"colorscale\":[[0.0,\"#0d0887\"],[0.1111111111111111,\"#46039f\"],[0.2222222222222222,\"#7201a8\"],[0.3333333333333333,\"#9c179e\"],[0.4444444444444444,\"#bd3786\"],[0.5555555555555556,\"#d8576b\"],[0.6666666666666666,\"#ed7953\"],[0.7777777777777778,\"#fb9f3a\"],[0.8888888888888888,\"#fdca26\"],[1.0,\"#f0f921\"]]}],\"choropleth\":[{\"type\":\"choropleth\",\"colorbar\":{\"outlinewidth\":0,\"ticks\":\"\"}}],\"histogram2d\":[{\"type\":\"histogram2d\",\"colorbar\":{\"outlinewidth\":0,\"ticks\":\"\"},\"colorscale\":[[0.0,\"#0d0887\"],[0.1111111111111111,\"#46039f\"],[0.2222222222222222,\"#7201a8\"],[0.3333333333333333,\"#9c179e\"],[0.4444444444444444,\"#bd3786\"],[0.5555555555555556,\"#d8576b\"],[0.6666666666666666,\"#ed7953\"],[0.7777777777777778,\"#fb9f3a\"],[0.8888888888888888,\"#fdca26\"],[1.0,\"#f0f921\"]]}],\"heatmap\":[{\"type\":\"heatmap\",\"colorbar\":{\"outlinewidth\":0,\"ticks\":\"\"},\"colorscale\":[[0.0,\"#0d0887\"],[0.1111111111111111,\"#46039f\"],[0.2222222222222222,\"#7201a8\"],[0.3333333333333333,\"#9c179e\"],[0.4444444444444444,\"#bd3786\"],[0.5555555555555556,\"#d8576b\"],[0.6666666666666666,\"#ed7953\"],[0.7777777777777778,\"#fb9f3a\"],[0.8888888888888888,\"#fdca26\"],[1.0,\"#f0f921\"]]}],\"heatmapgl\":[{\"type\":\"heatmapgl\",\"colorbar\":{\"outlinewidth\":0,\"ticks\":\"\"},\"colorscale\":[[0.0,\"#0d0887\"],[0.1111111111111111,\"#46039f\"],[0.2222222222222222,\"#7201a8\"],[0.3333333333333333,\"#9c179e\"],[0.4444444444444444,\"#bd3786\"],[0.5555555555555556,\"#d8576b\"],[0.6666666666666666,\"#ed7953\"],[0.7777777777777778,\"#fb9f3a\"],[0.8888888888888888,\"#fdca26\"],[1.0,\"#f0f921\"]]}],\"contourcarpet\":[{\"type\":\"contourcarpet\",\"colorbar\":{\"outlinewidth\":0,\"ticks\":\"\"}}],\"contour\":[{\"type\":\"contour\",\"colorbar\":{\"outlinewidth\":0,\"ticks\":\"\"},\"colorscale\":[[0.0,\"#0d0887\"],[0.1111111111111111,\"#46039f\"],[0.2222222222222222,\"#7201a8\"],[0.3333333333333333,\"#9c179e\"],[0.4444444444444444,\"#bd3786\"],[0.5555555555555556,\"#d8576b\"],[0.6666666666666666,\"#ed7953\"],[0.7777777777777778,\"#fb9f3a\"],[0.8888888888888888,\"#fdca26\"],[1.0,\"#f0f921\"]]}],\"surface\":[{\"type\":\"surface\",\"colorbar\":{\"outlinewidth\":0,\"ticks\":\"\"},\"colorscale\":[[0.0,\"#0d0887\"],[0.1111111111111111,\"#46039f\"],[0.2222222222222222,\"#7201a8\"],[0.3333333333333333,\"#9c179e\"],[0.4444444444444444,\"#bd3786\"],[0.5555555555555556,\"#d8576b\"],[0.6666666666666666,\"#ed7953\"],[0.7777777777777778,\"#fb9f3a\"],[0.8888888888888888,\"#fdca26\"],[1.0,\"#f0f921\"]]}],\"mesh3d\":[{\"type\":\"mesh3d\",\"colorbar\":{\"outlinewidth\":0,\"ticks\":\"\"}}],\"scatter\":[{\"marker\":{\"line\":{\"color\":\"#283442\"}},\"type\":\"scatter\"}],\"parcoords\":[{\"type\":\"parcoords\",\"line\":{\"colorbar\":{\"outlinewidth\":0,\"ticks\":\"\"}}}],\"scatterpolargl\":[{\"type\":\"scatterpolargl\",\"marker\":{\"colorbar\":{\"outlinewidth\":0,\"ticks\":\"\"}}}],\"bar\":[{\"error_x\":{\"color\":\"#f2f5fa\"},\"error_y\":{\"color\":\"#f2f5fa\"},\"marker\":{\"line\":{\"color\":\"rgb(17,17,17)\",\"width\":0.5},\"pattern\":{\"fillmode\":\"overlay\",\"size\":10,\"solidity\":0.2}},\"type\":\"bar\"}],\"scattergeo\":[{\"type\":\"scattergeo\",\"marker\":{\"colorbar\":{\"outlinewidth\":0,\"ticks\":\"\"}}}],\"scatterpolar\":[{\"type\":\"scatterpolar\",\"marker\":{\"colorbar\":{\"outlinewidth\":0,\"ticks\":\"\"}}}],\"histogram\":[{\"marker\":{\"pattern\":{\"fillmode\":\"overlay\",\"size\":10,\"solidity\":0.2}},\"type\":\"histogram\"}],\"scattergl\":[{\"marker\":{\"line\":{\"color\":\"#283442\"}},\"type\":\"scattergl\"}],\"scatter3d\":[{\"type\":\"scatter3d\",\"line\":{\"colorbar\":{\"outlinewidth\":0,\"ticks\":\"\"}},\"marker\":{\"colorbar\":{\"outlinewidth\":0,\"ticks\":\"\"}}}],\"scattermapbox\":[{\"type\":\"scattermapbox\",\"marker\":{\"colorbar\":{\"outlinewidth\":0,\"ticks\":\"\"}}}],\"scatterternary\":[{\"type\":\"scatterternary\",\"marker\":{\"colorbar\":{\"outlinewidth\":0,\"ticks\":\"\"}}}],\"scattercarpet\":[{\"type\":\"scattercarpet\",\"marker\":{\"colorbar\":{\"outlinewidth\":0,\"ticks\":\"\"}}}],\"carpet\":[{\"aaxis\":{\"endlinecolor\":\"#A2B1C6\",\"gridcolor\":\"#506784\",\"linecolor\":\"#506784\",\"minorgridcolor\":\"#506784\",\"startlinecolor\":\"#A2B1C6\"},\"baxis\":{\"endlinecolor\":\"#A2B1C6\",\"gridcolor\":\"#506784\",\"linecolor\":\"#506784\",\"minorgridcolor\":\"#506784\",\"startlinecolor\":\"#A2B1C6\"},\"type\":\"carpet\"}],\"table\":[{\"cells\":{\"fill\":{\"color\":\"#506784\"},\"line\":{\"color\":\"rgb(17,17,17)\"}},\"header\":{\"fill\":{\"color\":\"#2a3f5f\"},\"line\":{\"color\":\"rgb(17,17,17)\"}},\"type\":\"table\"}],\"barpolar\":[{\"marker\":{\"line\":{\"color\":\"rgb(17,17,17)\",\"width\":0.5},\"pattern\":{\"fillmode\":\"overlay\",\"size\":10,\"solidity\":0.2}},\"type\":\"barpolar\"}],\"pie\":[{\"automargin\":true,\"type\":\"pie\"}]},\"layout\":{\"autotypenumbers\":\"strict\",\"colorway\":[\"#636efa\",\"#EF553B\",\"#00cc96\",\"#ab63fa\",\"#FFA15A\",\"#19d3f3\",\"#FF6692\",\"#B6E880\",\"#FF97FF\",\"#FECB52\"],\"font\":{\"color\":\"#f2f5fa\"},\"hovermode\":\"closest\",\"hoverlabel\":{\"align\":\"left\"},\"paper_bgcolor\":\"rgb(17,17,17)\",\"plot_bgcolor\":\"rgb(17,17,17)\",\"polar\":{\"bgcolor\":\"rgb(17,17,17)\",\"angularaxis\":{\"gridcolor\":\"#506784\",\"linecolor\":\"#506784\",\"ticks\":\"\"},\"radialaxis\":{\"gridcolor\":\"#506784\",\"linecolor\":\"#506784\",\"ticks\":\"\"}},\"ternary\":{\"bgcolor\":\"rgb(17,17,17)\",\"aaxis\":{\"gridcolor\":\"#506784\",\"linecolor\":\"#506784\",\"ticks\":\"\"},\"baxis\":{\"gridcolor\":\"#506784\",\"linecolor\":\"#506784\",\"ticks\":\"\"},\"caxis\":{\"gridcolor\":\"#506784\",\"linecolor\":\"#506784\",\"ticks\":\"\"}},\"coloraxis\":{\"colorbar\":{\"outlinewidth\":0,\"ticks\":\"\"}},\"colorscale\":{\"sequential\":[[0.0,\"#0d0887\"],[0.1111111111111111,\"#46039f\"],[0.2222222222222222,\"#7201a8\"],[0.3333333333333333,\"#9c179e\"],[0.4444444444444444,\"#bd3786\"],[0.5555555555555556,\"#d8576b\"],[0.6666666666666666,\"#ed7953\"],[0.7777777777777778,\"#fb9f3a\"],[0.8888888888888888,\"#fdca26\"],[1.0,\"#f0f921\"]],\"sequentialminus\":[[0.0,\"#0d0887\"],[0.1111111111111111,\"#46039f\"],[0.2222222222222222,\"#7201a8\"],[0.3333333333333333,\"#9c179e\"],[0.4444444444444444,\"#bd3786\"],[0.5555555555555556,\"#d8576b\"],[0.6666666666666666,\"#ed7953\"],[0.7777777777777778,\"#fb9f3a\"],[0.8888888888888888,\"#fdca26\"],[1.0,\"#f0f921\"]],\"diverging\":[[0,\"#8e0152\"],[0.1,\"#c51b7d\"],[0.2,\"#de77ae\"],[0.3,\"#f1b6da\"],[0.4,\"#fde0ef\"],[0.5,\"#f7f7f7\"],[0.6,\"#e6f5d0\"],[0.7,\"#b8e186\"],[0.8,\"#7fbc41\"],[0.9,\"#4d9221\"],[1,\"#276419\"]]},\"xaxis\":{\"gridcolor\":\"#283442\",\"linecolor\":\"#506784\",\"ticks\":\"\",\"title\":{\"standoff\":15},\"zerolinecolor\":\"#283442\",\"automargin\":true,\"zerolinewidth\":2},\"yaxis\":{\"gridcolor\":\"#283442\",\"linecolor\":\"#506784\",\"ticks\":\"\",\"title\":{\"standoff\":15},\"zerolinecolor\":\"#283442\",\"automargin\":true,\"zerolinewidth\":2},\"scene\":{\"xaxis\":{\"backgroundcolor\":\"rgb(17,17,17)\",\"gridcolor\":\"#506784\",\"linecolor\":\"#506784\",\"showbackground\":true,\"ticks\":\"\",\"zerolinecolor\":\"#C8D4E3\",\"gridwidth\":2},\"yaxis\":{\"backgroundcolor\":\"rgb(17,17,17)\",\"gridcolor\":\"#506784\",\"linecolor\":\"#506784\",\"showbackground\":true,\"ticks\":\"\",\"zerolinecolor\":\"#C8D4E3\",\"gridwidth\":2},\"zaxis\":{\"backgroundcolor\":\"rgb(17,17,17)\",\"gridcolor\":\"#506784\",\"linecolor\":\"#506784\",\"showbackground\":true,\"ticks\":\"\",\"zerolinecolor\":\"#C8D4E3\",\"gridwidth\":2}},\"shapedefaults\":{\"line\":{\"color\":\"#f2f5fa\"}},\"annotationdefaults\":{\"arrowcolor\":\"#f2f5fa\",\"arrowhead\":0,\"arrowwidth\":1},\"geo\":{\"bgcolor\":\"rgb(17,17,17)\",\"landcolor\":\"rgb(17,17,17)\",\"subunitcolor\":\"#506784\",\"showland\":true,\"showlakes\":true,\"lakecolor\":\"rgb(17,17,17)\"},\"title\":{\"x\":0.05},\"updatemenudefaults\":{\"bgcolor\":\"#506784\",\"borderwidth\":0},\"sliderdefaults\":{\"bgcolor\":\"#C8D4E3\",\"borderwidth\":1,\"bordercolor\":\"rgb(17,17,17)\",\"tickwidth\":0},\"mapbox\":{\"style\":\"dark\"}}},\"title\":{\"font\":{\"size\":13,\"color\":\"white\"},\"text\":\"Candlestick Chart for ticker: RTX<br>From: 2023-01-01<br>To: 2024-01-29\"},\"legend\":{\"yanchor\":\"top\",\"y\":0.99,\"xanchor\":\"left\",\"x\":0.01},\"xaxis\":{\"showgrid\":false,\"gridcolor\":\"#2A2E31\",\"gridwidth\":0.1,\"zeroline\":false,\"zerolinecolor\":\"turquoise\",\"zerolinewidth\":1},\"yaxis\":{\"showgrid\":true,\"gridcolor\":\"#2A2E31\",\"gridwidth\":0.1,\"zeroline\":true,\"zerolinecolor\":\"turquoise\",\"zerolinewidth\":1},\"font\":{\"color\":\"white\",\"size\":12},\"showlegend\":true,\"autosize\":false,\"width\":1200,\"height\":600,\"plot_bgcolor\":\"black\",\"paper_bgcolor\":\"rgba(0,0,0,0)\"},                        {\"responsive\": true}                    ).then(function(){\n                            \nvar gd = document.getElementById('fbd131ed-1332-451b-8349-9d1150cb4696');\nvar x = new MutationObserver(function (mutations, observer) {{\n        var display = window.getComputedStyle(gd).display;\n        if (!display || display === 'none') {{\n            console.log([gd, 'removed!']);\n            Plotly.purge(gd);\n            observer.disconnect();\n        }}\n}});\n\n// Listen for the removal of the full notebook cells\nvar notebookContainer = gd.closest('#notebook-container');\nif (notebookContainer) {{\n    x.observe(notebookContainer, {childList: true});\n}}\n\n// Listen for the clearing of the current output cell\nvar outputEl = gd.closest('.output');\nif (outputEl) {{\n    x.observe(outputEl, {childList: true});\n}}\n\n                        })                };                });            </script>        </div>"
     },
     "metadata": {},
     "output_type": "display_data"
    }
   ],
   "source": [
    "fig2 = go.Figure(data=[go.Candlestick(x=slice_data.index,\n",
    "                                      open=slice_data['open'],\n",
    "                                      high=slice_data['high'],\n",
    "                                      low=slice_data['low'],\n",
    "                                      close=slice_data['close'])])\n",
    "\n",
    "# Copy the layout from the old chart, adjust title\n",
    "fig2.update_layout(showlegend=True,\n",
    "                   autosize=False,\n",
    "                   title_text=f'Candlestick Chart for ticker: {TICKER}<br>From: {DATE_FROM}<br>To: {DATE_TO}',\n",
    "                   title_font=dict(size=13, color='white'),\n",
    "                   legend=dict(\n",
    "                       yanchor=\"top\",\n",
    "                       y=0.99,\n",
    "                       xanchor=\"left\",\n",
    "                       x=0.01\n",
    "                   ),\n",
    "                   width=1200,\n",
    "                   height=600,\n",
    "                   plot_bgcolor='black',\n",
    "                   paper_bgcolor='rgba(0,0,0,0)',  # this removes the color of the border around the plot\n",
    "                   xaxis=dict(showgrid=False, gridcolor='#2A2E31', gridwidth=0.1, zeroline=False,\n",
    "                              zerolinecolor='turquoise',\n",
    "                              zerolinewidth=1),\n",
    "                   yaxis=dict(showgrid=True, gridcolor='#2A2E31', gridwidth=0.1, zeroline=True,\n",
    "                              zerolinecolor='turquoise',\n",
    "                              zerolinewidth=1),\n",
    "                   font=dict(color='white', size=12))\n",
    "\n",
    "fig2.show()"
   ],
   "metadata": {
    "collapsed": false,
    "ExecuteTime": {
     "end_time": "2024-02-01T15:28:26.302379600Z",
     "start_time": "2024-02-01T15:28:26.263345200Z"
    }
   },
   "id": "369a2b6082bcf630",
   "execution_count": 38
  },
  {
   "cell_type": "code",
   "outputs": [],
   "source": [],
   "metadata": {
    "collapsed": false
   },
   "id": "43842aa94629d980"
  }
 ],
 "metadata": {
  "kernelspec": {
   "display_name": "Python 3",
   "language": "python",
   "name": "python3"
  },
  "language_info": {
   "codemirror_mode": {
    "name": "ipython",
    "version": 2
   },
   "file_extension": ".py",
   "mimetype": "text/x-python",
   "name": "python",
   "nbconvert_exporter": "python",
   "pygments_lexer": "ipython2",
   "version": "2.7.6"
  }
 },
 "nbformat": 4,
 "nbformat_minor": 5
}
